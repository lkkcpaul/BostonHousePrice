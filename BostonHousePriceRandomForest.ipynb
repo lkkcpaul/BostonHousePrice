{
  "nbformat": 4,
  "nbformat_minor": 0,
  "metadata": {
    "colab": {
      "provenance": [],
      "gpuType": "T4",
      "authorship_tag": "ABX9TyNNkXBmGt2lMp66QHxbh8jU",
      "include_colab_link": true
    },
    "kernelspec": {
      "name": "python3",
      "display_name": "Python 3"
    },
    "language_info": {
      "name": "python"
    },
    "accelerator": "GPU",
    "gpuClass": "standard"
  },
  "cells": [
    {
      "cell_type": "markdown",
      "metadata": {
        "id": "view-in-github",
        "colab_type": "text"
      },
      "source": [
        "<a href=\"https://colab.research.google.com/github/lkkcpaul/BostonHousePrice/blob/main/BostonHousePriceRandomForest.ipynb\" target=\"_parent\"><img src=\"https://colab.research.google.com/assets/colab-badge.svg\" alt=\"Open In Colab\"/></a>"
      ]
    },
    {
      "cell_type": "code",
      "source": [],
      "metadata": {
        "id": "F-p81hVRyRDg"
      },
      "execution_count": null,
      "outputs": []
    },
    {
      "cell_type": "markdown",
      "source": [
        "# Load and preprocess data"
      ],
      "metadata": {
        "id": "3Hq33HvSyPPz"
      }
    },
    {
      "cell_type": "code",
      "execution_count": 1,
      "metadata": {
        "id": "K_42QOpAWAwY"
      },
      "outputs": [],
      "source": [
        "import pandas as pd\n",
        "import seaborn as sns\n",
        "import matplotlib.pyplot as plt\n",
        "import numpy as np\n",
        "from sklearn.metrics import mean_squared_error\n",
        "# Comment this if the data visualisations doesn't work on your side\n",
        "%matplotlib inline"
      ]
    },
    {
      "cell_type": "code",
      "source": [
        "train_file_url = \"https://raw.githubusercontent.com/lkkcpaul/BostonHousePrice/main/train.csv\"\n",
        "dataset_df = pd.read_csv(train_file_url)\n",
        "print(\"Full train dataset shape is {}\".format(dataset_df.shape))"
      ],
      "metadata": {
        "colab": {
          "base_uri": "https://localhost:8080/"
        },
        "id": "dFGlTpWcWN-k",
        "outputId": "6339e386-8252-4812-f36d-43d3f83e937b"
      },
      "execution_count": 2,
      "outputs": [
        {
          "output_type": "stream",
          "name": "stdout",
          "text": [
            "Full train dataset shape is (1460, 81)\n"
          ]
        }
      ]
    },
    {
      "cell_type": "code",
      "source": [
        "dataset_df.head(5)"
      ],
      "metadata": {
        "colab": {
          "base_uri": "https://localhost:8080/",
          "height": 299
        },
        "id": "9nLH-ImrWU1Q",
        "outputId": "59c4778c-18cc-4c57-c04b-b8a9f0254865"
      },
      "execution_count": 3,
      "outputs": [
        {
          "output_type": "execute_result",
          "data": {
            "text/plain": [
              "   Id  MSSubClass MSZoning  LotFrontage  LotArea Street Alley LotShape  \\\n",
              "0   1          60       RL         65.0     8450   Pave   NaN      Reg   \n",
              "1   2          20       RL         80.0     9600   Pave   NaN      Reg   \n",
              "2   3          60       RL         68.0    11250   Pave   NaN      IR1   \n",
              "3   4          70       RL         60.0     9550   Pave   NaN      IR1   \n",
              "4   5          60       RL         84.0    14260   Pave   NaN      IR1   \n",
              "\n",
              "  LandContour Utilities  ... PoolArea PoolQC Fence MiscFeature MiscVal MoSold  \\\n",
              "0         Lvl    AllPub  ...        0    NaN   NaN         NaN       0      2   \n",
              "1         Lvl    AllPub  ...        0    NaN   NaN         NaN       0      5   \n",
              "2         Lvl    AllPub  ...        0    NaN   NaN         NaN       0      9   \n",
              "3         Lvl    AllPub  ...        0    NaN   NaN         NaN       0      2   \n",
              "4         Lvl    AllPub  ...        0    NaN   NaN         NaN       0     12   \n",
              "\n",
              "  YrSold  SaleType  SaleCondition  SalePrice  \n",
              "0   2008        WD         Normal     208500  \n",
              "1   2007        WD         Normal     181500  \n",
              "2   2008        WD         Normal     223500  \n",
              "3   2006        WD        Abnorml     140000  \n",
              "4   2008        WD         Normal     250000  \n",
              "\n",
              "[5 rows x 81 columns]"
            ],
            "text/html": [
              "\n",
              "  <div id=\"df-aa7a02cf-e253-48c5-b1b9-90b5917f76a3\">\n",
              "    <div class=\"colab-df-container\">\n",
              "      <div>\n",
              "<style scoped>\n",
              "    .dataframe tbody tr th:only-of-type {\n",
              "        vertical-align: middle;\n",
              "    }\n",
              "\n",
              "    .dataframe tbody tr th {\n",
              "        vertical-align: top;\n",
              "    }\n",
              "\n",
              "    .dataframe thead th {\n",
              "        text-align: right;\n",
              "    }\n",
              "</style>\n",
              "<table border=\"1\" class=\"dataframe\">\n",
              "  <thead>\n",
              "    <tr style=\"text-align: right;\">\n",
              "      <th></th>\n",
              "      <th>Id</th>\n",
              "      <th>MSSubClass</th>\n",
              "      <th>MSZoning</th>\n",
              "      <th>LotFrontage</th>\n",
              "      <th>LotArea</th>\n",
              "      <th>Street</th>\n",
              "      <th>Alley</th>\n",
              "      <th>LotShape</th>\n",
              "      <th>LandContour</th>\n",
              "      <th>Utilities</th>\n",
              "      <th>...</th>\n",
              "      <th>PoolArea</th>\n",
              "      <th>PoolQC</th>\n",
              "      <th>Fence</th>\n",
              "      <th>MiscFeature</th>\n",
              "      <th>MiscVal</th>\n",
              "      <th>MoSold</th>\n",
              "      <th>YrSold</th>\n",
              "      <th>SaleType</th>\n",
              "      <th>SaleCondition</th>\n",
              "      <th>SalePrice</th>\n",
              "    </tr>\n",
              "  </thead>\n",
              "  <tbody>\n",
              "    <tr>\n",
              "      <th>0</th>\n",
              "      <td>1</td>\n",
              "      <td>60</td>\n",
              "      <td>RL</td>\n",
              "      <td>65.0</td>\n",
              "      <td>8450</td>\n",
              "      <td>Pave</td>\n",
              "      <td>NaN</td>\n",
              "      <td>Reg</td>\n",
              "      <td>Lvl</td>\n",
              "      <td>AllPub</td>\n",
              "      <td>...</td>\n",
              "      <td>0</td>\n",
              "      <td>NaN</td>\n",
              "      <td>NaN</td>\n",
              "      <td>NaN</td>\n",
              "      <td>0</td>\n",
              "      <td>2</td>\n",
              "      <td>2008</td>\n",
              "      <td>WD</td>\n",
              "      <td>Normal</td>\n",
              "      <td>208500</td>\n",
              "    </tr>\n",
              "    <tr>\n",
              "      <th>1</th>\n",
              "      <td>2</td>\n",
              "      <td>20</td>\n",
              "      <td>RL</td>\n",
              "      <td>80.0</td>\n",
              "      <td>9600</td>\n",
              "      <td>Pave</td>\n",
              "      <td>NaN</td>\n",
              "      <td>Reg</td>\n",
              "      <td>Lvl</td>\n",
              "      <td>AllPub</td>\n",
              "      <td>...</td>\n",
              "      <td>0</td>\n",
              "      <td>NaN</td>\n",
              "      <td>NaN</td>\n",
              "      <td>NaN</td>\n",
              "      <td>0</td>\n",
              "      <td>5</td>\n",
              "      <td>2007</td>\n",
              "      <td>WD</td>\n",
              "      <td>Normal</td>\n",
              "      <td>181500</td>\n",
              "    </tr>\n",
              "    <tr>\n",
              "      <th>2</th>\n",
              "      <td>3</td>\n",
              "      <td>60</td>\n",
              "      <td>RL</td>\n",
              "      <td>68.0</td>\n",
              "      <td>11250</td>\n",
              "      <td>Pave</td>\n",
              "      <td>NaN</td>\n",
              "      <td>IR1</td>\n",
              "      <td>Lvl</td>\n",
              "      <td>AllPub</td>\n",
              "      <td>...</td>\n",
              "      <td>0</td>\n",
              "      <td>NaN</td>\n",
              "      <td>NaN</td>\n",
              "      <td>NaN</td>\n",
              "      <td>0</td>\n",
              "      <td>9</td>\n",
              "      <td>2008</td>\n",
              "      <td>WD</td>\n",
              "      <td>Normal</td>\n",
              "      <td>223500</td>\n",
              "    </tr>\n",
              "    <tr>\n",
              "      <th>3</th>\n",
              "      <td>4</td>\n",
              "      <td>70</td>\n",
              "      <td>RL</td>\n",
              "      <td>60.0</td>\n",
              "      <td>9550</td>\n",
              "      <td>Pave</td>\n",
              "      <td>NaN</td>\n",
              "      <td>IR1</td>\n",
              "      <td>Lvl</td>\n",
              "      <td>AllPub</td>\n",
              "      <td>...</td>\n",
              "      <td>0</td>\n",
              "      <td>NaN</td>\n",
              "      <td>NaN</td>\n",
              "      <td>NaN</td>\n",
              "      <td>0</td>\n",
              "      <td>2</td>\n",
              "      <td>2006</td>\n",
              "      <td>WD</td>\n",
              "      <td>Abnorml</td>\n",
              "      <td>140000</td>\n",
              "    </tr>\n",
              "    <tr>\n",
              "      <th>4</th>\n",
              "      <td>5</td>\n",
              "      <td>60</td>\n",
              "      <td>RL</td>\n",
              "      <td>84.0</td>\n",
              "      <td>14260</td>\n",
              "      <td>Pave</td>\n",
              "      <td>NaN</td>\n",
              "      <td>IR1</td>\n",
              "      <td>Lvl</td>\n",
              "      <td>AllPub</td>\n",
              "      <td>...</td>\n",
              "      <td>0</td>\n",
              "      <td>NaN</td>\n",
              "      <td>NaN</td>\n",
              "      <td>NaN</td>\n",
              "      <td>0</td>\n",
              "      <td>12</td>\n",
              "      <td>2008</td>\n",
              "      <td>WD</td>\n",
              "      <td>Normal</td>\n",
              "      <td>250000</td>\n",
              "    </tr>\n",
              "  </tbody>\n",
              "</table>\n",
              "<p>5 rows × 81 columns</p>\n",
              "</div>\n",
              "      <button class=\"colab-df-convert\" onclick=\"convertToInteractive('df-aa7a02cf-e253-48c5-b1b9-90b5917f76a3')\"\n",
              "              title=\"Convert this dataframe to an interactive table.\"\n",
              "              style=\"display:none;\">\n",
              "        \n",
              "  <svg xmlns=\"http://www.w3.org/2000/svg\" height=\"24px\"viewBox=\"0 0 24 24\"\n",
              "       width=\"24px\">\n",
              "    <path d=\"M0 0h24v24H0V0z\" fill=\"none\"/>\n",
              "    <path d=\"M18.56 5.44l.94 2.06.94-2.06 2.06-.94-2.06-.94-.94-2.06-.94 2.06-2.06.94zm-11 1L8.5 8.5l.94-2.06 2.06-.94-2.06-.94L8.5 2.5l-.94 2.06-2.06.94zm10 10l.94 2.06.94-2.06 2.06-.94-2.06-.94-.94-2.06-.94 2.06-2.06.94z\"/><path d=\"M17.41 7.96l-1.37-1.37c-.4-.4-.92-.59-1.43-.59-.52 0-1.04.2-1.43.59L10.3 9.45l-7.72 7.72c-.78.78-.78 2.05 0 2.83L4 21.41c.39.39.9.59 1.41.59.51 0 1.02-.2 1.41-.59l7.78-7.78 2.81-2.81c.8-.78.8-2.07 0-2.86zM5.41 20L4 18.59l7.72-7.72 1.47 1.35L5.41 20z\"/>\n",
              "  </svg>\n",
              "      </button>\n",
              "      \n",
              "  <style>\n",
              "    .colab-df-container {\n",
              "      display:flex;\n",
              "      flex-wrap:wrap;\n",
              "      gap: 12px;\n",
              "    }\n",
              "\n",
              "    .colab-df-convert {\n",
              "      background-color: #E8F0FE;\n",
              "      border: none;\n",
              "      border-radius: 50%;\n",
              "      cursor: pointer;\n",
              "      display: none;\n",
              "      fill: #1967D2;\n",
              "      height: 32px;\n",
              "      padding: 0 0 0 0;\n",
              "      width: 32px;\n",
              "    }\n",
              "\n",
              "    .colab-df-convert:hover {\n",
              "      background-color: #E2EBFA;\n",
              "      box-shadow: 0px 1px 2px rgba(60, 64, 67, 0.3), 0px 1px 3px 1px rgba(60, 64, 67, 0.15);\n",
              "      fill: #174EA6;\n",
              "    }\n",
              "\n",
              "    [theme=dark] .colab-df-convert {\n",
              "      background-color: #3B4455;\n",
              "      fill: #D2E3FC;\n",
              "    }\n",
              "\n",
              "    [theme=dark] .colab-df-convert:hover {\n",
              "      background-color: #434B5C;\n",
              "      box-shadow: 0px 1px 3px 1px rgba(0, 0, 0, 0.15);\n",
              "      filter: drop-shadow(0px 1px 2px rgba(0, 0, 0, 0.3));\n",
              "      fill: #FFFFFF;\n",
              "    }\n",
              "  </style>\n",
              "\n",
              "      <script>\n",
              "        const buttonEl =\n",
              "          document.querySelector('#df-aa7a02cf-e253-48c5-b1b9-90b5917f76a3 button.colab-df-convert');\n",
              "        buttonEl.style.display =\n",
              "          google.colab.kernel.accessAllowed ? 'block' : 'none';\n",
              "\n",
              "        async function convertToInteractive(key) {\n",
              "          const element = document.querySelector('#df-aa7a02cf-e253-48c5-b1b9-90b5917f76a3');\n",
              "          const dataTable =\n",
              "            await google.colab.kernel.invokeFunction('convertToInteractive',\n",
              "                                                     [key], {});\n",
              "          if (!dataTable) return;\n",
              "\n",
              "          const docLinkHtml = 'Like what you see? Visit the ' +\n",
              "            '<a target=\"_blank\" href=https://colab.research.google.com/notebooks/data_table.ipynb>data table notebook</a>'\n",
              "            + ' to learn more about interactive tables.';\n",
              "          element.innerHTML = '';\n",
              "          dataTable['output_type'] = 'display_data';\n",
              "          await google.colab.output.renderOutput(dataTable, element);\n",
              "          const docLink = document.createElement('div');\n",
              "          docLink.innerHTML = docLinkHtml;\n",
              "          element.appendChild(docLink);\n",
              "        }\n",
              "      </script>\n",
              "    </div>\n",
              "  </div>\n",
              "  "
            ]
          },
          "metadata": {},
          "execution_count": 3
        }
      ]
    },
    {
      "cell_type": "code",
      "source": [
        "dataset_df.info()"
      ],
      "metadata": {
        "colab": {
          "base_uri": "https://localhost:8080/"
        },
        "id": "epnp_hOrWpCj",
        "outputId": "014d52a3-5a86-4f29-8cf8-414c3b0ff8da"
      },
      "execution_count": 4,
      "outputs": [
        {
          "output_type": "stream",
          "name": "stdout",
          "text": [
            "<class 'pandas.core.frame.DataFrame'>\n",
            "RangeIndex: 1460 entries, 0 to 1459\n",
            "Data columns (total 81 columns):\n",
            " #   Column         Non-Null Count  Dtype  \n",
            "---  ------         --------------  -----  \n",
            " 0   Id             1460 non-null   int64  \n",
            " 1   MSSubClass     1460 non-null   int64  \n",
            " 2   MSZoning       1460 non-null   object \n",
            " 3   LotFrontage    1201 non-null   float64\n",
            " 4   LotArea        1460 non-null   int64  \n",
            " 5   Street         1460 non-null   object \n",
            " 6   Alley          91 non-null     object \n",
            " 7   LotShape       1460 non-null   object \n",
            " 8   LandContour    1460 non-null   object \n",
            " 9   Utilities      1460 non-null   object \n",
            " 10  LotConfig      1460 non-null   object \n",
            " 11  LandSlope      1460 non-null   object \n",
            " 12  Neighborhood   1460 non-null   object \n",
            " 13  Condition1     1460 non-null   object \n",
            " 14  Condition2     1460 non-null   object \n",
            " 15  BldgType       1460 non-null   object \n",
            " 16  HouseStyle     1460 non-null   object \n",
            " 17  OverallQual    1460 non-null   int64  \n",
            " 18  OverallCond    1460 non-null   int64  \n",
            " 19  YearBuilt      1460 non-null   int64  \n",
            " 20  YearRemodAdd   1460 non-null   int64  \n",
            " 21  RoofStyle      1460 non-null   object \n",
            " 22  RoofMatl       1460 non-null   object \n",
            " 23  Exterior1st    1460 non-null   object \n",
            " 24  Exterior2nd    1460 non-null   object \n",
            " 25  MasVnrType     1452 non-null   object \n",
            " 26  MasVnrArea     1452 non-null   float64\n",
            " 27  ExterQual      1460 non-null   object \n",
            " 28  ExterCond      1460 non-null   object \n",
            " 29  Foundation     1460 non-null   object \n",
            " 30  BsmtQual       1423 non-null   object \n",
            " 31  BsmtCond       1423 non-null   object \n",
            " 32  BsmtExposure   1422 non-null   object \n",
            " 33  BsmtFinType1   1423 non-null   object \n",
            " 34  BsmtFinSF1     1460 non-null   int64  \n",
            " 35  BsmtFinType2   1422 non-null   object \n",
            " 36  BsmtFinSF2     1460 non-null   int64  \n",
            " 37  BsmtUnfSF      1460 non-null   int64  \n",
            " 38  TotalBsmtSF    1460 non-null   int64  \n",
            " 39  Heating        1460 non-null   object \n",
            " 40  HeatingQC      1460 non-null   object \n",
            " 41  CentralAir     1460 non-null   object \n",
            " 42  Electrical     1459 non-null   object \n",
            " 43  1stFlrSF       1460 non-null   int64  \n",
            " 44  2ndFlrSF       1460 non-null   int64  \n",
            " 45  LowQualFinSF   1460 non-null   int64  \n",
            " 46  GrLivArea      1460 non-null   int64  \n",
            " 47  BsmtFullBath   1460 non-null   int64  \n",
            " 48  BsmtHalfBath   1460 non-null   int64  \n",
            " 49  FullBath       1460 non-null   int64  \n",
            " 50  HalfBath       1460 non-null   int64  \n",
            " 51  BedroomAbvGr   1460 non-null   int64  \n",
            " 52  KitchenAbvGr   1460 non-null   int64  \n",
            " 53  KitchenQual    1460 non-null   object \n",
            " 54  TotRmsAbvGrd   1460 non-null   int64  \n",
            " 55  Functional     1460 non-null   object \n",
            " 56  Fireplaces     1460 non-null   int64  \n",
            " 57  FireplaceQu    770 non-null    object \n",
            " 58  GarageType     1379 non-null   object \n",
            " 59  GarageYrBlt    1379 non-null   float64\n",
            " 60  GarageFinish   1379 non-null   object \n",
            " 61  GarageCars     1460 non-null   int64  \n",
            " 62  GarageArea     1460 non-null   int64  \n",
            " 63  GarageQual     1379 non-null   object \n",
            " 64  GarageCond     1379 non-null   object \n",
            " 65  PavedDrive     1460 non-null   object \n",
            " 66  WoodDeckSF     1460 non-null   int64  \n",
            " 67  OpenPorchSF    1460 non-null   int64  \n",
            " 68  EnclosedPorch  1460 non-null   int64  \n",
            " 69  3SsnPorch      1460 non-null   int64  \n",
            " 70  ScreenPorch    1460 non-null   int64  \n",
            " 71  PoolArea       1460 non-null   int64  \n",
            " 72  PoolQC         7 non-null      object \n",
            " 73  Fence          281 non-null    object \n",
            " 74  MiscFeature    54 non-null     object \n",
            " 75  MiscVal        1460 non-null   int64  \n",
            " 76  MoSold         1460 non-null   int64  \n",
            " 77  YrSold         1460 non-null   int64  \n",
            " 78  SaleType       1460 non-null   object \n",
            " 79  SaleCondition  1460 non-null   object \n",
            " 80  SalePrice      1460 non-null   int64  \n",
            "dtypes: float64(3), int64(35), object(43)\n",
            "memory usage: 924.0+ KB\n"
          ]
        }
      ]
    },
    {
      "cell_type": "code",
      "source": [
        "dataset_df.select_dtypes(include=np.number).describe().T"
      ],
      "metadata": {
        "colab": {
          "base_uri": "https://localhost:8080/",
          "height": 1000
        },
        "id": "6SnEo0NtyM5k",
        "outputId": "c0be4714-da10-4936-85b0-acf8e9da24a1"
      },
      "execution_count": 5,
      "outputs": [
        {
          "output_type": "execute_result",
          "data": {
            "text/plain": [
              "                count           mean           std      min        25%  \\\n",
              "Id             1460.0     730.500000    421.610009      1.0     365.75   \n",
              "MSSubClass     1460.0      56.897260     42.300571     20.0      20.00   \n",
              "LotFrontage    1201.0      70.049958     24.284752     21.0      59.00   \n",
              "LotArea        1460.0   10516.828082   9981.264932   1300.0    7553.50   \n",
              "OverallQual    1460.0       6.099315      1.382997      1.0       5.00   \n",
              "OverallCond    1460.0       5.575342      1.112799      1.0       5.00   \n",
              "YearBuilt      1460.0    1971.267808     30.202904   1872.0    1954.00   \n",
              "YearRemodAdd   1460.0    1984.865753     20.645407   1950.0    1967.00   \n",
              "MasVnrArea     1452.0     103.685262    181.066207      0.0       0.00   \n",
              "BsmtFinSF1     1460.0     443.639726    456.098091      0.0       0.00   \n",
              "BsmtFinSF2     1460.0      46.549315    161.319273      0.0       0.00   \n",
              "BsmtUnfSF      1460.0     567.240411    441.866955      0.0     223.00   \n",
              "TotalBsmtSF    1460.0    1057.429452    438.705324      0.0     795.75   \n",
              "1stFlrSF       1460.0    1162.626712    386.587738    334.0     882.00   \n",
              "2ndFlrSF       1460.0     346.992466    436.528436      0.0       0.00   \n",
              "LowQualFinSF   1460.0       5.844521     48.623081      0.0       0.00   \n",
              "GrLivArea      1460.0    1515.463699    525.480383    334.0    1129.50   \n",
              "BsmtFullBath   1460.0       0.425342      0.518911      0.0       0.00   \n",
              "BsmtHalfBath   1460.0       0.057534      0.238753      0.0       0.00   \n",
              "FullBath       1460.0       1.565068      0.550916      0.0       1.00   \n",
              "HalfBath       1460.0       0.382877      0.502885      0.0       0.00   \n",
              "BedroomAbvGr   1460.0       2.866438      0.815778      0.0       2.00   \n",
              "KitchenAbvGr   1460.0       1.046575      0.220338      0.0       1.00   \n",
              "TotRmsAbvGrd   1460.0       6.517808      1.625393      2.0       5.00   \n",
              "Fireplaces     1460.0       0.613014      0.644666      0.0       0.00   \n",
              "GarageYrBlt    1379.0    1978.506164     24.689725   1900.0    1961.00   \n",
              "GarageCars     1460.0       1.767123      0.747315      0.0       1.00   \n",
              "GarageArea     1460.0     472.980137    213.804841      0.0     334.50   \n",
              "WoodDeckSF     1460.0      94.244521    125.338794      0.0       0.00   \n",
              "OpenPorchSF    1460.0      46.660274     66.256028      0.0       0.00   \n",
              "EnclosedPorch  1460.0      21.954110     61.119149      0.0       0.00   \n",
              "3SsnPorch      1460.0       3.409589     29.317331      0.0       0.00   \n",
              "ScreenPorch    1460.0      15.060959     55.757415      0.0       0.00   \n",
              "PoolArea       1460.0       2.758904     40.177307      0.0       0.00   \n",
              "MiscVal        1460.0      43.489041    496.123024      0.0       0.00   \n",
              "MoSold         1460.0       6.321918      2.703626      1.0       5.00   \n",
              "YrSold         1460.0    2007.815753      1.328095   2006.0    2007.00   \n",
              "SalePrice      1460.0  180921.195890  79442.502883  34900.0  129975.00   \n",
              "\n",
              "                    50%        75%       max  \n",
              "Id                730.5    1095.25    1460.0  \n",
              "MSSubClass         50.0      70.00     190.0  \n",
              "LotFrontage        69.0      80.00     313.0  \n",
              "LotArea          9478.5   11601.50  215245.0  \n",
              "OverallQual         6.0       7.00      10.0  \n",
              "OverallCond         5.0       6.00       9.0  \n",
              "YearBuilt        1973.0    2000.00    2010.0  \n",
              "YearRemodAdd     1994.0    2004.00    2010.0  \n",
              "MasVnrArea          0.0     166.00    1600.0  \n",
              "BsmtFinSF1        383.5     712.25    5644.0  \n",
              "BsmtFinSF2          0.0       0.00    1474.0  \n",
              "BsmtUnfSF         477.5     808.00    2336.0  \n",
              "TotalBsmtSF       991.5    1298.25    6110.0  \n",
              "1stFlrSF         1087.0    1391.25    4692.0  \n",
              "2ndFlrSF            0.0     728.00    2065.0  \n",
              "LowQualFinSF        0.0       0.00     572.0  \n",
              "GrLivArea        1464.0    1776.75    5642.0  \n",
              "BsmtFullBath        0.0       1.00       3.0  \n",
              "BsmtHalfBath        0.0       0.00       2.0  \n",
              "FullBath            2.0       2.00       3.0  \n",
              "HalfBath            0.0       1.00       2.0  \n",
              "BedroomAbvGr        3.0       3.00       8.0  \n",
              "KitchenAbvGr        1.0       1.00       3.0  \n",
              "TotRmsAbvGrd        6.0       7.00      14.0  \n",
              "Fireplaces          1.0       1.00       3.0  \n",
              "GarageYrBlt      1980.0    2002.00    2010.0  \n",
              "GarageCars          2.0       2.00       4.0  \n",
              "GarageArea        480.0     576.00    1418.0  \n",
              "WoodDeckSF          0.0     168.00     857.0  \n",
              "OpenPorchSF        25.0      68.00     547.0  \n",
              "EnclosedPorch       0.0       0.00     552.0  \n",
              "3SsnPorch           0.0       0.00     508.0  \n",
              "ScreenPorch         0.0       0.00     480.0  \n",
              "PoolArea            0.0       0.00     738.0  \n",
              "MiscVal             0.0       0.00   15500.0  \n",
              "MoSold              6.0       8.00      12.0  \n",
              "YrSold           2008.0    2009.00    2010.0  \n",
              "SalePrice      163000.0  214000.00  755000.0  "
            ],
            "text/html": [
              "\n",
              "  <div id=\"df-2267c15e-39be-41db-b77d-45eee2601cd9\">\n",
              "    <div class=\"colab-df-container\">\n",
              "      <div>\n",
              "<style scoped>\n",
              "    .dataframe tbody tr th:only-of-type {\n",
              "        vertical-align: middle;\n",
              "    }\n",
              "\n",
              "    .dataframe tbody tr th {\n",
              "        vertical-align: top;\n",
              "    }\n",
              "\n",
              "    .dataframe thead th {\n",
              "        text-align: right;\n",
              "    }\n",
              "</style>\n",
              "<table border=\"1\" class=\"dataframe\">\n",
              "  <thead>\n",
              "    <tr style=\"text-align: right;\">\n",
              "      <th></th>\n",
              "      <th>count</th>\n",
              "      <th>mean</th>\n",
              "      <th>std</th>\n",
              "      <th>min</th>\n",
              "      <th>25%</th>\n",
              "      <th>50%</th>\n",
              "      <th>75%</th>\n",
              "      <th>max</th>\n",
              "    </tr>\n",
              "  </thead>\n",
              "  <tbody>\n",
              "    <tr>\n",
              "      <th>Id</th>\n",
              "      <td>1460.0</td>\n",
              "      <td>730.500000</td>\n",
              "      <td>421.610009</td>\n",
              "      <td>1.0</td>\n",
              "      <td>365.75</td>\n",
              "      <td>730.5</td>\n",
              "      <td>1095.25</td>\n",
              "      <td>1460.0</td>\n",
              "    </tr>\n",
              "    <tr>\n",
              "      <th>MSSubClass</th>\n",
              "      <td>1460.0</td>\n",
              "      <td>56.897260</td>\n",
              "      <td>42.300571</td>\n",
              "      <td>20.0</td>\n",
              "      <td>20.00</td>\n",
              "      <td>50.0</td>\n",
              "      <td>70.00</td>\n",
              "      <td>190.0</td>\n",
              "    </tr>\n",
              "    <tr>\n",
              "      <th>LotFrontage</th>\n",
              "      <td>1201.0</td>\n",
              "      <td>70.049958</td>\n",
              "      <td>24.284752</td>\n",
              "      <td>21.0</td>\n",
              "      <td>59.00</td>\n",
              "      <td>69.0</td>\n",
              "      <td>80.00</td>\n",
              "      <td>313.0</td>\n",
              "    </tr>\n",
              "    <tr>\n",
              "      <th>LotArea</th>\n",
              "      <td>1460.0</td>\n",
              "      <td>10516.828082</td>\n",
              "      <td>9981.264932</td>\n",
              "      <td>1300.0</td>\n",
              "      <td>7553.50</td>\n",
              "      <td>9478.5</td>\n",
              "      <td>11601.50</td>\n",
              "      <td>215245.0</td>\n",
              "    </tr>\n",
              "    <tr>\n",
              "      <th>OverallQual</th>\n",
              "      <td>1460.0</td>\n",
              "      <td>6.099315</td>\n",
              "      <td>1.382997</td>\n",
              "      <td>1.0</td>\n",
              "      <td>5.00</td>\n",
              "      <td>6.0</td>\n",
              "      <td>7.00</td>\n",
              "      <td>10.0</td>\n",
              "    </tr>\n",
              "    <tr>\n",
              "      <th>OverallCond</th>\n",
              "      <td>1460.0</td>\n",
              "      <td>5.575342</td>\n",
              "      <td>1.112799</td>\n",
              "      <td>1.0</td>\n",
              "      <td>5.00</td>\n",
              "      <td>5.0</td>\n",
              "      <td>6.00</td>\n",
              "      <td>9.0</td>\n",
              "    </tr>\n",
              "    <tr>\n",
              "      <th>YearBuilt</th>\n",
              "      <td>1460.0</td>\n",
              "      <td>1971.267808</td>\n",
              "      <td>30.202904</td>\n",
              "      <td>1872.0</td>\n",
              "      <td>1954.00</td>\n",
              "      <td>1973.0</td>\n",
              "      <td>2000.00</td>\n",
              "      <td>2010.0</td>\n",
              "    </tr>\n",
              "    <tr>\n",
              "      <th>YearRemodAdd</th>\n",
              "      <td>1460.0</td>\n",
              "      <td>1984.865753</td>\n",
              "      <td>20.645407</td>\n",
              "      <td>1950.0</td>\n",
              "      <td>1967.00</td>\n",
              "      <td>1994.0</td>\n",
              "      <td>2004.00</td>\n",
              "      <td>2010.0</td>\n",
              "    </tr>\n",
              "    <tr>\n",
              "      <th>MasVnrArea</th>\n",
              "      <td>1452.0</td>\n",
              "      <td>103.685262</td>\n",
              "      <td>181.066207</td>\n",
              "      <td>0.0</td>\n",
              "      <td>0.00</td>\n",
              "      <td>0.0</td>\n",
              "      <td>166.00</td>\n",
              "      <td>1600.0</td>\n",
              "    </tr>\n",
              "    <tr>\n",
              "      <th>BsmtFinSF1</th>\n",
              "      <td>1460.0</td>\n",
              "      <td>443.639726</td>\n",
              "      <td>456.098091</td>\n",
              "      <td>0.0</td>\n",
              "      <td>0.00</td>\n",
              "      <td>383.5</td>\n",
              "      <td>712.25</td>\n",
              "      <td>5644.0</td>\n",
              "    </tr>\n",
              "    <tr>\n",
              "      <th>BsmtFinSF2</th>\n",
              "      <td>1460.0</td>\n",
              "      <td>46.549315</td>\n",
              "      <td>161.319273</td>\n",
              "      <td>0.0</td>\n",
              "      <td>0.00</td>\n",
              "      <td>0.0</td>\n",
              "      <td>0.00</td>\n",
              "      <td>1474.0</td>\n",
              "    </tr>\n",
              "    <tr>\n",
              "      <th>BsmtUnfSF</th>\n",
              "      <td>1460.0</td>\n",
              "      <td>567.240411</td>\n",
              "      <td>441.866955</td>\n",
              "      <td>0.0</td>\n",
              "      <td>223.00</td>\n",
              "      <td>477.5</td>\n",
              "      <td>808.00</td>\n",
              "      <td>2336.0</td>\n",
              "    </tr>\n",
              "    <tr>\n",
              "      <th>TotalBsmtSF</th>\n",
              "      <td>1460.0</td>\n",
              "      <td>1057.429452</td>\n",
              "      <td>438.705324</td>\n",
              "      <td>0.0</td>\n",
              "      <td>795.75</td>\n",
              "      <td>991.5</td>\n",
              "      <td>1298.25</td>\n",
              "      <td>6110.0</td>\n",
              "    </tr>\n",
              "    <tr>\n",
              "      <th>1stFlrSF</th>\n",
              "      <td>1460.0</td>\n",
              "      <td>1162.626712</td>\n",
              "      <td>386.587738</td>\n",
              "      <td>334.0</td>\n",
              "      <td>882.00</td>\n",
              "      <td>1087.0</td>\n",
              "      <td>1391.25</td>\n",
              "      <td>4692.0</td>\n",
              "    </tr>\n",
              "    <tr>\n",
              "      <th>2ndFlrSF</th>\n",
              "      <td>1460.0</td>\n",
              "      <td>346.992466</td>\n",
              "      <td>436.528436</td>\n",
              "      <td>0.0</td>\n",
              "      <td>0.00</td>\n",
              "      <td>0.0</td>\n",
              "      <td>728.00</td>\n",
              "      <td>2065.0</td>\n",
              "    </tr>\n",
              "    <tr>\n",
              "      <th>LowQualFinSF</th>\n",
              "      <td>1460.0</td>\n",
              "      <td>5.844521</td>\n",
              "      <td>48.623081</td>\n",
              "      <td>0.0</td>\n",
              "      <td>0.00</td>\n",
              "      <td>0.0</td>\n",
              "      <td>0.00</td>\n",
              "      <td>572.0</td>\n",
              "    </tr>\n",
              "    <tr>\n",
              "      <th>GrLivArea</th>\n",
              "      <td>1460.0</td>\n",
              "      <td>1515.463699</td>\n",
              "      <td>525.480383</td>\n",
              "      <td>334.0</td>\n",
              "      <td>1129.50</td>\n",
              "      <td>1464.0</td>\n",
              "      <td>1776.75</td>\n",
              "      <td>5642.0</td>\n",
              "    </tr>\n",
              "    <tr>\n",
              "      <th>BsmtFullBath</th>\n",
              "      <td>1460.0</td>\n",
              "      <td>0.425342</td>\n",
              "      <td>0.518911</td>\n",
              "      <td>0.0</td>\n",
              "      <td>0.00</td>\n",
              "      <td>0.0</td>\n",
              "      <td>1.00</td>\n",
              "      <td>3.0</td>\n",
              "    </tr>\n",
              "    <tr>\n",
              "      <th>BsmtHalfBath</th>\n",
              "      <td>1460.0</td>\n",
              "      <td>0.057534</td>\n",
              "      <td>0.238753</td>\n",
              "      <td>0.0</td>\n",
              "      <td>0.00</td>\n",
              "      <td>0.0</td>\n",
              "      <td>0.00</td>\n",
              "      <td>2.0</td>\n",
              "    </tr>\n",
              "    <tr>\n",
              "      <th>FullBath</th>\n",
              "      <td>1460.0</td>\n",
              "      <td>1.565068</td>\n",
              "      <td>0.550916</td>\n",
              "      <td>0.0</td>\n",
              "      <td>1.00</td>\n",
              "      <td>2.0</td>\n",
              "      <td>2.00</td>\n",
              "      <td>3.0</td>\n",
              "    </tr>\n",
              "    <tr>\n",
              "      <th>HalfBath</th>\n",
              "      <td>1460.0</td>\n",
              "      <td>0.382877</td>\n",
              "      <td>0.502885</td>\n",
              "      <td>0.0</td>\n",
              "      <td>0.00</td>\n",
              "      <td>0.0</td>\n",
              "      <td>1.00</td>\n",
              "      <td>2.0</td>\n",
              "    </tr>\n",
              "    <tr>\n",
              "      <th>BedroomAbvGr</th>\n",
              "      <td>1460.0</td>\n",
              "      <td>2.866438</td>\n",
              "      <td>0.815778</td>\n",
              "      <td>0.0</td>\n",
              "      <td>2.00</td>\n",
              "      <td>3.0</td>\n",
              "      <td>3.00</td>\n",
              "      <td>8.0</td>\n",
              "    </tr>\n",
              "    <tr>\n",
              "      <th>KitchenAbvGr</th>\n",
              "      <td>1460.0</td>\n",
              "      <td>1.046575</td>\n",
              "      <td>0.220338</td>\n",
              "      <td>0.0</td>\n",
              "      <td>1.00</td>\n",
              "      <td>1.0</td>\n",
              "      <td>1.00</td>\n",
              "      <td>3.0</td>\n",
              "    </tr>\n",
              "    <tr>\n",
              "      <th>TotRmsAbvGrd</th>\n",
              "      <td>1460.0</td>\n",
              "      <td>6.517808</td>\n",
              "      <td>1.625393</td>\n",
              "      <td>2.0</td>\n",
              "      <td>5.00</td>\n",
              "      <td>6.0</td>\n",
              "      <td>7.00</td>\n",
              "      <td>14.0</td>\n",
              "    </tr>\n",
              "    <tr>\n",
              "      <th>Fireplaces</th>\n",
              "      <td>1460.0</td>\n",
              "      <td>0.613014</td>\n",
              "      <td>0.644666</td>\n",
              "      <td>0.0</td>\n",
              "      <td>0.00</td>\n",
              "      <td>1.0</td>\n",
              "      <td>1.00</td>\n",
              "      <td>3.0</td>\n",
              "    </tr>\n",
              "    <tr>\n",
              "      <th>GarageYrBlt</th>\n",
              "      <td>1379.0</td>\n",
              "      <td>1978.506164</td>\n",
              "      <td>24.689725</td>\n",
              "      <td>1900.0</td>\n",
              "      <td>1961.00</td>\n",
              "      <td>1980.0</td>\n",
              "      <td>2002.00</td>\n",
              "      <td>2010.0</td>\n",
              "    </tr>\n",
              "    <tr>\n",
              "      <th>GarageCars</th>\n",
              "      <td>1460.0</td>\n",
              "      <td>1.767123</td>\n",
              "      <td>0.747315</td>\n",
              "      <td>0.0</td>\n",
              "      <td>1.00</td>\n",
              "      <td>2.0</td>\n",
              "      <td>2.00</td>\n",
              "      <td>4.0</td>\n",
              "    </tr>\n",
              "    <tr>\n",
              "      <th>GarageArea</th>\n",
              "      <td>1460.0</td>\n",
              "      <td>472.980137</td>\n",
              "      <td>213.804841</td>\n",
              "      <td>0.0</td>\n",
              "      <td>334.50</td>\n",
              "      <td>480.0</td>\n",
              "      <td>576.00</td>\n",
              "      <td>1418.0</td>\n",
              "    </tr>\n",
              "    <tr>\n",
              "      <th>WoodDeckSF</th>\n",
              "      <td>1460.0</td>\n",
              "      <td>94.244521</td>\n",
              "      <td>125.338794</td>\n",
              "      <td>0.0</td>\n",
              "      <td>0.00</td>\n",
              "      <td>0.0</td>\n",
              "      <td>168.00</td>\n",
              "      <td>857.0</td>\n",
              "    </tr>\n",
              "    <tr>\n",
              "      <th>OpenPorchSF</th>\n",
              "      <td>1460.0</td>\n",
              "      <td>46.660274</td>\n",
              "      <td>66.256028</td>\n",
              "      <td>0.0</td>\n",
              "      <td>0.00</td>\n",
              "      <td>25.0</td>\n",
              "      <td>68.00</td>\n",
              "      <td>547.0</td>\n",
              "    </tr>\n",
              "    <tr>\n",
              "      <th>EnclosedPorch</th>\n",
              "      <td>1460.0</td>\n",
              "      <td>21.954110</td>\n",
              "      <td>61.119149</td>\n",
              "      <td>0.0</td>\n",
              "      <td>0.00</td>\n",
              "      <td>0.0</td>\n",
              "      <td>0.00</td>\n",
              "      <td>552.0</td>\n",
              "    </tr>\n",
              "    <tr>\n",
              "      <th>3SsnPorch</th>\n",
              "      <td>1460.0</td>\n",
              "      <td>3.409589</td>\n",
              "      <td>29.317331</td>\n",
              "      <td>0.0</td>\n",
              "      <td>0.00</td>\n",
              "      <td>0.0</td>\n",
              "      <td>0.00</td>\n",
              "      <td>508.0</td>\n",
              "    </tr>\n",
              "    <tr>\n",
              "      <th>ScreenPorch</th>\n",
              "      <td>1460.0</td>\n",
              "      <td>15.060959</td>\n",
              "      <td>55.757415</td>\n",
              "      <td>0.0</td>\n",
              "      <td>0.00</td>\n",
              "      <td>0.0</td>\n",
              "      <td>0.00</td>\n",
              "      <td>480.0</td>\n",
              "    </tr>\n",
              "    <tr>\n",
              "      <th>PoolArea</th>\n",
              "      <td>1460.0</td>\n",
              "      <td>2.758904</td>\n",
              "      <td>40.177307</td>\n",
              "      <td>0.0</td>\n",
              "      <td>0.00</td>\n",
              "      <td>0.0</td>\n",
              "      <td>0.00</td>\n",
              "      <td>738.0</td>\n",
              "    </tr>\n",
              "    <tr>\n",
              "      <th>MiscVal</th>\n",
              "      <td>1460.0</td>\n",
              "      <td>43.489041</td>\n",
              "      <td>496.123024</td>\n",
              "      <td>0.0</td>\n",
              "      <td>0.00</td>\n",
              "      <td>0.0</td>\n",
              "      <td>0.00</td>\n",
              "      <td>15500.0</td>\n",
              "    </tr>\n",
              "    <tr>\n",
              "      <th>MoSold</th>\n",
              "      <td>1460.0</td>\n",
              "      <td>6.321918</td>\n",
              "      <td>2.703626</td>\n",
              "      <td>1.0</td>\n",
              "      <td>5.00</td>\n",
              "      <td>6.0</td>\n",
              "      <td>8.00</td>\n",
              "      <td>12.0</td>\n",
              "    </tr>\n",
              "    <tr>\n",
              "      <th>YrSold</th>\n",
              "      <td>1460.0</td>\n",
              "      <td>2007.815753</td>\n",
              "      <td>1.328095</td>\n",
              "      <td>2006.0</td>\n",
              "      <td>2007.00</td>\n",
              "      <td>2008.0</td>\n",
              "      <td>2009.00</td>\n",
              "      <td>2010.0</td>\n",
              "    </tr>\n",
              "    <tr>\n",
              "      <th>SalePrice</th>\n",
              "      <td>1460.0</td>\n",
              "      <td>180921.195890</td>\n",
              "      <td>79442.502883</td>\n",
              "      <td>34900.0</td>\n",
              "      <td>129975.00</td>\n",
              "      <td>163000.0</td>\n",
              "      <td>214000.00</td>\n",
              "      <td>755000.0</td>\n",
              "    </tr>\n",
              "  </tbody>\n",
              "</table>\n",
              "</div>\n",
              "      <button class=\"colab-df-convert\" onclick=\"convertToInteractive('df-2267c15e-39be-41db-b77d-45eee2601cd9')\"\n",
              "              title=\"Convert this dataframe to an interactive table.\"\n",
              "              style=\"display:none;\">\n",
              "        \n",
              "  <svg xmlns=\"http://www.w3.org/2000/svg\" height=\"24px\"viewBox=\"0 0 24 24\"\n",
              "       width=\"24px\">\n",
              "    <path d=\"M0 0h24v24H0V0z\" fill=\"none\"/>\n",
              "    <path d=\"M18.56 5.44l.94 2.06.94-2.06 2.06-.94-2.06-.94-.94-2.06-.94 2.06-2.06.94zm-11 1L8.5 8.5l.94-2.06 2.06-.94-2.06-.94L8.5 2.5l-.94 2.06-2.06.94zm10 10l.94 2.06.94-2.06 2.06-.94-2.06-.94-.94-2.06-.94 2.06-2.06.94z\"/><path d=\"M17.41 7.96l-1.37-1.37c-.4-.4-.92-.59-1.43-.59-.52 0-1.04.2-1.43.59L10.3 9.45l-7.72 7.72c-.78.78-.78 2.05 0 2.83L4 21.41c.39.39.9.59 1.41.59.51 0 1.02-.2 1.41-.59l7.78-7.78 2.81-2.81c.8-.78.8-2.07 0-2.86zM5.41 20L4 18.59l7.72-7.72 1.47 1.35L5.41 20z\"/>\n",
              "  </svg>\n",
              "      </button>\n",
              "      \n",
              "  <style>\n",
              "    .colab-df-container {\n",
              "      display:flex;\n",
              "      flex-wrap:wrap;\n",
              "      gap: 12px;\n",
              "    }\n",
              "\n",
              "    .colab-df-convert {\n",
              "      background-color: #E8F0FE;\n",
              "      border: none;\n",
              "      border-radius: 50%;\n",
              "      cursor: pointer;\n",
              "      display: none;\n",
              "      fill: #1967D2;\n",
              "      height: 32px;\n",
              "      padding: 0 0 0 0;\n",
              "      width: 32px;\n",
              "    }\n",
              "\n",
              "    .colab-df-convert:hover {\n",
              "      background-color: #E2EBFA;\n",
              "      box-shadow: 0px 1px 2px rgba(60, 64, 67, 0.3), 0px 1px 3px 1px rgba(60, 64, 67, 0.15);\n",
              "      fill: #174EA6;\n",
              "    }\n",
              "\n",
              "    [theme=dark] .colab-df-convert {\n",
              "      background-color: #3B4455;\n",
              "      fill: #D2E3FC;\n",
              "    }\n",
              "\n",
              "    [theme=dark] .colab-df-convert:hover {\n",
              "      background-color: #434B5C;\n",
              "      box-shadow: 0px 1px 3px 1px rgba(0, 0, 0, 0.15);\n",
              "      filter: drop-shadow(0px 1px 2px rgba(0, 0, 0, 0.3));\n",
              "      fill: #FFFFFF;\n",
              "    }\n",
              "  </style>\n",
              "\n",
              "      <script>\n",
              "        const buttonEl =\n",
              "          document.querySelector('#df-2267c15e-39be-41db-b77d-45eee2601cd9 button.colab-df-convert');\n",
              "        buttonEl.style.display =\n",
              "          google.colab.kernel.accessAllowed ? 'block' : 'none';\n",
              "\n",
              "        async function convertToInteractive(key) {\n",
              "          const element = document.querySelector('#df-2267c15e-39be-41db-b77d-45eee2601cd9');\n",
              "          const dataTable =\n",
              "            await google.colab.kernel.invokeFunction('convertToInteractive',\n",
              "                                                     [key], {});\n",
              "          if (!dataTable) return;\n",
              "\n",
              "          const docLinkHtml = 'Like what you see? Visit the ' +\n",
              "            '<a target=\"_blank\" href=https://colab.research.google.com/notebooks/data_table.ipynb>data table notebook</a>'\n",
              "            + ' to learn more about interactive tables.';\n",
              "          element.innerHTML = '';\n",
              "          dataTable['output_type'] = 'display_data';\n",
              "          await google.colab.output.renderOutput(dataTable, element);\n",
              "          const docLink = document.createElement('div');\n",
              "          docLink.innerHTML = docLinkHtml;\n",
              "          element.appendChild(docLink);\n",
              "        }\n",
              "      </script>\n",
              "    </div>\n",
              "  </div>\n",
              "  "
            ]
          },
          "metadata": {},
          "execution_count": 5
        }
      ]
    },
    {
      "cell_type": "code",
      "source": [
        "dataset_df.select_dtypes(exclude=np.number).nunique().T"
      ],
      "metadata": {
        "colab": {
          "base_uri": "https://localhost:8080/"
        },
        "id": "JcYaXXtzyq4y",
        "outputId": "123592a9-c62c-4e2b-ee88-7a34861c1bc0"
      },
      "execution_count": 6,
      "outputs": [
        {
          "output_type": "execute_result",
          "data": {
            "text/plain": [
              "MSZoning          5\n",
              "Street            2\n",
              "Alley             2\n",
              "LotShape          4\n",
              "LandContour       4\n",
              "Utilities         2\n",
              "LotConfig         5\n",
              "LandSlope         3\n",
              "Neighborhood     25\n",
              "Condition1        9\n",
              "Condition2        8\n",
              "BldgType          5\n",
              "HouseStyle        8\n",
              "RoofStyle         6\n",
              "RoofMatl          8\n",
              "Exterior1st      15\n",
              "Exterior2nd      16\n",
              "MasVnrType        4\n",
              "ExterQual         4\n",
              "ExterCond         5\n",
              "Foundation        6\n",
              "BsmtQual          4\n",
              "BsmtCond          4\n",
              "BsmtExposure      4\n",
              "BsmtFinType1      6\n",
              "BsmtFinType2      6\n",
              "Heating           6\n",
              "HeatingQC         5\n",
              "CentralAir        2\n",
              "Electrical        5\n",
              "KitchenQual       4\n",
              "Functional        7\n",
              "FireplaceQu       5\n",
              "GarageType        6\n",
              "GarageFinish      3\n",
              "GarageQual        5\n",
              "GarageCond        5\n",
              "PavedDrive        3\n",
              "PoolQC            3\n",
              "Fence             4\n",
              "MiscFeature       4\n",
              "SaleType          9\n",
              "SaleCondition     6\n",
              "dtype: int64"
            ]
          },
          "metadata": {},
          "execution_count": 6
        }
      ]
    },
    {
      "cell_type": "markdown",
      "source": [
        "What to do with null objects? There are a few with many nulls.\n",
        "\n",
        "Alley: NA in alley means no alley access, which contains information\n",
        "\n",
        "FireplaceQu: NA means no fireplace, which is encoded in \"Fireplaces\"\n",
        "\n",
        "PoolQC: NA means no pool. That only 7 houses have pools, we probably don't need to distinguish between the quality of the pools\n",
        "\n",
        "Fence: NA means no fence\n",
        "\n",
        "MiscFeature: 49 of them are Shed. So we probably just make a column of \"Shed\" and delete this one"
      ],
      "metadata": {
        "id": "Wtpv5M32Wf_D"
      }
    },
    {
      "cell_type": "code",
      "source": [
        "# Find the numeric columns that have missing values\n",
        "# Decide how to fill them\n",
        "has_numeric_na = dataset_df.select_dtypes(include=np.number).isna().any()\n",
        "has_numeric_na[has_numeric_na]"
      ],
      "metadata": {
        "colab": {
          "base_uri": "https://localhost:8080/"
        },
        "id": "MjayrS_kHTBT",
        "outputId": "f9cb3301-78b7-4437-d32a-64f959657f2c"
      },
      "execution_count": 7,
      "outputs": [
        {
          "output_type": "execute_result",
          "data": {
            "text/plain": [
              "LotFrontage    True\n",
              "MasVnrArea     True\n",
              "GarageYrBlt    True\n",
              "dtype: bool"
            ]
          },
          "metadata": {},
          "execution_count": 7
        }
      ]
    },
    {
      "cell_type": "code",
      "source": [
        "# We will impute Lot Frontage with mean,\n",
        "# MasVnrArea with 0\n",
        "# And GarageYrBlt with majority (since missing values just mean there's no garage)"
      ],
      "metadata": {
        "id": "jGWyVH47JgFM"
      },
      "execution_count": 8,
      "outputs": []
    },
    {
      "cell_type": "code",
      "source": [
        "drop_col = ['Id','PoolArea', 'PoolQC']\n",
        "fillna_dict = {'MasVnrArea':0, \n",
        "               'LotFrontage':dataset_df.LotFrontage.mean(),\n",
        "               'GarageYrBlt':dataset_df.GarageYrBlt.mean()\n",
        "             }\n",
        "\n",
        "def preprocess(data):\n",
        "  temp = data.drop(drop_col, axis=1)\n",
        "  temp['Shed']=0\n",
        "  temp['Shed'][temp['MiscFeature']=='Shed'] = 1\n",
        "  temp.drop('MiscFeature',axis=1,inplace=True)\n",
        "  temp.fillna(fillna_dict,inplace=True)\n",
        "  return temp"
      ],
      "metadata": {
        "id": "tnOYlRT-aLOB"
      },
      "execution_count": 9,
      "outputs": []
    },
    {
      "cell_type": "code",
      "source": [
        "df = preprocess(dataset_df)"
      ],
      "metadata": {
        "colab": {
          "base_uri": "https://localhost:8080/"
        },
        "id": "CPtbqxQ_I9dg",
        "outputId": "e590ec77-0a95-4a69-da51-d9bc12aba5d7"
      },
      "execution_count": 10,
      "outputs": [
        {
          "output_type": "stream",
          "name": "stderr",
          "text": [
            "<ipython-input-9-e924caf0fb0a>:10: SettingWithCopyWarning: \n",
            "A value is trying to be set on a copy of a slice from a DataFrame\n",
            "\n",
            "See the caveats in the documentation: https://pandas.pydata.org/pandas-docs/stable/user_guide/indexing.html#returning-a-view-versus-a-copy\n",
            "  temp['Shed'][temp['MiscFeature']=='Shed'] = 1\n"
          ]
        }
      ]
    },
    {
      "cell_type": "code",
      "source": [
        "from sklearn.preprocessing import OneHotEncoder\n",
        "X_w_cat = df.drop('SalePrice',axis=1)\n",
        "X_w_cat['MSSubClass'] = X_w_cat['MSSubClass'].map(str)\n",
        "y = df.SalePrice\n",
        "OHE = OneHotEncoder(handle_unknown = 'ignore',sparse_output=False)\n",
        "X = pd.DataFrame(OHE.fit_transform(X_w_cat))"
      ],
      "metadata": {
        "id": "2TFmAL6Zhpgg"
      },
      "execution_count": 11,
      "outputs": []
    },
    {
      "cell_type": "code",
      "source": [
        "X.shape"
      ],
      "metadata": {
        "colab": {
          "base_uri": "https://localhost:8080/"
        },
        "id": "u-Yt1O-Gi3f6",
        "outputId": "8d4ea5f1-038a-4c7f-8033-3a003dfb74ff"
      },
      "execution_count": 12,
      "outputs": [
        {
          "output_type": "execute_result",
          "data": {
            "text/plain": [
              "(1460, 7632)"
            ]
          },
          "metadata": {},
          "execution_count": 12
        }
      ]
    },
    {
      "cell_type": "code",
      "source": [
        "plt.hist(y)\n",
        "plt.xlabel('Sale Price')\n",
        "plt.ylabel('Frequency')"
      ],
      "metadata": {
        "colab": {
          "base_uri": "https://localhost:8080/",
          "height": 467
        },
        "id": "PWAgWDn7LvCG",
        "outputId": "a76d7310-16c7-46e5-b18a-5ee487c81a44"
      },
      "execution_count": 13,
      "outputs": [
        {
          "output_type": "execute_result",
          "data": {
            "text/plain": [
              "Text(0, 0.5, 'Frequency')"
            ]
          },
          "metadata": {},
          "execution_count": 13
        },
        {
          "output_type": "display_data",
          "data": {
            "text/plain": [
              "<Figure size 640x480 with 1 Axes>"
            ],
            "image/png": "[encoded data removed]"
          },
          "metadata": {}
        }
      ]
    },
    {
      "cell_type": "code",
      "source": [
        "from sklearn.model_selection import train_test_split\n",
        "X_train, X_test, y_train, y_test = train_test_split(X, y, test_size=0.3, random_state=8)"
      ],
      "metadata": {
        "id": "JqA_gadKx5y1"
      },
      "execution_count": 14,
      "outputs": []
    },
    {
      "cell_type": "markdown",
      "source": [
        "# Linear Regression as benchmark"
      ],
      "metadata": {
        "id": "Hu3w2-msK23A"
      }
    },
    {
      "cell_type": "code",
      "source": [],
      "metadata": {
        "id": "gvnWs-L3K-18"
      },
      "execution_count": 11,
      "outputs": []
    },
    {
      "cell_type": "code",
      "source": [
        "from sklearn.linear_model import LinearRegression\n",
        "from sklearn.metrics import mean_squared_error\n",
        "\n",
        "lr = LinearRegression()\n",
        "lr.fit(X_train, y_train)\n",
        "lr_test_rmse = np.sqrt(mean_squared_error(y_test,lr.predict(X_test)))\n",
        "print('The RMSE using linear regression is:', lr_test_rmse )"
      ],
      "metadata": {
        "id": "zd5EcSamhfwq",
        "colab": {
          "base_uri": "https://localhost:8080/"
        },
        "outputId": "427cd605-0dc6-4943-915e-5082cd393157"
      },
      "execution_count": null,
      "outputs": [
        {
          "output_type": "stream",
          "name": "stdout",
          "text": [
            "The RMSE using linear regression is: 31353.85868759527\n"
          ]
        }
      ]
    },
    {
      "cell_type": "markdown",
      "source": [
        "# Random Forest"
      ],
      "metadata": {
        "id": "G7QNWVZ_MIdP"
      }
    },
    {
      "cell_type": "code",
      "source": [
        "from sklearn.ensemble import RandomForestRegressor\n",
        "from sklearn.metrics import mean_squared_error\n",
        "import math\n",
        "\n",
        "MIN_ESTIMATOR = 30\n",
        "MAX_ESTIMATOR = 300\n",
        "\n",
        "rf = RandomForestRegressor(\n",
        "    warm_start=True,\n",
        "    random_state=8)\n",
        "\n",
        "train_error = []\n",
        "test_error = []\n",
        "\n",
        "for n_estimators in range(MIN_ESTIMATOR, MAX_ESTIMATOR+1, 10):\n",
        "  rf.set_params(n_estimators=n_estimators)\n",
        "  rf.fit(X_train,y_train)\n",
        "  train_rmse = math.sqrt(mean_squared_error(y_train,rf.predict(X_train)))\n",
        "  test_rmse = math.sqrt(mean_squared_error(y_test, rf.predict(X_test)))\n",
        "  \n",
        "  train_error.append((n_estimators,train_rmse))\n",
        "  test_error.append((n_estimators,test_rmse))\n",
        "  \n",
        "xs, ys = zip(*train_error)\n",
        "plt.plot(xs,ys,label='train error')\n",
        "xs, ys = zip(*test_error)\n",
        "plt.plot(xs,ys,label='test error')\n",
        "plt.xlabel('n trees')\n",
        "plt.ylabel('rmse')\n",
        "plt.legend()\n",
        "plt.show()"
      ],
      "metadata": {
        "colab": {
          "base_uri": "https://localhost:8080/",
          "height": 449
        },
        "id": "pDxjMGJldr85",
        "outputId": "8cfe6c02-801d-4bee-c4e6-750288222bed"
      },
      "execution_count": null,
      "outputs": [
        {
          "output_type": "display_data",
          "data": {
            "text/plain": [
              "<Figure size 640x480 with 1 Axes>"
            ],
            "image/png": "[encoded data removed]"
          },
          "metadata": {}
        }
      ]
    },
    {
      "cell_type": "code",
      "source": [
        "xs, ys = zip(*test_error)\n",
        "plt.plot(xs,ys,label='test error')\n",
        "plt.xlabel('n trees')\n",
        "plt.ylabel('rmse')\n",
        "plt.legend()\n",
        "plt.show()"
      ],
      "metadata": {
        "colab": {
          "base_uri": "https://localhost:8080/",
          "height": 449
        },
        "id": "FG0BnmitNt6s",
        "outputId": "73e0c6bb-6fba-4f10-a1c5-c850d0607f09"
      },
      "execution_count": null,
      "outputs": [
        {
          "output_type": "display_data",
          "data": {
            "text/plain": [
              "<Figure size 640x480 with 1 Axes>"
            ],
            "image/png": "[encoded data removed]"
          },
          "metadata": {}
        }
      ]
    },
    {
      "cell_type": "code",
      "source": [
        "xs, ys = zip(*train_error)\n",
        "plt.plot(xs,ys,label='train error')\n",
        "plt.xlabel('n trees')\n",
        "plt.ylabel('rmse')\n",
        "plt.legend()\n",
        "plt.show()"
      ],
      "metadata": {
        "colab": {
          "base_uri": "https://localhost:8080/",
          "height": 449
        },
        "id": "clC3-XVWPIfI",
        "outputId": "1fc3dcc4-0df4-4bc8-8578-502d59a80e71"
      },
      "execution_count": null,
      "outputs": [
        {
          "output_type": "display_data",
          "data": {
            "text/plain": [
              "<Figure size 640x480 with 1 Axes>"
            ],
            "image/png": "[encoded data removed]"
          },
          "metadata": {}
        }
      ]
    },
    {
      "cell_type": "markdown",
      "source": [
        "# XGBoost"
      ],
      "metadata": {
        "id": "_p34UlrcMaAE"
      }
    },
    {
      "cell_type": "markdown",
      "source": [
        "First try to drive the training loss to 0"
      ],
      "metadata": {
        "id": "6Sg8DHGCP3Rn"
      }
    },
    {
      "cell_type": "code",
      "source": [
        "from xgboost.sklearn import XGBRegressor"
      ],
      "metadata": {
        "id": "eMVFWp_VWrKC"
      },
      "execution_count": 15,
      "outputs": []
    },
    {
      "cell_type": "code",
      "source": [
        "%%time\n",
        "xgb = XGBRegressor(n_estimators=100,learning_rate=0.1,max_depth=15)\n",
        "xgb.fit(X_train,y_train)\n",
        "print('The train rmse is:',\n",
        "      np.sqrt(mean_squared_error(y_train,xgb.predict(X_train)))\n",
        ")\n",
        "print('The test rmse is:',\n",
        "      np.sqrt(mean_squared_error(y_test,xgb.predict(X_test)))\n",
        ")"
      ],
      "metadata": {
        "colab": {
          "base_uri": "https://localhost:8080/"
        },
        "id": "UzoUqiLFuIGz",
        "outputId": "ed813d6c-7075-4dbe-a2bf-34414be8111d"
      },
      "execution_count": null,
      "outputs": [
        {
          "output_type": "stream",
          "name": "stdout",
          "text": [
            "The train rmse is: 931.5046109452572\n",
            "The test rmse is: 35326.417209245716\n",
            "CPU times: user 1min 52s, sys: 259 ms, total: 1min 52s\n",
            "Wall time: 1min 7s\n"
          ]
        }
      ]
    },
    {
      "cell_type": "code",
      "source": [
        "from sklearn.model_selection import RandomizedSearchCV\n",
        "xgb_params = {\n",
        "    'max_depth':range(4,16),\n",
        "    #'gamma':[0.01,0.1,1,10],\n",
        "    'learning_rate':[0.001,0.01,0.03,0.1],\n",
        "    'n_estimators':[50,75,100,125,150]\n",
        "}\n",
        "n_trials = 10\n",
        "\n",
        "xgb = XGBRegressor()\n",
        "xgb_rscv = RandomizedSearchCV(xgb, \n",
        "                              xgb_params, \n",
        "                              n_iter = n_trials, \n",
        "                              scoring='neg_mean_squared_error',\n",
        "                              verbose=3, cv=3)\n",
        "xgb_rscv.fit(X,y)"
      ],
      "metadata": {
        "colab": {
          "base_uri": "https://localhost:8080/",
          "height": 667
        },
        "id": "Tf8benrlSys0",
        "outputId": "9415640e-b806-4584-b970-6386edbf7e68"
      },
      "execution_count": null,
      "outputs": [
        {
          "output_type": "stream",
          "name": "stdout",
          "text": [
            "Fitting 3 folds for each of 10 candidates, totalling 30 fits\n",
            "[CV 1/3] END learning_rate=0.001, max_depth=5, n_estimators=100;, score=-32938452339.709 total time=  23.8s\n",
            "[CV 2/3] END learning_rate=0.001, max_depth=5, n_estimators=100;, score=-32905350825.447 total time=  23.1s\n",
            "[CV 3/3] END learning_rate=0.001, max_depth=5, n_estimators=100;, score=-31430476980.259 total time=  22.7s\n",
            "[CV 1/3] END learning_rate=0.01, max_depth=10, n_estimators=75;, score=-10222025678.241 total time=  29.6s\n",
            "[CV 2/3] END learning_rate=0.01, max_depth=10, n_estimators=75;, score=-10711986956.303 total time=  27.8s\n",
            "[CV 3/3] END learning_rate=0.01, max_depth=10, n_estimators=75;, score=-9732184617.352 total time=  30.2s\n",
            "[CV 1/3] END learning_rate=0.1, max_depth=7, n_estimators=150;, score=-1406492415.983 total time=  44.5s\n",
            "[CV 2/3] END learning_rate=0.1, max_depth=7, n_estimators=150;, score=-1383211648.357 total time=  44.0s\n",
            "[CV 3/3] END learning_rate=0.1, max_depth=7, n_estimators=150;, score=-1257828825.301 total time=  45.4s\n",
            "[CV 1/3] END learning_rate=0.1, max_depth=5, n_estimators=100;, score=-1248039212.331 total time=  23.0s\n",
            "[CV 2/3] END learning_rate=0.1, max_depth=5, n_estimators=100;, score=-1343050265.503 total time=  23.0s\n",
            "[CV 3/3] END learning_rate=0.1, max_depth=5, n_estimators=100;, score=-1083374424.418 total time=  24.4s\n",
            "[CV 1/3] END learning_rate=0.001, max_depth=15, n_estimators=150;, score=-29998006922.791 total time=  55.7s\n",
            "[CV 2/3] END learning_rate=0.001, max_depth=15, n_estimators=150;, score=-30049159996.015 total time=  51.7s\n",
            "[CV 3/3] END learning_rate=0.001, max_depth=15, n_estimators=150;, score=-28612135003.511 total time=  54.0s\n",
            "[CV 1/3] END learning_rate=0.01, max_depth=14, n_estimators=150;, score=-3347970790.968 total time= 1.2min\n",
            "[CV 2/3] END learning_rate=0.01, max_depth=14, n_estimators=150;, score=-3874502351.477 total time= 1.2min\n",
            "[CV 3/3] END learning_rate=0.01, max_depth=14, n_estimators=150;, score=-3278135378.879 total time= 1.1min\n",
            "[CV 1/3] END learning_rate=0.03, max_depth=9, n_estimators=100;, score=-1587776710.237 total time=  36.9s\n",
            "[CV 2/3] END learning_rate=0.03, max_depth=9, n_estimators=100;, score=-1646535776.051 total time=  36.5s\n",
            "[CV 3/3] END learning_rate=0.03, max_depth=9, n_estimators=100;, score=-1505024646.186 total time=  37.1s\n",
            "[CV 1/3] END learning_rate=0.03, max_depth=12, n_estimators=150;, score=-1559252857.793 total time= 1.2min\n",
            "[CV 2/3] END learning_rate=0.03, max_depth=12, n_estimators=150;, score=-1485578578.974 total time= 1.2min\n",
            "[CV 3/3] END learning_rate=0.03, max_depth=12, n_estimators=150;, score=-1479096849.489 total time= 1.1min\n",
            "[CV 1/3] END learning_rate=0.1, max_depth=8, n_estimators=75;, score=-1510744294.755 total time=  25.5s\n",
            "[CV 2/3] END learning_rate=0.1, max_depth=8, n_estimators=75;, score=-1438170084.898 total time=  26.3s\n",
            "[CV 3/3] END learning_rate=0.1, max_depth=8, n_estimators=75;, score=-1315918316.434 total time=  25.0s\n",
            "[CV 1/3] END learning_rate=0.001, max_depth=12, n_estimators=100;, score=-32939343838.006 total time=  37.8s\n",
            "[CV 2/3] END learning_rate=0.001, max_depth=12, n_estimators=100;, score=-32897080235.130 total time=  33.3s\n",
            "[CV 3/3] END learning_rate=0.001, max_depth=12, n_estimators=100;, score=-31410651900.777 total time=  34.0s\n"
          ]
        },
        {
          "output_type": "execute_result",
          "data": {
            "text/plain": [
              "RandomizedSearchCV(cv=3,\n",
              "                   estimator=XGBRegressor(base_score=None, booster=None,\n",
              "                                          callbacks=None,\n",
              "                                          colsample_bylevel=None,\n",
              "                                          colsample_bynode=None,\n",
              "                                          colsample_bytree=None,\n",
              "                                          early_stopping_rounds=None,\n",
              "                                          enable_categorical=False,\n",
              "                                          eval_metric=None, feature_types=None,\n",
              "                                          gamma=None, gpu_id=None,\n",
              "                                          grow_policy=None,\n",
              "                                          importance_type=None,\n",
              "                                          interaction_constraints=None,\n",
              "                                          learning_rate=...\n",
              "                                          max_delta_step=None, max_depth=None,\n",
              "                                          max_leaves=None,\n",
              "                                          min_child_weight=None, missing=nan,\n",
              "                                          monotone_constraints=None,\n",
              "                                          n_estimators=100, n_jobs=None,\n",
              "                                          num_parallel_tree=None,\n",
              "                                          predictor=None, random_state=None, ...),\n",
              "                   param_distributions={'learning_rate': [0.001, 0.01, 0.03,\n",
              "                                                          0.1],\n",
              "                                        'max_depth': range(4, 16),\n",
              "                                        'n_estimators': [50, 75, 100, 125,\n",
              "                                                         150]},\n",
              "                   scoring='neg_mean_squared_error', verbose=3)"
            ],
            "text/html": [
              "<style>#sk-container-id-2 {color: black;background-color: white;}#sk-container-id-2 pre{padding: 0;}#sk-container-id-2 div.sk-toggleable {background-color: white;}#sk-container-id-2 label.sk-toggleable__label {cursor: pointer;display: block;width: 100%;margin-bottom: 0;padding: 0.3em;box-sizing: border-box;text-align: center;}#sk-container-id-2 label.sk-toggleable__label-arrow:before {content: \"▸\";float: left;margin-right: 0.25em;color: #696969;}#sk-container-id-2 label.sk-toggleable__label-arrow:hover:before {color: black;}#sk-container-id-2 div.sk-estimator:hover label.sk-toggleable__label-arrow:before {color: black;}#sk-container-id-2 div.sk-toggleable__content {max-height: 0;max-width: 0;overflow: hidden;text-align: left;background-color: #f0f8ff;}#sk-container-id-2 div.sk-toggleable__content pre {margin: 0.2em;color: black;border-radius: 0.25em;background-color: #f0f8ff;}#sk-container-id-2 input.sk-toggleable__control:checked~div.sk-toggleable__content {max-height: 200px;max-width: 100%;overflow: auto;}#sk-container-id-2 input.sk-toggleable__control:checked~label.sk-toggleable__label-arrow:before {content: \"▾\";}#sk-container-id-2 div.sk-estimator input.sk-toggleable__control:checked~label.sk-toggleable__label {background-color: #d4ebff;}#sk-container-id-2 div.sk-label input.sk-toggleable__control:checked~label.sk-toggleable__label {background-color: #d4ebff;}#sk-container-id-2 input.sk-hidden--visually {border: 0;clip: rect(1px 1px 1px 1px);clip: rect(1px, 1px, 1px, 1px);height: 1px;margin: -1px;overflow: hidden;padding: 0;position: absolute;width: 1px;}#sk-container-id-2 div.sk-estimator {font-family: monospace;background-color: #f0f8ff;border: 1px dotted black;border-radius: 0.25em;box-sizing: border-box;margin-bottom: 0.5em;}#sk-container-id-2 div.sk-estimator:hover {background-color: #d4ebff;}#sk-container-id-2 div.sk-parallel-item::after {content: \"\";width: 100%;border-bottom: 1px solid gray;flex-grow: 1;}#sk-container-id-2 div.sk-label:hover label.sk-toggleable__label {background-color: #d4ebff;}#sk-container-id-2 div.sk-serial::before {content: \"\";position: absolute;border-left: 1px solid gray;box-sizing: border-box;top: 0;bottom: 0;left: 50%;z-index: 0;}#sk-container-id-2 div.sk-serial {display: flex;flex-direction: column;align-items: center;background-color: white;padding-right: 0.2em;padding-left: 0.2em;position: relative;}#sk-container-id-2 div.sk-item {position: relative;z-index: 1;}#sk-container-id-2 div.sk-parallel {display: flex;align-items: stretch;justify-content: center;background-color: white;position: relative;}#sk-container-id-2 div.sk-item::before, #sk-container-id-2 div.sk-parallel-item::before {content: \"\";position: absolute;border-left: 1px solid gray;box-sizing: border-box;top: 0;bottom: 0;left: 50%;z-index: -1;}#sk-container-id-2 div.sk-parallel-item {display: flex;flex-direction: column;z-index: 1;position: relative;background-color: white;}#sk-container-id-2 div.sk-parallel-item:first-child::after {align-self: flex-end;width: 50%;}#sk-container-id-2 div.sk-parallel-item:last-child::after {align-self: flex-start;width: 50%;}#sk-container-id-2 div.sk-parallel-item:only-child::after {width: 0;}#sk-container-id-2 div.sk-dashed-wrapped {border: 1px dashed gray;margin: 0 0.4em 0.5em 0.4em;box-sizing: border-box;padding-bottom: 0.4em;background-color: white;}#sk-container-id-2 div.sk-label label {font-family: monospace;font-weight: bold;display: inline-block;line-height: 1.2em;}#sk-container-id-2 div.sk-label-container {text-align: center;}#sk-container-id-2 div.sk-container {/* jupyter's `normalize.less` sets `[hidden] { display: none; }` but bootstrap.min.css set `[hidden] { display: none !important; }` so we also need the `!important` here to be able to override the default hidden behavior on the sphinx rendered scikit-learn.org. See: https://github.com/scikit-learn/scikit-learn/issues/21755 */display: inline-block !important;position: relative;}#sk-container-id-2 div.sk-text-repr-fallback {display: none;}</style><div id=\"sk-container-id-2\" class=\"sk-top-container\"><div class=\"sk-text-repr-fallback\"><pre>RandomizedSearchCV(cv=3,\n",
              "                   estimator=XGBRegressor(base_score=None, booster=None,\n",
              "                                          callbacks=None,\n",
              "                                          colsample_bylevel=None,\n",
              "                                          colsample_bynode=None,\n",
              "                                          colsample_bytree=None,\n",
              "                                          early_stopping_rounds=None,\n",
              "                                          enable_categorical=False,\n",
              "                                          eval_metric=None, feature_types=None,\n",
              "                                          gamma=None, gpu_id=None,\n",
              "                                          grow_policy=None,\n",
              "                                          importance_type=None,\n",
              "                                          interaction_constraints=None,\n",
              "                                          learning_rate=...\n",
              "                                          max_delta_step=None, max_depth=None,\n",
              "                                          max_leaves=None,\n",
              "                                          min_child_weight=None, missing=nan,\n",
              "                                          monotone_constraints=None,\n",
              "                                          n_estimators=100, n_jobs=None,\n",
              "                                          num_parallel_tree=None,\n",
              "                                          predictor=None, random_state=None, ...),\n",
              "                   param_distributions={&#x27;learning_rate&#x27;: [0.001, 0.01, 0.03,\n",
              "                                                          0.1],\n",
              "                                        &#x27;max_depth&#x27;: range(4, 16),\n",
              "                                        &#x27;n_estimators&#x27;: [50, 75, 100, 125,\n",
              "                                                         150]},\n",
              "                   scoring=&#x27;neg_mean_squared_error&#x27;, verbose=3)</pre><b>In a Jupyter environment, please rerun this cell to show the HTML representation or trust the notebook. <br />On GitHub, the HTML representation is unable to render, please try loading this page with nbviewer.org.</b></div><div class=\"sk-container\" hidden><div class=\"sk-item sk-dashed-wrapped\"><div class=\"sk-label-container\"><div class=\"sk-label sk-toggleable\"><input class=\"sk-toggleable__control sk-hidden--visually\" id=\"sk-estimator-id-4\" type=\"checkbox\" ><label for=\"sk-estimator-id-4\" class=\"sk-toggleable__label sk-toggleable__label-arrow\">RandomizedSearchCV</label><div class=\"sk-toggleable__content\"><pre>RandomizedSearchCV(cv=3,\n",
              "                   estimator=XGBRegressor(base_score=None, booster=None,\n",
              "                                          callbacks=None,\n",
              "                                          colsample_bylevel=None,\n",
              "                                          colsample_bynode=None,\n",
              "                                          colsample_bytree=None,\n",
              "                                          early_stopping_rounds=None,\n",
              "                                          enable_categorical=False,\n",
              "                                          eval_metric=None, feature_types=None,\n",
              "                                          gamma=None, gpu_id=None,\n",
              "                                          grow_policy=None,\n",
              "                                          importance_type=None,\n",
              "                                          interaction_constraints=None,\n",
              "                                          learning_rate=...\n",
              "                                          max_delta_step=None, max_depth=None,\n",
              "                                          max_leaves=None,\n",
              "                                          min_child_weight=None, missing=nan,\n",
              "                                          monotone_constraints=None,\n",
              "                                          n_estimators=100, n_jobs=None,\n",
              "                                          num_parallel_tree=None,\n",
              "                                          predictor=None, random_state=None, ...),\n",
              "                   param_distributions={&#x27;learning_rate&#x27;: [0.001, 0.01, 0.03,\n",
              "                                                          0.1],\n",
              "                                        &#x27;max_depth&#x27;: range(4, 16),\n",
              "                                        &#x27;n_estimators&#x27;: [50, 75, 100, 125,\n",
              "                                                         150]},\n",
              "                   scoring=&#x27;neg_mean_squared_error&#x27;, verbose=3)</pre></div></div></div><div class=\"sk-parallel\"><div class=\"sk-parallel-item\"><div class=\"sk-item\"><div class=\"sk-label-container\"><div class=\"sk-label sk-toggleable\"><input class=\"sk-toggleable__control sk-hidden--visually\" id=\"sk-estimator-id-5\" type=\"checkbox\" ><label for=\"sk-estimator-id-5\" class=\"sk-toggleable__label sk-toggleable__label-arrow\">estimator: XGBRegressor</label><div class=\"sk-toggleable__content\"><pre>XGBRegressor(base_score=None, booster=None, callbacks=None,\n",
              "             colsample_bylevel=None, colsample_bynode=None,\n",
              "             colsample_bytree=None, early_stopping_rounds=None,\n",
              "             enable_categorical=False, eval_metric=None, feature_types=None,\n",
              "             gamma=None, gpu_id=None, grow_policy=None, importance_type=None,\n",
              "             interaction_constraints=None, learning_rate=None, max_bin=None,\n",
              "             max_cat_threshold=None, max_cat_to_onehot=None,\n",
              "             max_delta_step=None, max_depth=None, max_leaves=None,\n",
              "             min_child_weight=None, missing=nan, monotone_constraints=None,\n",
              "             n_estimators=100, n_jobs=None, num_parallel_tree=None,\n",
              "             predictor=None, random_state=None, ...)</pre></div></div></div><div class=\"sk-serial\"><div class=\"sk-item\"><div class=\"sk-estimator sk-toggleable\"><input class=\"sk-toggleable__control sk-hidden--visually\" id=\"sk-estimator-id-6\" type=\"checkbox\" ><label for=\"sk-estimator-id-6\" class=\"sk-toggleable__label sk-toggleable__label-arrow\">XGBRegressor</label><div class=\"sk-toggleable__content\"><pre>XGBRegressor(base_score=None, booster=None, callbacks=None,\n",
              "             colsample_bylevel=None, colsample_bynode=None,\n",
              "             colsample_bytree=None, early_stopping_rounds=None,\n",
              "             enable_categorical=False, eval_metric=None, feature_types=None,\n",
              "             gamma=None, gpu_id=None, grow_policy=None, importance_type=None,\n",
              "             interaction_constraints=None, learning_rate=None, max_bin=None,\n",
              "             max_cat_threshold=None, max_cat_to_onehot=None,\n",
              "             max_delta_step=None, max_depth=None, max_leaves=None,\n",
              "             min_child_weight=None, missing=nan, monotone_constraints=None,\n",
              "             n_estimators=100, n_jobs=None, num_parallel_tree=None,\n",
              "             predictor=None, random_state=None, ...)</pre></div></div></div></div></div></div></div></div></div></div>"
            ]
          },
          "metadata": {},
          "execution_count": 17
        }
      ]
    },
    {
      "cell_type": "code",
      "source": [
        "print('The best xgb has parameters:', xgb_rscv.best_params_)"
      ],
      "metadata": {
        "colab": {
          "base_uri": "https://localhost:8080/"
        },
        "id": "V0HdrkBHYiJH",
        "outputId": "f2c6c931-8536-44a4-fd62-168d5afbd604"
      },
      "execution_count": null,
      "outputs": [
        {
          "output_type": "stream",
          "name": "stdout",
          "text": [
            "The best xgb has parameters: {'n_estimators': 100, 'max_depth': 5, 'learning_rate': 0.1}\n"
          ]
        }
      ]
    },
    {
      "cell_type": "code",
      "source": [
        "print('with rmse square', np.sqrt(abs(xgb_rscv.best_score_)))"
      ],
      "metadata": {
        "colab": {
          "base_uri": "https://localhost:8080/"
        },
        "id": "j00WhI3kV-sL",
        "outputId": "41f9a335-83b3-490c-b379-80384bac0be8"
      },
      "execution_count": null,
      "outputs": [
        {
          "output_type": "stream",
          "name": "stdout",
          "text": [
            "with rmse square 34997.44706047258\n"
          ]
        }
      ]
    },
    {
      "cell_type": "code",
      "source": [
        "# Try the xgboost with parameters seen on Kaggle by ABDULRAHMAN ATEF\n",
        "%%time\n",
        "xgb = XGBRegressor(n_estimators=850,\n",
        "                   gamma = 0.01,\n",
        "                   learning_rate=0.74,\n",
        "                   min_child_weight=5.86,\n",
        "                   max_depth=7,\n",
        "                   sub_sample = 0.772,\n",
        "                   reg_alpha= 2.23,\n",
        "                   reg_lambda = 3.43)\n",
        "xgb.fit(X_train,y_train)\n",
        "print('The parameters are found from someone\\'s code on kaggle')\n",
        "print('The train rmse is:',\n",
        "      np.sqrt(mean_squared_error(y_train,xgb.predict(X_train)))\n",
        ")\n",
        "print('The test rmse is:',\n",
        "      np.sqrt(mean_squared_error(y_test,xgb.predict(X_test)))\n",
        ")"
      ],
      "metadata": {
        "colab": {
          "base_uri": "https://localhost:8080/"
        },
        "id": "mFXYBsPVetC1",
        "outputId": "9f32c3fa-7f88-469f-a79b-7c0a3c5e8180"
      },
      "execution_count": 13,
      "outputs": [
        {
          "output_type": "stream",
          "name": "stdout",
          "text": [
            "[16:01:38] WARNING: ../src/learner.cc:767: \n",
            "Parameters: { \"sub_sample\" } are not used.\n",
            "\n",
            "The parameters are found from someone's code on kaggle\n",
            "The train rmse is: 0.2851264303380668\n",
            "The test rmse is: 36253.296711530435\n",
            "CPU times: user 6min 3s, sys: 559 ms, total: 6min 3s\n",
            "Wall time: 3min 25s\n"
          ]
        }
      ]
    },
    {
      "cell_type": "code",
      "source": [
        "%%time\n",
        "xgb = XGBRegressor(n_estimators=850,\n",
        "                   gamma = 0.01,\n",
        "                   learning_rate=0.74,\n",
        "                   min_child_weight=5.86,\n",
        "                   max_depth=7,\n",
        "                   sub_sample = 0.772,\n",
        "                   reg_alpha= 2.23,\n",
        "                   reg_lambda = 3.43)\n",
        "xgb.fit(X_train,y_train)\n",
        "print('The parameters are found from someone\\'s code on kaggle')\n",
        "print('The train rmse is:',\n",
        "      np.sqrt(mean_squared_error(y_train,xgb.predict(X_train)))\n",
        ")\n",
        "print('The test rmse is:',\n",
        "      np.sqrt(mean_squared_error(y_test,xgb.predict(X_test)))\n",
        ")"
      ],
      "metadata": {
        "id": "xvASWA2gBtg7"
      },
      "execution_count": null,
      "outputs": []
    },
    {
      "cell_type": "code",
      "source": [
        "# This time fit it on log data\n",
        "from sklearn.model_selection import GridSearchCV\n",
        "xgb_params = {\n",
        "    'max_depth':[3,6,10],\n",
        "    #'gamma':[0.01,0.1,1,10],\n",
        "    'learning_rate':[0.001,0.01,0.1],\n",
        "    'n_estimators':[100,150,200]\n",
        "}\n",
        "#n_trials = 10\n",
        "\n",
        "xgb = XGBRegressor()\n",
        "xgb_gscv = GridSearchCV(xgb, xgb_params, \n",
        "                              scoring='neg_mean_squared_error',\n",
        "                              verbose=3, cv=3)\n",
        "xgb_gscv.fit(X,np.log(y))\n",
        "print('The best parameters are:', xgb_gscv.best_params_)\n",
        "print('The best rmse on log(y) is:', np.sqrt(abs(xgb_gscv.best_score_)))\n"
      ],
      "metadata": {
        "colab": {
          "base_uri": "https://localhost:8080/"
        },
        "id": "xeF7JGUsBtjP",
        "outputId": "985fe535-06cb-4df3-9253-fb2b3c8bfee9"
      },
      "execution_count": 17,
      "outputs": [
        {
          "output_type": "stream",
          "name": "stdout",
          "text": [
            "Fitting 3 folds for each of 27 candidates, totalling 81 fits\n",
            "[CV 1/3] END learning_rate=0.001, max_depth=3, n_estimators=100;, score=-109.186 total time=  10.5s\n",
            "[CV 2/3] END learning_rate=0.001, max_depth=3, n_estimators=100;, score=-108.825 total time=  14.0s\n",
            "[CV 3/3] END learning_rate=0.001, max_depth=3, n_estimators=100;, score=-108.693 total time=  10.6s\n",
            "[CV 1/3] END learning_rate=0.001, max_depth=3, n_estimators=150;, score=-98.835 total time=  12.0s\n",
            "[CV 2/3] END learning_rate=0.001, max_depth=3, n_estimators=150;, score=-98.485 total time=  12.1s\n",
            "[CV 3/3] END learning_rate=0.001, max_depth=3, n_estimators=150;, score=-98.356 total time=  12.0s\n",
            "[CV 1/3] END learning_rate=0.001, max_depth=3, n_estimators=200;, score=-89.467 total time=  17.0s\n",
            "[CV 2/3] END learning_rate=0.001, max_depth=3, n_estimators=200;, score=-89.128 total time=  17.7s\n",
            "[CV 3/3] END learning_rate=0.001, max_depth=3, n_estimators=200;, score=-89.002 total time=  20.1s\n",
            "[CV 1/3] END learning_rate=0.001, max_depth=6, n_estimators=100;, score=-109.186 total time=  16.3s\n",
            "[CV 2/3] END learning_rate=0.001, max_depth=6, n_estimators=100;, score=-108.825 total time=  15.1s\n",
            "[CV 3/3] END learning_rate=0.001, max_depth=6, n_estimators=100;, score=-108.693 total time=  10.7s\n",
            "[CV 1/3] END learning_rate=0.001, max_depth=6, n_estimators=150;, score=-98.835 total time=  13.2s\n",
            "[CV 2/3] END learning_rate=0.001, max_depth=6, n_estimators=150;, score=-98.485 total time=  15.2s\n",
            "[CV 3/3] END learning_rate=0.001, max_depth=6, n_estimators=150;, score=-98.356 total time=  15.0s\n",
            "[CV 1/3] END learning_rate=0.001, max_depth=6, n_estimators=200;, score=-89.467 total time=  18.7s\n",
            "[CV 2/3] END learning_rate=0.001, max_depth=6, n_estimators=200;, score=-89.128 total time=  15.5s\n",
            "[CV 3/3] END learning_rate=0.001, max_depth=6, n_estimators=200;, score=-89.002 total time=  15.3s\n",
            "[CV 1/3] END learning_rate=0.001, max_depth=10, n_estimators=100;, score=-109.186 total time=  10.6s\n",
            "[CV 2/3] END learning_rate=0.001, max_depth=10, n_estimators=100;, score=-108.825 total time=  10.9s\n",
            "[CV 3/3] END learning_rate=0.001, max_depth=10, n_estimators=100;, score=-108.693 total time=   8.6s\n",
            "[CV 1/3] END learning_rate=0.001, max_depth=10, n_estimators=150;, score=-98.835 total time=  11.7s\n",
            "[CV 2/3] END learning_rate=0.001, max_depth=10, n_estimators=150;, score=-98.485 total time=  11.8s\n",
            "[CV 3/3] END learning_rate=0.001, max_depth=10, n_estimators=150;, score=-98.356 total time=  12.5s\n",
            "[CV 1/3] END learning_rate=0.001, max_depth=10, n_estimators=200;, score=-89.467 total time=  15.1s\n",
            "[CV 2/3] END learning_rate=0.001, max_depth=10, n_estimators=200;, score=-89.128 total time=  15.2s\n",
            "[CV 3/3] END learning_rate=0.001, max_depth=10, n_estimators=200;, score=-89.002 total time=  16.7s\n",
            "[CV 1/3] END learning_rate=0.01, max_depth=3, n_estimators=100;, score=-18.120 total time=   9.1s\n",
            "[CV 2/3] END learning_rate=0.01, max_depth=3, n_estimators=100;, score=-17.924 total time=  10.5s\n",
            "[CV 3/3] END learning_rate=0.01, max_depth=3, n_estimators=100;, score=-17.855 total time=  10.5s\n",
            "[CV 1/3] END learning_rate=0.01, max_depth=3, n_estimators=150;, score=-6.736 total time=  16.7s\n",
            "[CV 2/3] END learning_rate=0.01, max_depth=3, n_estimators=150;, score=-6.621 total time=  18.7s\n",
            "[CV 3/3] END learning_rate=0.01, max_depth=3, n_estimators=150;, score=-6.558 total time=  16.8s\n",
            "[CV 1/3] END learning_rate=0.01, max_depth=3, n_estimators=200;, score=-2.530 total time=  24.2s\n",
            "[CV 2/3] END learning_rate=0.01, max_depth=3, n_estimators=200;, score=-2.470 total time=  24.3s\n",
            "[CV 3/3] END learning_rate=0.01, max_depth=3, n_estimators=200;, score=-2.419 total time=  24.6s\n",
            "[CV 1/3] END learning_rate=0.01, max_depth=6, n_estimators=100;, score=-18.120 total time=  10.3s\n",
            "[CV 2/3] END learning_rate=0.01, max_depth=6, n_estimators=100;, score=-17.924 total time=  10.4s\n",
            "[CV 3/3] END learning_rate=0.01, max_depth=6, n_estimators=100;, score=-17.855 total time=  10.5s\n",
            "[CV 1/3] END learning_rate=0.01, max_depth=6, n_estimators=150;, score=-6.737 total time=  16.8s\n",
            "[CV 2/3] END learning_rate=0.01, max_depth=6, n_estimators=150;, score=-6.621 total time=  17.6s\n",
            "[CV 3/3] END learning_rate=0.01, max_depth=6, n_estimators=150;, score=-6.558 total time=  17.2s\n",
            "[CV 1/3] END learning_rate=0.01, max_depth=6, n_estimators=200;, score=-2.530 total time=  29.3s\n",
            "[CV 2/3] END learning_rate=0.01, max_depth=6, n_estimators=200;, score=-2.470 total time=  27.2s\n",
            "[CV 3/3] END learning_rate=0.01, max_depth=6, n_estimators=200;, score=-2.418 total time=  28.0s\n",
            "[CV 1/3] END learning_rate=0.01, max_depth=10, n_estimators=100;, score=-18.120 total time=  10.2s\n",
            "[CV 2/3] END learning_rate=0.01, max_depth=10, n_estimators=100;, score=-17.924 total time=  10.5s\n",
            "[CV 3/3] END learning_rate=0.01, max_depth=10, n_estimators=100;, score=-17.855 total time=   9.4s\n",
            "[CV 1/3] END learning_rate=0.01, max_depth=10, n_estimators=150;, score=-6.737 total time=  17.8s\n",
            "[CV 2/3] END learning_rate=0.01, max_depth=10, n_estimators=150;, score=-6.621 total time=  16.4s\n",
            "[CV 3/3] END learning_rate=0.01, max_depth=10, n_estimators=150;, score=-6.558 total time=  18.7s\n",
            "[CV 1/3] END learning_rate=0.01, max_depth=10, n_estimators=200;, score=-2.530 total time=  28.3s\n",
            "[CV 2/3] END learning_rate=0.01, max_depth=10, n_estimators=200;, score=-2.470 total time=  26.3s\n",
            "[CV 3/3] END learning_rate=0.01, max_depth=10, n_estimators=200;, score=-2.418 total time=  29.8s\n",
            "[CV 1/3] END learning_rate=0.1, max_depth=3, n_estimators=100;, score=-0.024 total time=  14.8s\n",
            "[CV 2/3] END learning_rate=0.1, max_depth=3, n_estimators=100;, score=-0.033 total time=  14.4s\n",
            "[CV 3/3] END learning_rate=0.1, max_depth=3, n_estimators=100;, score=-0.020 total time=  17.5s\n",
            "[CV 1/3] END learning_rate=0.1, max_depth=3, n_estimators=150;, score=-0.024 total time=  21.5s\n",
            "[CV 2/3] END learning_rate=0.1, max_depth=3, n_estimators=150;, score=-0.031 total time=  22.6s\n",
            "[CV 3/3] END learning_rate=0.1, max_depth=3, n_estimators=150;, score=-0.019 total time=  22.7s\n",
            "[CV 1/3] END learning_rate=0.1, max_depth=3, n_estimators=200;, score=-0.023 total time=  30.3s\n",
            "[CV 2/3] END learning_rate=0.1, max_depth=3, n_estimators=200;, score=-0.030 total time=  29.0s\n",
            "[CV 3/3] END learning_rate=0.1, max_depth=3, n_estimators=200;, score=-0.019 total time=  29.1s\n",
            "[CV 1/3] END learning_rate=0.1, max_depth=6, n_estimators=100;, score=-0.024 total time=  24.1s\n",
            "[CV 2/3] END learning_rate=0.1, max_depth=6, n_estimators=100;, score=-0.032 total time=  23.6s\n",
            "[CV 3/3] END learning_rate=0.1, max_depth=6, n_estimators=100;, score=-0.020 total time=  26.6s\n",
            "[CV 1/3] END learning_rate=0.1, max_depth=6, n_estimators=150;, score=-0.024 total time=  37.2s\n",
            "[CV 2/3] END learning_rate=0.1, max_depth=6, n_estimators=150;, score=-0.031 total time=  36.7s\n",
            "[CV 3/3] END learning_rate=0.1, max_depth=6, n_estimators=150;, score=-0.019 total time=  37.0s\n",
            "[CV 1/3] END learning_rate=0.1, max_depth=6, n_estimators=200;, score=-0.024 total time=  49.6s\n",
            "[CV 2/3] END learning_rate=0.1, max_depth=6, n_estimators=200;, score=-0.031 total time=  49.3s\n",
            "[CV 3/3] END learning_rate=0.1, max_depth=6, n_estimators=200;, score=-0.019 total time=  50.9s\n",
            "[CV 1/3] END learning_rate=0.1, max_depth=10, n_estimators=100;, score=-0.024 total time=  35.9s\n",
            "[CV 2/3] END learning_rate=0.1, max_depth=10, n_estimators=100;, score=-0.031 total time=  35.6s\n",
            "[CV 3/3] END learning_rate=0.1, max_depth=10, n_estimators=100;, score=-0.020 total time=  35.7s\n",
            "[CV 1/3] END learning_rate=0.1, max_depth=10, n_estimators=150;, score=-0.023 total time=  56.3s\n",
            "[CV 2/3] END learning_rate=0.1, max_depth=10, n_estimators=150;, score=-0.030 total time=  56.1s\n",
            "[CV 3/3] END learning_rate=0.1, max_depth=10, n_estimators=150;, score=-0.019 total time=  56.8s\n",
            "[CV 1/3] END learning_rate=0.1, max_depth=10, n_estimators=200;, score=-0.023 total time= 1.3min\n",
            "[CV 2/3] END learning_rate=0.1, max_depth=10, n_estimators=200;, score=-0.030 total time= 1.2min\n",
            "[CV 3/3] END learning_rate=0.1, max_depth=10, n_estimators=200;, score=-0.019 total time= 1.3min\n",
            "The best parameters are: {'learning_rate': 0.1, 'max_depth': 3, 'n_estimators': 200}\n",
            "The best rmse on log(y) is: 0.15486853747623894\n"
          ]
        }
      ]
    },
    {
      "cell_type": "code",
      "source": [
        "xgb_best = XGBRegressor(learning_rate= 0.1, max_depth= 3, n_estimators= 200)\n",
        "xgb_best.fit(X_train,np.log(y_train))\n",
        "y_hat = np.exp(xgb_best.predict(X_test))\n",
        "print('The best rmse on y is:', np.sqrt(mean_squared_error(y_test,y_hat)))"
      ],
      "metadata": {
        "colab": {
          "base_uri": "https://localhost:8080/"
        },
        "id": "CSmAIh9lC59S",
        "outputId": "3079367d-362a-4c9c-93eb-1f2bfbfedf21"
      },
      "execution_count": 20,
      "outputs": [
        {
          "output_type": "stream",
          "name": "stdout",
          "text": [
            "The best rmse on y is: 29737.45331907544\n"
          ]
        }
      ]
    },
    {
      "cell_type": "code",
      "source": [
        "xgb = XGBRegressor(learning_rate= 0.1, max_depth= 3, n_estimators= 500)\n",
        "xgb.fit(X_train,np.log(y_train))\n",
        "log_y_hat =xgb.predict(X_test)\n",
        "print('The rmse on log y is:', np.sqrt(mean_squared_error(np.log(y_test),log_y_hat)))\n",
        "print('The best rmse on y is:', np.sqrt(mean_squared_error(y_test,np.exp(log_y_hat))))"
      ],
      "metadata": {
        "colab": {
          "base_uri": "https://localhost:8080/"
        },
        "id": "oz1p-G2uRYDp",
        "outputId": "7f80cf2a-df93-41d5-84ee-bee96b4783b5"
      },
      "execution_count": 22,
      "outputs": [
        {
          "output_type": "stream",
          "name": "stdout",
          "text": [
            "The rmse on log y is: 0.14508934905293464\n",
            "The best rmse on y is: 29782.28894440769\n"
          ]
        }
      ]
    },
    {
      "cell_type": "code",
      "source": [
        "xgb = XGBRegressor(learning_rate= 0.1, max_depth= 3, n_estimators= 1000)\n",
        "xgb.fit(X_train,np.log(y_train))\n",
        "log_y_hat =xgb.predict(X_test)\n",
        "print('The rmse on log y is:', np.sqrt(mean_squared_error(np.log(y_test),log_y_hat)))\n",
        "print('The best rmse on y is:', np.sqrt(mean_squared_error(y_test,np.exp(log_y_hat))))"
      ],
      "metadata": {
        "colab": {
          "base_uri": "https://localhost:8080/"
        },
        "id": "jY5NtTVSSshR",
        "outputId": "7d879c8b-85b3-486c-e1a2-31b88acd94ab"
      },
      "execution_count": 23,
      "outputs": [
        {
          "output_type": "stream",
          "name": "stdout",
          "text": [
            "The rmse on log y is: 0.1445902832603584\n",
            "The best rmse on y is: 29682.666472371195\n"
          ]
        }
      ]
    },
    {
      "cell_type": "code",
      "source": [
        "import lightgbm"
      ],
      "metadata": {
        "id": "4MHoZjaVuiMM"
      },
      "execution_count": null,
      "outputs": []
    }
  ]
}