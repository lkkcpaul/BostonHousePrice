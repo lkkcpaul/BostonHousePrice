{
  "cells": [
    {
      "cell_type": "markdown",
      "metadata": {
        "id": "view-in-github",
        "colab_type": "text"
      },
      "source": [
        "<a href=\"https://colab.research.google.com/github/lkkcpaul/BostonHousePrice/blob/main/Copy_of_Ian_starter_notebook_tfdf.ipynb\" target=\"_parent\"><img src=\"https://colab.research.google.com/assets/colab-badge.svg\" alt=\"Open In Colab\"/></a>"
      ]
    },
    {
      "cell_type": "markdown",
      "metadata": {
        "id": "5v5mm4amQRrm",
        "papermill": {
          "duration": 0.010092,
          "end_time": "2023-03-07T06:21:39.774967",
          "exception": false,
          "start_time": "2023-03-07T06:21:39.764875",
          "status": "completed"
        },
        "tags": []
      },
      "source": [
        "# House Prices Prediction using TensorFlow Decision Forests"
      ]
    },
    {
      "cell_type": "code",
      "execution_count": null,
      "metadata": {
        "colab": {
          "base_uri": "https://localhost:8080/"
        },
        "id": "bcdQHuB1-HA5",
        "outputId": "87e56242-638e-4a37-972b-83e3d327d017"
      },
      "outputs": [
        {
          "output_type": "stream",
          "name": "stdout",
          "text": [
            "Looking in indexes: https://pypi.org/simple, https://us-python.pkg.dev/colab-wheels/public/simple/\n",
            "Requirement already satisfied: tensorflow_decision_forests in /usr/local/lib/python3.10/dist-packages (1.3.0)\n",
            "Requirement already satisfied: numpy in /usr/local/lib/python3.10/dist-packages (from tensorflow_decision_forests) (1.22.4)\n",
            "Requirement already satisfied: pandas in /usr/local/lib/python3.10/dist-packages (from tensorflow_decision_forests) (1.5.3)\n",
            "Requirement already satisfied: tensorflow~=2.12.0 in /usr/local/lib/python3.10/dist-packages (from tensorflow_decision_forests) (2.12.0)\n",
            "Requirement already satisfied: six in /usr/local/lib/python3.10/dist-packages (from tensorflow_decision_forests) (1.16.0)\n",
            "Requirement already satisfied: absl-py in /usr/local/lib/python3.10/dist-packages (from tensorflow_decision_forests) (1.4.0)\n",
            "Requirement already satisfied: wheel in /usr/local/lib/python3.10/dist-packages (from tensorflow_decision_forests) (0.40.0)\n",
            "Requirement already satisfied: wurlitzer in /usr/local/lib/python3.10/dist-packages (from tensorflow_decision_forests) (3.0.3)\n",
            "Requirement already satisfied: astunparse>=1.6.0 in /usr/local/lib/python3.10/dist-packages (from tensorflow~=2.12.0->tensorflow_decision_forests) (1.6.3)\n",
            "Requirement already satisfied: flatbuffers>=2.0 in /usr/local/lib/python3.10/dist-packages (from tensorflow~=2.12.0->tensorflow_decision_forests) (23.3.3)\n",
            "Requirement already satisfied: gast<=0.4.0,>=0.2.1 in /usr/local/lib/python3.10/dist-packages (from tensorflow~=2.12.0->tensorflow_decision_forests) (0.4.0)\n",
            "Requirement already satisfied: google-pasta>=0.1.1 in /usr/local/lib/python3.10/dist-packages (from tensorflow~=2.12.0->tensorflow_decision_forests) (0.2.0)\n",
            "Requirement already satisfied: grpcio<2.0,>=1.24.3 in /usr/local/lib/python3.10/dist-packages (from tensorflow~=2.12.0->tensorflow_decision_forests) (1.54.0)\n",
            "Requirement already satisfied: h5py>=2.9.0 in /usr/local/lib/python3.10/dist-packages (from tensorflow~=2.12.0->tensorflow_decision_forests) (3.8.0)\n",
            "Requirement already satisfied: jax>=0.3.15 in /usr/local/lib/python3.10/dist-packages (from tensorflow~=2.12.0->tensorflow_decision_forests) (0.4.10)\n",
            "Requirement already satisfied: keras<2.13,>=2.12.0 in /usr/local/lib/python3.10/dist-packages (from tensorflow~=2.12.0->tensorflow_decision_forests) (2.12.0)\n",
            "Requirement already satisfied: libclang>=13.0.0 in /usr/local/lib/python3.10/dist-packages (from tensorflow~=2.12.0->tensorflow_decision_forests) (16.0.0)\n",
            "Requirement already satisfied: opt-einsum>=2.3.2 in /usr/local/lib/python3.10/dist-packages (from tensorflow~=2.12.0->tensorflow_decision_forests) (3.3.0)\n",
            "Requirement already satisfied: packaging in /usr/local/lib/python3.10/dist-packages (from tensorflow~=2.12.0->tensorflow_decision_forests) (23.1)\n",
            "Requirement already satisfied: protobuf!=4.21.0,!=4.21.1,!=4.21.2,!=4.21.3,!=4.21.4,!=4.21.5,<5.0.0dev,>=3.20.3 in /usr/local/lib/python3.10/dist-packages (from tensorflow~=2.12.0->tensorflow_decision_forests) (3.20.3)\n",
            "Requirement already satisfied: setuptools in /usr/local/lib/python3.10/dist-packages (from tensorflow~=2.12.0->tensorflow_decision_forests) (67.7.2)\n",
            "Requirement already satisfied: tensorboard<2.13,>=2.12 in /usr/local/lib/python3.10/dist-packages (from tensorflow~=2.12.0->tensorflow_decision_forests) (2.12.2)\n",
            "Requirement already satisfied: tensorflow-estimator<2.13,>=2.12.0 in /usr/local/lib/python3.10/dist-packages (from tensorflow~=2.12.0->tensorflow_decision_forests) (2.12.0)\n",
            "Requirement already satisfied: termcolor>=1.1.0 in /usr/local/lib/python3.10/dist-packages (from tensorflow~=2.12.0->tensorflow_decision_forests) (2.3.0)\n",
            "Requirement already satisfied: typing-extensions>=3.6.6 in /usr/local/lib/python3.10/dist-packages (from tensorflow~=2.12.0->tensorflow_decision_forests) (4.5.0)\n",
            "Requirement already satisfied: wrapt<1.15,>=1.11.0 in /usr/local/lib/python3.10/dist-packages (from tensorflow~=2.12.0->tensorflow_decision_forests) (1.14.1)\n",
            "Requirement already satisfied: tensorflow-io-gcs-filesystem>=0.23.1 in /usr/local/lib/python3.10/dist-packages (from tensorflow~=2.12.0->tensorflow_decision_forests) (0.32.0)\n",
            "Requirement already satisfied: python-dateutil>=2.8.1 in /usr/local/lib/python3.10/dist-packages (from pandas->tensorflow_decision_forests) (2.8.2)\n",
            "Requirement already satisfied: pytz>=2020.1 in /usr/local/lib/python3.10/dist-packages (from pandas->tensorflow_decision_forests) (2022.7.1)\n",
            "Requirement already satisfied: ml-dtypes>=0.1.0 in /usr/local/lib/python3.10/dist-packages (from jax>=0.3.15->tensorflow~=2.12.0->tensorflow_decision_forests) (0.1.0)\n",
            "Requirement already satisfied: scipy>=1.7 in /usr/local/lib/python3.10/dist-packages (from jax>=0.3.15->tensorflow~=2.12.0->tensorflow_decision_forests) (1.10.1)\n",
            "Requirement already satisfied: google-auth<3,>=1.6.3 in /usr/local/lib/python3.10/dist-packages (from tensorboard<2.13,>=2.12->tensorflow~=2.12.0->tensorflow_decision_forests) (2.17.3)\n",
            "Requirement already satisfied: google-auth-oauthlib<1.1,>=0.5 in /usr/local/lib/python3.10/dist-packages (from tensorboard<2.13,>=2.12->tensorflow~=2.12.0->tensorflow_decision_forests) (1.0.0)\n",
            "Requirement already satisfied: markdown>=2.6.8 in /usr/local/lib/python3.10/dist-packages (from tensorboard<2.13,>=2.12->tensorflow~=2.12.0->tensorflow_decision_forests) (3.4.3)\n",
            "Requirement already satisfied: requests<3,>=2.21.0 in /usr/local/lib/python3.10/dist-packages (from tensorboard<2.13,>=2.12->tensorflow~=2.12.0->tensorflow_decision_forests) (2.27.1)\n",
            "Requirement already satisfied: tensorboard-data-server<0.8.0,>=0.7.0 in /usr/local/lib/python3.10/dist-packages (from tensorboard<2.13,>=2.12->tensorflow~=2.12.0->tensorflow_decision_forests) (0.7.0)\n",
            "Requirement already satisfied: tensorboard-plugin-wit>=1.6.0 in /usr/local/lib/python3.10/dist-packages (from tensorboard<2.13,>=2.12->tensorflow~=2.12.0->tensorflow_decision_forests) (1.8.1)\n",
            "Requirement already satisfied: werkzeug>=1.0.1 in /usr/local/lib/python3.10/dist-packages (from tensorboard<2.13,>=2.12->tensorflow~=2.12.0->tensorflow_decision_forests) (2.3.0)\n",
            "Requirement already satisfied: cachetools<6.0,>=2.0.0 in /usr/local/lib/python3.10/dist-packages (from google-auth<3,>=1.6.3->tensorboard<2.13,>=2.12->tensorflow~=2.12.0->tensorflow_decision_forests) (5.3.0)\n",
            "Requirement already satisfied: pyasn1-modules>=0.2.1 in /usr/local/lib/python3.10/dist-packages (from google-auth<3,>=1.6.3->tensorboard<2.13,>=2.12->tensorflow~=2.12.0->tensorflow_decision_forests) (0.3.0)\n",
            "Requirement already satisfied: rsa<5,>=3.1.4 in /usr/local/lib/python3.10/dist-packages (from google-auth<3,>=1.6.3->tensorboard<2.13,>=2.12->tensorflow~=2.12.0->tensorflow_decision_forests) (4.9)\n",
            "Requirement already satisfied: requests-oauthlib>=0.7.0 in /usr/local/lib/python3.10/dist-packages (from google-auth-oauthlib<1.1,>=0.5->tensorboard<2.13,>=2.12->tensorflow~=2.12.0->tensorflow_decision_forests) (1.3.1)\n",
            "Requirement already satisfied: urllib3<1.27,>=1.21.1 in /usr/local/lib/python3.10/dist-packages (from requests<3,>=2.21.0->tensorboard<2.13,>=2.12->tensorflow~=2.12.0->tensorflow_decision_forests) (1.26.15)\n",
            "Requirement already satisfied: certifi>=2017.4.17 in /usr/local/lib/python3.10/dist-packages (from requests<3,>=2.21.0->tensorboard<2.13,>=2.12->tensorflow~=2.12.0->tensorflow_decision_forests) (2022.12.7)\n",
            "Requirement already satisfied: charset-normalizer~=2.0.0 in /usr/local/lib/python3.10/dist-packages (from requests<3,>=2.21.0->tensorboard<2.13,>=2.12->tensorflow~=2.12.0->tensorflow_decision_forests) (2.0.12)\n",
            "Requirement already satisfied: idna<4,>=2.5 in /usr/local/lib/python3.10/dist-packages (from requests<3,>=2.21.0->tensorboard<2.13,>=2.12->tensorflow~=2.12.0->tensorflow_decision_forests) (3.4)\n",
            "Requirement already satisfied: MarkupSafe>=2.1.1 in /usr/local/lib/python3.10/dist-packages (from werkzeug>=1.0.1->tensorboard<2.13,>=2.12->tensorflow~=2.12.0->tensorflow_decision_forests) (2.1.2)\n",
            "Requirement already satisfied: pyasn1<0.6.0,>=0.4.6 in /usr/local/lib/python3.10/dist-packages (from pyasn1-modules>=0.2.1->google-auth<3,>=1.6.3->tensorboard<2.13,>=2.12->tensorflow~=2.12.0->tensorflow_decision_forests) (0.5.0)\n",
            "Requirement already satisfied: oauthlib>=3.0.0 in /usr/local/lib/python3.10/dist-packages (from requests-oauthlib>=0.7.0->google-auth-oauthlib<1.1,>=0.5->tensorboard<2.13,>=2.12->tensorflow~=2.12.0->tensorflow_decision_forests) (3.2.2)\n"
          ]
        }
      ],
      "source": [
        "!pip install tensorflow_decision_forests"
      ]
    },
    {
      "cell_type": "code",
      "source": [
        "!pip install wurlitzer -U -qq"
      ],
      "metadata": {
        "id": "VElxzizjGBkk"
      },
      "execution_count": null,
      "outputs": []
    },
    {
      "cell_type": "code",
      "source": [
        "#@title Define \"set_cell_height\".\n",
        "\n",
        "from IPython.core.magic import register_line_magic\n",
        "from IPython.display import Javascript\n",
        "from IPython.display import display\n",
        "\n",
        "# Some of the model training logs can cover the full\n",
        "# screen if not compressed to a smaller viewport.\n",
        "# This magic allows setting a max height for a cell.\n",
        "@register_line_magic\n",
        "def set_cell_height(size):\n",
        "  display(\n",
        "      Javascript(\"google.colab.output.setIframeHeight(0, true, {maxHeight: \" +\n",
        "                 str(size) + \"})\"))"
      ],
      "metadata": {
        "id": "6Ft0kr9MGHry"
      },
      "execution_count": null,
      "outputs": []
    },
    {
      "cell_type": "code",
      "execution_count": null,
      "metadata": {
        "execution": {
          "iopub.execute_input": "2023-04-03T10:16:35.895973Z",
          "iopub.status.busy": "2023-04-03T10:16:35.894614Z",
          "iopub.status.idle": "2023-04-03T10:16:47.883856Z",
          "shell.execute_reply": "2023-04-03T10:16:47.882286Z",
          "shell.execute_reply.started": "2023-04-03T10:16:35.895917Z"
        },
        "id": "IGmyjJJatzBZ",
        "papermill": {
          "duration": 8.300496,
          "end_time": "2023-03-07T06:21:48.118668",
          "exception": false,
          "start_time": "2023-03-07T06:21:39.818172",
          "status": "completed"
        },
        "tags": []
      },
      "outputs": [],
      "source": [
        "import tensorflow as tf\n",
        "import tensorflow_decision_forests as tfdf\n",
        "import pandas as pd\n",
        "import seaborn as sns\n",
        "import matplotlib.pyplot as plt\n",
        "\n",
        "# Comment this if the data visualisations doesn't work on your side\n",
        "%matplotlib inline"
      ]
    },
    {
      "cell_type": "code",
      "execution_count": null,
      "metadata": {
        "colab": {
          "base_uri": "https://localhost:8080/"
        },
        "execution": {
          "iopub.execute_input": "2023-04-03T10:16:47.888401Z",
          "iopub.status.busy": "2023-04-03T10:16:47.887389Z",
          "iopub.status.idle": "2023-04-03T10:16:47.895846Z",
          "shell.execute_reply": "2023-04-03T10:16:47.89443Z",
          "shell.execute_reply.started": "2023-04-03T10:16:47.888314Z"
        },
        "id": "dh4qwB4iN7Ue",
        "outputId": "32965d31-545c-46b2-b88c-2cc5ec4fd4cc",
        "papermill": {
          "duration": 0.019012,
          "end_time": "2023-03-07T06:21:48.149058",
          "exception": false,
          "start_time": "2023-03-07T06:21:48.130046",
          "status": "completed"
        },
        "tags": []
      },
      "outputs": [
        {
          "output_type": "stream",
          "name": "stdout",
          "text": [
            "TensorFlow v2.12.0\n",
            "TensorFlow Decision Forests v1.3.0\n"
          ]
        }
      ],
      "source": [
        "print(\"TensorFlow v\" + tf.__version__)\n",
        "print(\"TensorFlow Decision Forests v\" + tfdf.__version__)"
      ]
    },
    {
      "cell_type": "markdown",
      "metadata": {
        "id": "-3vxMmCPvqpf",
        "papermill": {
          "duration": 0.009922,
          "end_time": "2023-03-07T06:21:48.16945",
          "exception": false,
          "start_time": "2023-03-07T06:21:48.159528",
          "status": "completed"
        },
        "tags": []
      },
      "source": [
        "## Load the dataset\n"
      ]
    },
    {
      "cell_type": "code",
      "execution_count": null,
      "metadata": {
        "colab": {
          "base_uri": "https://localhost:8080/"
        },
        "execution": {
          "iopub.execute_input": "2023-04-03T10:16:47.909243Z",
          "iopub.status.busy": "2023-04-03T10:16:47.908792Z",
          "iopub.status.idle": "2023-04-03T10:16:47.953669Z",
          "shell.execute_reply": "2023-04-03T10:16:47.952207Z",
          "shell.execute_reply.started": "2023-04-03T10:16:47.909192Z"
        },
        "id": "JVMPH_IDOBH2",
        "outputId": "e75a5259-0d1a-476d-a038-25a346de0f91",
        "papermill": {
          "duration": 0.066785,
          "end_time": "2023-03-07T06:21:48.245226",
          "exception": false,
          "start_time": "2023-03-07T06:21:48.178441",
          "status": "completed"
        },
        "tags": []
      },
      "outputs": [
        {
          "output_type": "stream",
          "name": "stdout",
          "text": [
            "Full train dataset shape is (1460, 81)\n"
          ]
        }
      ],
      "source": [
        "train_file_url = \"https://raw.githubusercontent.com/lkkcpaul/BostonHousePrice/main/train.csv\"\n",
        "dataset_df = pd.read_csv(train_file_url)\n",
        "print(\"Full train dataset shape is {}\".format(dataset_df.shape))"
      ]
    },
    {
      "cell_type": "markdown",
      "metadata": {
        "id": "mTnx8h9i416m",
        "papermill": {
          "duration": 0.008651,
          "end_time": "2023-03-07T06:21:48.263024",
          "exception": false,
          "start_time": "2023-03-07T06:21:48.254373",
          "status": "completed"
        },
        "tags": []
      },
      "source": [
        "The data is composed of 81 columns and 1460 entries. We can see all 81 dimensions of our dataset by printing out the first 3 entries using the following code:"
      ]
    },
    {
      "cell_type": "code",
      "execution_count": null,
      "metadata": {
        "colab": {
          "base_uri": "https://localhost:8080/",
          "height": 237
        },
        "execution": {
          "iopub.execute_input": "2023-04-03T10:16:47.955731Z",
          "iopub.status.busy": "2023-04-03T10:16:47.955334Z",
          "iopub.status.idle": "2023-04-03T10:16:48.006911Z",
          "shell.execute_reply": "2023-04-03T10:16:48.005598Z",
          "shell.execute_reply.started": "2023-04-03T10:16:47.955692Z"
        },
        "id": "kgbP5R6X416m",
        "outputId": "faef4a0f-118e-4331-ec31-553cbba6ed7c",
        "papermill": {
          "duration": 0.049873,
          "end_time": "2023-03-07T06:21:48.321938",
          "exception": false,
          "start_time": "2023-03-07T06:21:48.272065",
          "status": "completed"
        },
        "tags": []
      },
      "outputs": [
        {
          "output_type": "execute_result",
          "data": {
            "text/plain": [
              "   Id  MSSubClass MSZoning  LotFrontage  LotArea Street Alley LotShape  \\\n",
              "0   1          60       RL         65.0     8450   Pave   NaN      Reg   \n",
              "1   2          20       RL         80.0     9600   Pave   NaN      Reg   \n",
              "2   3          60       RL         68.0    11250   Pave   NaN      IR1   \n",
              "\n",
              "  LandContour Utilities  ... PoolArea PoolQC Fence MiscFeature MiscVal MoSold  \\\n",
              "0         Lvl    AllPub  ...        0    NaN   NaN         NaN       0      2   \n",
              "1         Lvl    AllPub  ...        0    NaN   NaN         NaN       0      5   \n",
              "2         Lvl    AllPub  ...        0    NaN   NaN         NaN       0      9   \n",
              "\n",
              "  YrSold  SaleType  SaleCondition  SalePrice  \n",
              "0   2008        WD         Normal     208500  \n",
              "1   2007        WD         Normal     181500  \n",
              "2   2008        WD         Normal     223500  \n",
              "\n",
              "[3 rows x 81 columns]"
            ],
            "text/html": [
              "\n",
              "  <div id=\"df-aefa5cb4-9953-4135-b2c3-24441c4ec1c9\">\n",
              "    <div class=\"colab-df-container\">\n",
              "      <div>\n",
              "<style scoped>\n",
              "    .dataframe tbody tr th:only-of-type {\n",
              "        vertical-align: middle;\n",
              "    }\n",
              "\n",
              "    .dataframe tbody tr th {\n",
              "        vertical-align: top;\n",
              "    }\n",
              "\n",
              "    .dataframe thead th {\n",
              "        text-align: right;\n",
              "    }\n",
              "</style>\n",
              "<table border=\"1\" class=\"dataframe\">\n",
              "  <thead>\n",
              "    <tr style=\"text-align: right;\">\n",
              "      <th></th>\n",
              "      <th>Id</th>\n",
              "      <th>MSSubClass</th>\n",
              "      <th>MSZoning</th>\n",
              "      <th>LotFrontage</th>\n",
              "      <th>LotArea</th>\n",
              "      <th>Street</th>\n",
              "      <th>Alley</th>\n",
              "      <th>LotShape</th>\n",
              "      <th>LandContour</th>\n",
              "      <th>Utilities</th>\n",
              "      <th>...</th>\n",
              "      <th>PoolArea</th>\n",
              "      <th>PoolQC</th>\n",
              "      <th>Fence</th>\n",
              "      <th>MiscFeature</th>\n",
              "      <th>MiscVal</th>\n",
              "      <th>MoSold</th>\n",
              "      <th>YrSold</th>\n",
              "      <th>SaleType</th>\n",
              "      <th>SaleCondition</th>\n",
              "      <th>SalePrice</th>\n",
              "    </tr>\n",
              "  </thead>\n",
              "  <tbody>\n",
              "    <tr>\n",
              "      <th>0</th>\n",
              "      <td>1</td>\n",
              "      <td>60</td>\n",
              "      <td>RL</td>\n",
              "      <td>65.0</td>\n",
              "      <td>8450</td>\n",
              "      <td>Pave</td>\n",
              "      <td>NaN</td>\n",
              "      <td>Reg</td>\n",
              "      <td>Lvl</td>\n",
              "      <td>AllPub</td>\n",
              "      <td>...</td>\n",
              "      <td>0</td>\n",
              "      <td>NaN</td>\n",
              "      <td>NaN</td>\n",
              "      <td>NaN</td>\n",
              "      <td>0</td>\n",
              "      <td>2</td>\n",
              "      <td>2008</td>\n",
              "      <td>WD</td>\n",
              "      <td>Normal</td>\n",
              "      <td>208500</td>\n",
              "    </tr>\n",
              "    <tr>\n",
              "      <th>1</th>\n",
              "      <td>2</td>\n",
              "      <td>20</td>\n",
              "      <td>RL</td>\n",
              "      <td>80.0</td>\n",
              "      <td>9600</td>\n",
              "      <td>Pave</td>\n",
              "      <td>NaN</td>\n",
              "      <td>Reg</td>\n",
              "      <td>Lvl</td>\n",
              "      <td>AllPub</td>\n",
              "      <td>...</td>\n",
              "      <td>0</td>\n",
              "      <td>NaN</td>\n",
              "      <td>NaN</td>\n",
              "      <td>NaN</td>\n",
              "      <td>0</td>\n",
              "      <td>5</td>\n",
              "      <td>2007</td>\n",
              "      <td>WD</td>\n",
              "      <td>Normal</td>\n",
              "      <td>181500</td>\n",
              "    </tr>\n",
              "    <tr>\n",
              "      <th>2</th>\n",
              "      <td>3</td>\n",
              "      <td>60</td>\n",
              "      <td>RL</td>\n",
              "      <td>68.0</td>\n",
              "      <td>11250</td>\n",
              "      <td>Pave</td>\n",
              "      <td>NaN</td>\n",
              "      <td>IR1</td>\n",
              "      <td>Lvl</td>\n",
              "      <td>AllPub</td>\n",
              "      <td>...</td>\n",
              "      <td>0</td>\n",
              "      <td>NaN</td>\n",
              "      <td>NaN</td>\n",
              "      <td>NaN</td>\n",
              "      <td>0</td>\n",
              "      <td>9</td>\n",
              "      <td>2008</td>\n",
              "      <td>WD</td>\n",
              "      <td>Normal</td>\n",
              "      <td>223500</td>\n",
              "    </tr>\n",
              "  </tbody>\n",
              "</table>\n",
              "<p>3 rows × 81 columns</p>\n",
              "</div>\n",
              "      <button class=\"colab-df-convert\" onclick=\"convertToInteractive('df-aefa5cb4-9953-4135-b2c3-24441c4ec1c9')\"\n",
              "              title=\"Convert this dataframe to an interactive table.\"\n",
              "              style=\"display:none;\">\n",
              "        \n",
              "  <svg xmlns=\"http://www.w3.org/2000/svg\" height=\"24px\"viewBox=\"0 0 24 24\"\n",
              "       width=\"24px\">\n",
              "    <path d=\"M0 0h24v24H0V0z\" fill=\"none\"/>\n",
              "    <path d=\"M18.56 5.44l.94 2.06.94-2.06 2.06-.94-2.06-.94-.94-2.06-.94 2.06-2.06.94zm-11 1L8.5 8.5l.94-2.06 2.06-.94-2.06-.94L8.5 2.5l-.94 2.06-2.06.94zm10 10l.94 2.06.94-2.06 2.06-.94-2.06-.94-.94-2.06-.94 2.06-2.06.94z\"/><path d=\"M17.41 7.96l-1.37-1.37c-.4-.4-.92-.59-1.43-.59-.52 0-1.04.2-1.43.59L10.3 9.45l-7.72 7.72c-.78.78-.78 2.05 0 2.83L4 21.41c.39.39.9.59 1.41.59.51 0 1.02-.2 1.41-.59l7.78-7.78 2.81-2.81c.8-.78.8-2.07 0-2.86zM5.41 20L4 18.59l7.72-7.72 1.47 1.35L5.41 20z\"/>\n",
              "  </svg>\n",
              "      </button>\n",
              "      \n",
              "  <style>\n",
              "    .colab-df-container {\n",
              "      display:flex;\n",
              "      flex-wrap:wrap;\n",
              "      gap: 12px;\n",
              "    }\n",
              "\n",
              "    .colab-df-convert {\n",
              "      background-color: #E8F0FE;\n",
              "      border: none;\n",
              "      border-radius: 50%;\n",
              "      cursor: pointer;\n",
              "      display: none;\n",
              "      fill: #1967D2;\n",
              "      height: 32px;\n",
              "      padding: 0 0 0 0;\n",
              "      width: 32px;\n",
              "    }\n",
              "\n",
              "    .colab-df-convert:hover {\n",
              "      background-color: #E2EBFA;\n",
              "      box-shadow: 0px 1px 2px rgba(60, 64, 67, 0.3), 0px 1px 3px 1px rgba(60, 64, 67, 0.15);\n",
              "      fill: #174EA6;\n",
              "    }\n",
              "\n",
              "    [theme=dark] .colab-df-convert {\n",
              "      background-color: #3B4455;\n",
              "      fill: #D2E3FC;\n",
              "    }\n",
              "\n",
              "    [theme=dark] .colab-df-convert:hover {\n",
              "      background-color: #434B5C;\n",
              "      box-shadow: 0px 1px 3px 1px rgba(0, 0, 0, 0.15);\n",
              "      filter: drop-shadow(0px 1px 2px rgba(0, 0, 0, 0.3));\n",
              "      fill: #FFFFFF;\n",
              "    }\n",
              "  </style>\n",
              "\n",
              "      <script>\n",
              "        const buttonEl =\n",
              "          document.querySelector('#df-aefa5cb4-9953-4135-b2c3-24441c4ec1c9 button.colab-df-convert');\n",
              "        buttonEl.style.display =\n",
              "          google.colab.kernel.accessAllowed ? 'block' : 'none';\n",
              "\n",
              "        async function convertToInteractive(key) {\n",
              "          const element = document.querySelector('#df-aefa5cb4-9953-4135-b2c3-24441c4ec1c9');\n",
              "          const dataTable =\n",
              "            await google.colab.kernel.invokeFunction('convertToInteractive',\n",
              "                                                     [key], {});\n",
              "          if (!dataTable) return;\n",
              "\n",
              "          const docLinkHtml = 'Like what you see? Visit the ' +\n",
              "            '<a target=\"_blank\" href=https://colab.research.google.com/notebooks/data_table.ipynb>data table notebook</a>'\n",
              "            + ' to learn more about interactive tables.';\n",
              "          element.innerHTML = '';\n",
              "          dataTable['output_type'] = 'display_data';\n",
              "          await google.colab.output.renderOutput(dataTable, element);\n",
              "          const docLink = document.createElement('div');\n",
              "          docLink.innerHTML = docLinkHtml;\n",
              "          element.appendChild(docLink);\n",
              "        }\n",
              "      </script>\n",
              "    </div>\n",
              "  </div>\n",
              "  "
            ]
          },
          "metadata": {},
          "execution_count": 7
        }
      ],
      "source": [
        "dataset_df.head(3)"
      ]
    },
    {
      "cell_type": "markdown",
      "metadata": {
        "id": "ulu8XdxO416n",
        "papermill": {
          "duration": 0.009123,
          "end_time": "2023-03-07T06:21:48.340722",
          "exception": false,
          "start_time": "2023-03-07T06:21:48.331599",
          "status": "completed"
        },
        "tags": []
      },
      "source": [
        "* There are 79 feature columns. Using these features your model has to predict the house sale price indicated by the label column named `SalePrice`."
      ]
    },
    {
      "cell_type": "markdown",
      "metadata": {
        "id": "n82wWtvL416n",
        "papermill": {
          "duration": 0.009025,
          "end_time": "2023-03-07T06:21:48.359367",
          "exception": false,
          "start_time": "2023-03-07T06:21:48.350342",
          "status": "completed"
        },
        "tags": []
      },
      "source": [
        "We will drop the `Id` column as it is not necessary for model training."
      ]
    },
    {
      "cell_type": "code",
      "execution_count": null,
      "metadata": {
        "colab": {
          "base_uri": "https://localhost:8080/",
          "height": 237
        },
        "execution": {
          "iopub.execute_input": "2023-04-03T10:16:48.009074Z",
          "iopub.status.busy": "2023-04-03T10:16:48.008707Z",
          "iopub.status.idle": "2023-04-03T10:16:48.038767Z",
          "shell.execute_reply": "2023-04-03T10:16:48.037378Z",
          "shell.execute_reply.started": "2023-04-03T10:16:48.009038Z"
        },
        "id": "0lItmbYS416n",
        "outputId": "f86cd465-445a-49c6-c674-f54f3dc1ed81",
        "papermill": {
          "duration": 0.043419,
          "end_time": "2023-03-07T06:21:48.412206",
          "exception": false,
          "start_time": "2023-03-07T06:21:48.368787",
          "status": "completed"
        },
        "tags": []
      },
      "outputs": [
        {
          "output_type": "execute_result",
          "data": {
            "text/plain": [
              "   MSSubClass MSZoning  LotFrontage  LotArea Street Alley LotShape  \\\n",
              "0          60       RL         65.0     8450   Pave   NaN      Reg   \n",
              "1          20       RL         80.0     9600   Pave   NaN      Reg   \n",
              "2          60       RL         68.0    11250   Pave   NaN      IR1   \n",
              "\n",
              "  LandContour Utilities LotConfig  ... PoolArea PoolQC Fence MiscFeature  \\\n",
              "0         Lvl    AllPub    Inside  ...        0    NaN   NaN         NaN   \n",
              "1         Lvl    AllPub       FR2  ...        0    NaN   NaN         NaN   \n",
              "2         Lvl    AllPub    Inside  ...        0    NaN   NaN         NaN   \n",
              "\n",
              "  MiscVal MoSold  YrSold  SaleType  SaleCondition  SalePrice  \n",
              "0       0      2    2008        WD         Normal     208500  \n",
              "1       0      5    2007        WD         Normal     181500  \n",
              "2       0      9    2008        WD         Normal     223500  \n",
              "\n",
              "[3 rows x 80 columns]"
            ],
            "text/html": [
              "\n",
              "  <div id=\"df-bd5414c5-503c-4e20-b70b-c8456f983000\">\n",
              "    <div class=\"colab-df-container\">\n",
              "      <div>\n",
              "<style scoped>\n",
              "    .dataframe tbody tr th:only-of-type {\n",
              "        vertical-align: middle;\n",
              "    }\n",
              "\n",
              "    .dataframe tbody tr th {\n",
              "        vertical-align: top;\n",
              "    }\n",
              "\n",
              "    .dataframe thead th {\n",
              "        text-align: right;\n",
              "    }\n",
              "</style>\n",
              "<table border=\"1\" class=\"dataframe\">\n",
              "  <thead>\n",
              "    <tr style=\"text-align: right;\">\n",
              "      <th></th>\n",
              "      <th>MSSubClass</th>\n",
              "      <th>MSZoning</th>\n",
              "      <th>LotFrontage</th>\n",
              "      <th>LotArea</th>\n",
              "      <th>Street</th>\n",
              "      <th>Alley</th>\n",
              "      <th>LotShape</th>\n",
              "      <th>LandContour</th>\n",
              "      <th>Utilities</th>\n",
              "      <th>LotConfig</th>\n",
              "      <th>...</th>\n",
              "      <th>PoolArea</th>\n",
              "      <th>PoolQC</th>\n",
              "      <th>Fence</th>\n",
              "      <th>MiscFeature</th>\n",
              "      <th>MiscVal</th>\n",
              "      <th>MoSold</th>\n",
              "      <th>YrSold</th>\n",
              "      <th>SaleType</th>\n",
              "      <th>SaleCondition</th>\n",
              "      <th>SalePrice</th>\n",
              "    </tr>\n",
              "  </thead>\n",
              "  <tbody>\n",
              "    <tr>\n",
              "      <th>0</th>\n",
              "      <td>60</td>\n",
              "      <td>RL</td>\n",
              "      <td>65.0</td>\n",
              "      <td>8450</td>\n",
              "      <td>Pave</td>\n",
              "      <td>NaN</td>\n",
              "      <td>Reg</td>\n",
              "      <td>Lvl</td>\n",
              "      <td>AllPub</td>\n",
              "      <td>Inside</td>\n",
              "      <td>...</td>\n",
              "      <td>0</td>\n",
              "      <td>NaN</td>\n",
              "      <td>NaN</td>\n",
              "      <td>NaN</td>\n",
              "      <td>0</td>\n",
              "      <td>2</td>\n",
              "      <td>2008</td>\n",
              "      <td>WD</td>\n",
              "      <td>Normal</td>\n",
              "      <td>208500</td>\n",
              "    </tr>\n",
              "    <tr>\n",
              "      <th>1</th>\n",
              "      <td>20</td>\n",
              "      <td>RL</td>\n",
              "      <td>80.0</td>\n",
              "      <td>9600</td>\n",
              "      <td>Pave</td>\n",
              "      <td>NaN</td>\n",
              "      <td>Reg</td>\n",
              "      <td>Lvl</td>\n",
              "      <td>AllPub</td>\n",
              "      <td>FR2</td>\n",
              "      <td>...</td>\n",
              "      <td>0</td>\n",
              "      <td>NaN</td>\n",
              "      <td>NaN</td>\n",
              "      <td>NaN</td>\n",
              "      <td>0</td>\n",
              "      <td>5</td>\n",
              "      <td>2007</td>\n",
              "      <td>WD</td>\n",
              "      <td>Normal</td>\n",
              "      <td>181500</td>\n",
              "    </tr>\n",
              "    <tr>\n",
              "      <th>2</th>\n",
              "      <td>60</td>\n",
              "      <td>RL</td>\n",
              "      <td>68.0</td>\n",
              "      <td>11250</td>\n",
              "      <td>Pave</td>\n",
              "      <td>NaN</td>\n",
              "      <td>IR1</td>\n",
              "      <td>Lvl</td>\n",
              "      <td>AllPub</td>\n",
              "      <td>Inside</td>\n",
              "      <td>...</td>\n",
              "      <td>0</td>\n",
              "      <td>NaN</td>\n",
              "      <td>NaN</td>\n",
              "      <td>NaN</td>\n",
              "      <td>0</td>\n",
              "      <td>9</td>\n",
              "      <td>2008</td>\n",
              "      <td>WD</td>\n",
              "      <td>Normal</td>\n",
              "      <td>223500</td>\n",
              "    </tr>\n",
              "  </tbody>\n",
              "</table>\n",
              "<p>3 rows × 80 columns</p>\n",
              "</div>\n",
              "      <button class=\"colab-df-convert\" onclick=\"convertToInteractive('df-bd5414c5-503c-4e20-b70b-c8456f983000')\"\n",
              "              title=\"Convert this dataframe to an interactive table.\"\n",
              "              style=\"display:none;\">\n",
              "        \n",
              "  <svg xmlns=\"http://www.w3.org/2000/svg\" height=\"24px\"viewBox=\"0 0 24 24\"\n",
              "       width=\"24px\">\n",
              "    <path d=\"M0 0h24v24H0V0z\" fill=\"none\"/>\n",
              "    <path d=\"M18.56 5.44l.94 2.06.94-2.06 2.06-.94-2.06-.94-.94-2.06-.94 2.06-2.06.94zm-11 1L8.5 8.5l.94-2.06 2.06-.94-2.06-.94L8.5 2.5l-.94 2.06-2.06.94zm10 10l.94 2.06.94-2.06 2.06-.94-2.06-.94-.94-2.06-.94 2.06-2.06.94z\"/><path d=\"M17.41 7.96l-1.37-1.37c-.4-.4-.92-.59-1.43-.59-.52 0-1.04.2-1.43.59L10.3 9.45l-7.72 7.72c-.78.78-.78 2.05 0 2.83L4 21.41c.39.39.9.59 1.41.59.51 0 1.02-.2 1.41-.59l7.78-7.78 2.81-2.81c.8-.78.8-2.07 0-2.86zM5.41 20L4 18.59l7.72-7.72 1.47 1.35L5.41 20z\"/>\n",
              "  </svg>\n",
              "      </button>\n",
              "      \n",
              "  <style>\n",
              "    .colab-df-container {\n",
              "      display:flex;\n",
              "      flex-wrap:wrap;\n",
              "      gap: 12px;\n",
              "    }\n",
              "\n",
              "    .colab-df-convert {\n",
              "      background-color: #E8F0FE;\n",
              "      border: none;\n",
              "      border-radius: 50%;\n",
              "      cursor: pointer;\n",
              "      display: none;\n",
              "      fill: #1967D2;\n",
              "      height: 32px;\n",
              "      padding: 0 0 0 0;\n",
              "      width: 32px;\n",
              "    }\n",
              "\n",
              "    .colab-df-convert:hover {\n",
              "      background-color: #E2EBFA;\n",
              "      box-shadow: 0px 1px 2px rgba(60, 64, 67, 0.3), 0px 1px 3px 1px rgba(60, 64, 67, 0.15);\n",
              "      fill: #174EA6;\n",
              "    }\n",
              "\n",
              "    [theme=dark] .colab-df-convert {\n",
              "      background-color: #3B4455;\n",
              "      fill: #D2E3FC;\n",
              "    }\n",
              "\n",
              "    [theme=dark] .colab-df-convert:hover {\n",
              "      background-color: #434B5C;\n",
              "      box-shadow: 0px 1px 3px 1px rgba(0, 0, 0, 0.15);\n",
              "      filter: drop-shadow(0px 1px 2px rgba(0, 0, 0, 0.3));\n",
              "      fill: #FFFFFF;\n",
              "    }\n",
              "  </style>\n",
              "\n",
              "      <script>\n",
              "        const buttonEl =\n",
              "          document.querySelector('#df-bd5414c5-503c-4e20-b70b-c8456f983000 button.colab-df-convert');\n",
              "        buttonEl.style.display =\n",
              "          google.colab.kernel.accessAllowed ? 'block' : 'none';\n",
              "\n",
              "        async function convertToInteractive(key) {\n",
              "          const element = document.querySelector('#df-bd5414c5-503c-4e20-b70b-c8456f983000');\n",
              "          const dataTable =\n",
              "            await google.colab.kernel.invokeFunction('convertToInteractive',\n",
              "                                                     [key], {});\n",
              "          if (!dataTable) return;\n",
              "\n",
              "          const docLinkHtml = 'Like what you see? Visit the ' +\n",
              "            '<a target=\"_blank\" href=https://colab.research.google.com/notebooks/data_table.ipynb>data table notebook</a>'\n",
              "            + ' to learn more about interactive tables.';\n",
              "          element.innerHTML = '';\n",
              "          dataTable['output_type'] = 'display_data';\n",
              "          await google.colab.output.renderOutput(dataTable, element);\n",
              "          const docLink = document.createElement('div');\n",
              "          docLink.innerHTML = docLinkHtml;\n",
              "          element.appendChild(docLink);\n",
              "        }\n",
              "      </script>\n",
              "    </div>\n",
              "  </div>\n",
              "  "
            ]
          },
          "metadata": {},
          "execution_count": 7
        }
      ],
      "source": [
        "dataset_df = dataset_df.drop('Id', axis=1)\n",
        "dataset_df.head(3)"
      ]
    },
    {
      "cell_type": "markdown",
      "metadata": {
        "id": "QA_v408l416n",
        "papermill": {
          "duration": 0.009883,
          "end_time": "2023-03-07T06:21:48.432601",
          "exception": false,
          "start_time": "2023-03-07T06:21:48.422718",
          "status": "completed"
        },
        "tags": []
      },
      "source": [
        "We can inspect the types of feature columns using the following code:"
      ]
    },
    {
      "cell_type": "code",
      "execution_count": null,
      "metadata": {
        "colab": {
          "base_uri": "https://localhost:8080/"
        },
        "execution": {
          "iopub.execute_input": "2023-04-03T10:16:48.04088Z",
          "iopub.status.busy": "2023-04-03T10:16:48.040503Z",
          "iopub.status.idle": "2023-04-03T10:16:48.081067Z",
          "shell.execute_reply": "2023-04-03T10:16:48.07956Z",
          "shell.execute_reply.started": "2023-04-03T10:16:48.040842Z"
        },
        "id": "du6DU4Of416n",
        "outputId": "d8302727-6bf9-4963-9f5d-54c540c35dc4",
        "papermill": {
          "duration": 0.046783,
          "end_time": "2023-03-07T06:21:48.489619",
          "exception": false,
          "start_time": "2023-03-07T06:21:48.442836",
          "status": "completed"
        },
        "tags": []
      },
      "outputs": [
        {
          "output_type": "stream",
          "name": "stdout",
          "text": [
            "<class 'pandas.core.frame.DataFrame'>\n",
            "RangeIndex: 1460 entries, 0 to 1459\n",
            "Data columns (total 80 columns):\n",
            " #   Column         Non-Null Count  Dtype  \n",
            "---  ------         --------------  -----  \n",
            " 0   MSSubClass     1460 non-null   int64  \n",
            " 1   MSZoning       1460 non-null   object \n",
            " 2   LotFrontage    1201 non-null   float64\n",
            " 3   LotArea        1460 non-null   int64  \n",
            " 4   Street         1460 non-null   object \n",
            " 5   Alley          91 non-null     object \n",
            " 6   LotShape       1460 non-null   object \n",
            " 7   LandContour    1460 non-null   object \n",
            " 8   Utilities      1460 non-null   object \n",
            " 9   LotConfig      1460 non-null   object \n",
            " 10  LandSlope      1460 non-null   object \n",
            " 11  Neighborhood   1460 non-null   object \n",
            " 12  Condition1     1460 non-null   object \n",
            " 13  Condition2     1460 non-null   object \n",
            " 14  BldgType       1460 non-null   object \n",
            " 15  HouseStyle     1460 non-null   object \n",
            " 16  OverallQual    1460 non-null   int64  \n",
            " 17  OverallCond    1460 non-null   int64  \n",
            " 18  YearBuilt      1460 non-null   int64  \n",
            " 19  YearRemodAdd   1460 non-null   int64  \n",
            " 20  RoofStyle      1460 non-null   object \n",
            " 21  RoofMatl       1460 non-null   object \n",
            " 22  Exterior1st    1460 non-null   object \n",
            " 23  Exterior2nd    1460 non-null   object \n",
            " 24  MasVnrType     1452 non-null   object \n",
            " 25  MasVnrArea     1452 non-null   float64\n",
            " 26  ExterQual      1460 non-null   object \n",
            " 27  ExterCond      1460 non-null   object \n",
            " 28  Foundation     1460 non-null   object \n",
            " 29  BsmtQual       1423 non-null   object \n",
            " 30  BsmtCond       1423 non-null   object \n",
            " 31  BsmtExposure   1422 non-null   object \n",
            " 32  BsmtFinType1   1423 non-null   object \n",
            " 33  BsmtFinSF1     1460 non-null   int64  \n",
            " 34  BsmtFinType2   1422 non-null   object \n",
            " 35  BsmtFinSF2     1460 non-null   int64  \n",
            " 36  BsmtUnfSF      1460 non-null   int64  \n",
            " 37  TotalBsmtSF    1460 non-null   int64  \n",
            " 38  Heating        1460 non-null   object \n",
            " 39  HeatingQC      1460 non-null   object \n",
            " 40  CentralAir     1460 non-null   object \n",
            " 41  Electrical     1459 non-null   object \n",
            " 42  1stFlrSF       1460 non-null   int64  \n",
            " 43  2ndFlrSF       1460 non-null   int64  \n",
            " 44  LowQualFinSF   1460 non-null   int64  \n",
            " 45  GrLivArea      1460 non-null   int64  \n",
            " 46  BsmtFullBath   1460 non-null   int64  \n",
            " 47  BsmtHalfBath   1460 non-null   int64  \n",
            " 48  FullBath       1460 non-null   int64  \n",
            " 49  HalfBath       1460 non-null   int64  \n",
            " 50  BedroomAbvGr   1460 non-null   int64  \n",
            " 51  KitchenAbvGr   1460 non-null   int64  \n",
            " 52  KitchenQual    1460 non-null   object \n",
            " 53  TotRmsAbvGrd   1460 non-null   int64  \n",
            " 54  Functional     1460 non-null   object \n",
            " 55  Fireplaces     1460 non-null   int64  \n",
            " 56  FireplaceQu    770 non-null    object \n",
            " 57  GarageType     1379 non-null   object \n",
            " 58  GarageYrBlt    1379 non-null   float64\n",
            " 59  GarageFinish   1379 non-null   object \n",
            " 60  GarageCars     1460 non-null   int64  \n",
            " 61  GarageArea     1460 non-null   int64  \n",
            " 62  GarageQual     1379 non-null   object \n",
            " 63  GarageCond     1379 non-null   object \n",
            " 64  PavedDrive     1460 non-null   object \n",
            " 65  WoodDeckSF     1460 non-null   int64  \n",
            " 66  OpenPorchSF    1460 non-null   int64  \n",
            " 67  EnclosedPorch  1460 non-null   int64  \n",
            " 68  3SsnPorch      1460 non-null   int64  \n",
            " 69  ScreenPorch    1460 non-null   int64  \n",
            " 70  PoolArea       1460 non-null   int64  \n",
            " 71  PoolQC         7 non-null      object \n",
            " 72  Fence          281 non-null    object \n",
            " 73  MiscFeature    54 non-null     object \n",
            " 74  MiscVal        1460 non-null   int64  \n",
            " 75  MoSold         1460 non-null   int64  \n",
            " 76  YrSold         1460 non-null   int64  \n",
            " 77  SaleType       1460 non-null   object \n",
            " 78  SaleCondition  1460 non-null   object \n",
            " 79  SalePrice      1460 non-null   int64  \n",
            "dtypes: float64(3), int64(34), object(43)\n",
            "memory usage: 912.6+ KB\n"
          ]
        }
      ],
      "source": [
        "dataset_df.info()"
      ]
    },
    {
      "cell_type": "markdown",
      "metadata": {
        "id": "PxdZCHvk416o",
        "papermill": {
          "duration": 0.010252,
          "end_time": "2023-03-07T06:21:48.510224",
          "exception": false,
          "start_time": "2023-03-07T06:21:48.499972",
          "status": "completed"
        },
        "tags": []
      },
      "source": [
        "## House Price Distribution\n",
        "\n",
        "Now let us take a look at how the house prices are distributed."
      ]
    },
    {
      "cell_type": "code",
      "execution_count": null,
      "metadata": {
        "colab": {
          "base_uri": "https://localhost:8080/",
          "height": 1000
        },
        "execution": {
          "iopub.execute_input": "2023-04-03T10:16:48.082906Z",
          "iopub.status.busy": "2023-04-03T10:16:48.082557Z",
          "iopub.status.idle": "2023-04-03T10:16:48.803467Z",
          "shell.execute_reply": "2023-04-03T10:16:48.801979Z",
          "shell.execute_reply.started": "2023-04-03T10:16:48.082875Z"
        },
        "id": "qROZWZyE416o",
        "outputId": "466d627c-63ff-41f4-d5c2-88c699e47212",
        "papermill": {
          "duration": 0.497946,
          "end_time": "2023-03-07T06:21:49.018361",
          "exception": false,
          "start_time": "2023-03-07T06:21:48.520415",
          "status": "completed"
        },
        "tags": []
      },
      "outputs": [
        {
          "output_type": "stream",
          "name": "stdout",
          "text": [
            "count      1460.000000\n",
            "mean     180921.195890\n",
            "std       79442.502883\n",
            "min       34900.000000\n",
            "25%      129975.000000\n",
            "50%      163000.000000\n",
            "75%      214000.000000\n",
            "max      755000.000000\n",
            "Name: SalePrice, dtype: float64\n"
          ]
        },
        {
          "output_type": "stream",
          "name": "stderr",
          "text": [
            "<ipython-input-10-dc911a47893e>:3: UserWarning: \n",
            "\n",
            "`distplot` is a deprecated function and will be removed in seaborn v0.14.0.\n",
            "\n",
            "Please adapt your code to use either `displot` (a figure-level function with\n",
            "similar flexibility) or `histplot` (an axes-level function for histograms).\n",
            "\n",
            "For a guide to updating your code to use the new functions, please see\n",
            "https://gist.github.com/mwaskom/de44147ed2974457ad6372750bbe5751\n",
            "\n",
            "  sns.distplot(dataset_df['SalePrice'], color='g', bins=100, hist_kws={'alpha': 0.4});\n"
          ]
        },
        {
          "output_type": "display_data",
          "data": {
            "text/plain": [
              "<Figure size 900x800 with 1 Axes>"
            ],
            "image/png": "[encoded data removed]"
          },
          "metadata": {}
        }
      ],
      "source": [
        "print(dataset_df['SalePrice'].describe())\n",
        "plt.figure(figsize=(9, 8))\n",
        "sns.distplot(dataset_df['SalePrice'], color='g', bins=100, hist_kws={'alpha': 0.4});"
      ]
    },
    {
      "cell_type": "markdown",
      "metadata": {
        "id": "tKnn1nR-416o",
        "papermill": {
          "duration": 0.01022,
          "end_time": "2023-03-07T06:21:49.039644",
          "exception": false,
          "start_time": "2023-03-07T06:21:49.029424",
          "status": "completed"
        },
        "tags": []
      },
      "source": [
        "## Numerical data distribution\n",
        "\n",
        "We will now take a look at how the numerical features are distributed. In order to do this, let us first list all the types of data from our dataset and select only the numerical ones."
      ]
    },
    {
      "cell_type": "code",
      "execution_count": null,
      "metadata": {
        "colab": {
          "base_uri": "https://localhost:8080/"
        },
        "execution": {
          "iopub.execute_input": "2023-04-03T10:16:48.810622Z",
          "iopub.status.busy": "2023-04-03T10:16:48.810029Z",
          "iopub.status.idle": "2023-04-03T10:16:48.818289Z",
          "shell.execute_reply": "2023-04-03T10:16:48.817291Z",
          "shell.execute_reply.started": "2023-04-03T10:16:48.810565Z"
        },
        "id": "-hrMItSC416o",
        "outputId": "4f0b20f7-e91d-4e39-df49-3d85d8cca27e",
        "papermill": {
          "duration": 0.022381,
          "end_time": "2023-03-07T06:21:49.0727",
          "exception": false,
          "start_time": "2023-03-07T06:21:49.050319",
          "status": "completed"
        },
        "tags": []
      },
      "outputs": [
        {
          "output_type": "execute_result",
          "data": {
            "text/plain": [
              "[dtype('int64'), dtype('O'), dtype('float64')]"
            ]
          },
          "metadata": {},
          "execution_count": 11
        }
      ],
      "source": [
        "list(set(dataset_df.dtypes.tolist()))"
      ]
    },
    {
      "cell_type": "code",
      "execution_count": null,
      "metadata": {
        "colab": {
          "base_uri": "https://localhost:8080/",
          "height": 299
        },
        "execution": {
          "iopub.execute_input": "2023-04-03T10:16:48.820568Z",
          "iopub.status.busy": "2023-04-03T10:16:48.819903Z",
          "iopub.status.idle": "2023-04-03T10:16:48.850789Z",
          "shell.execute_reply": "2023-04-03T10:16:48.849192Z",
          "shell.execute_reply.started": "2023-04-03T10:16:48.820527Z"
        },
        "id": "Vg2PQvfb416o",
        "outputId": "81e1b269-b8d2-4c78-d325-f399965e894c",
        "papermill": {
          "duration": 0.038307,
          "end_time": "2023-03-07T06:21:49.122233",
          "exception": false,
          "start_time": "2023-03-07T06:21:49.083926",
          "status": "completed"
        },
        "tags": []
      },
      "outputs": [
        {
          "output_type": "execute_result",
          "data": {
            "text/plain": [
              "   MSSubClass  LotFrontage  LotArea  OverallQual  OverallCond  YearBuilt  \\\n",
              "0          60         65.0     8450            7            5       2003   \n",
              "1          20         80.0     9600            6            8       1976   \n",
              "2          60         68.0    11250            7            5       2001   \n",
              "3          70         60.0     9550            7            5       1915   \n",
              "4          60         84.0    14260            8            5       2000   \n",
              "\n",
              "   YearRemodAdd  MasVnrArea  BsmtFinSF1  BsmtFinSF2  ...  WoodDeckSF  \\\n",
              "0          2003       196.0         706           0  ...           0   \n",
              "1          1976         0.0         978           0  ...         298   \n",
              "2          2002       162.0         486           0  ...           0   \n",
              "3          1970         0.0         216           0  ...           0   \n",
              "4          2000       350.0         655           0  ...         192   \n",
              "\n",
              "   OpenPorchSF  EnclosedPorch  3SsnPorch  ScreenPorch  PoolArea  MiscVal  \\\n",
              "0           61              0          0            0         0        0   \n",
              "1            0              0          0            0         0        0   \n",
              "2           42              0          0            0         0        0   \n",
              "3           35            272          0            0         0        0   \n",
              "4           84              0          0            0         0        0   \n",
              "\n",
              "   MoSold  YrSold  SalePrice  \n",
              "0       2    2008     208500  \n",
              "1       5    2007     181500  \n",
              "2       9    2008     223500  \n",
              "3       2    2006     140000  \n",
              "4      12    2008     250000  \n",
              "\n",
              "[5 rows x 37 columns]"
            ],
            "text/html": [
              "\n",
              "  <div id=\"df-172f09d1-4792-49c2-8dbc-a3fa246f3719\">\n",
              "    <div class=\"colab-df-container\">\n",
              "      <div>\n",
              "<style scoped>\n",
              "    .dataframe tbody tr th:only-of-type {\n",
              "        vertical-align: middle;\n",
              "    }\n",
              "\n",
              "    .dataframe tbody tr th {\n",
              "        vertical-align: top;\n",
              "    }\n",
              "\n",
              "    .dataframe thead th {\n",
              "        text-align: right;\n",
              "    }\n",
              "</style>\n",
              "<table border=\"1\" class=\"dataframe\">\n",
              "  <thead>\n",
              "    <tr style=\"text-align: right;\">\n",
              "      <th></th>\n",
              "      <th>MSSubClass</th>\n",
              "      <th>LotFrontage</th>\n",
              "      <th>LotArea</th>\n",
              "      <th>OverallQual</th>\n",
              "      <th>OverallCond</th>\n",
              "      <th>YearBuilt</th>\n",
              "      <th>YearRemodAdd</th>\n",
              "      <th>MasVnrArea</th>\n",
              "      <th>BsmtFinSF1</th>\n",
              "      <th>BsmtFinSF2</th>\n",
              "      <th>...</th>\n",
              "      <th>WoodDeckSF</th>\n",
              "      <th>OpenPorchSF</th>\n",
              "      <th>EnclosedPorch</th>\n",
              "      <th>3SsnPorch</th>\n",
              "      <th>ScreenPorch</th>\n",
              "      <th>PoolArea</th>\n",
              "      <th>MiscVal</th>\n",
              "      <th>MoSold</th>\n",
              "      <th>YrSold</th>\n",
              "      <th>SalePrice</th>\n",
              "    </tr>\n",
              "  </thead>\n",
              "  <tbody>\n",
              "    <tr>\n",
              "      <th>0</th>\n",
              "      <td>60</td>\n",
              "      <td>65.0</td>\n",
              "      <td>8450</td>\n",
              "      <td>7</td>\n",
              "      <td>5</td>\n",
              "      <td>2003</td>\n",
              "      <td>2003</td>\n",
              "      <td>196.0</td>\n",
              "      <td>706</td>\n",
              "      <td>0</td>\n",
              "      <td>...</td>\n",
              "      <td>0</td>\n",
              "      <td>61</td>\n",
              "      <td>0</td>\n",
              "      <td>0</td>\n",
              "      <td>0</td>\n",
              "      <td>0</td>\n",
              "      <td>0</td>\n",
              "      <td>2</td>\n",
              "      <td>2008</td>\n",
              "      <td>208500</td>\n",
              "    </tr>\n",
              "    <tr>\n",
              "      <th>1</th>\n",
              "      <td>20</td>\n",
              "      <td>80.0</td>\n",
              "      <td>9600</td>\n",
              "      <td>6</td>\n",
              "      <td>8</td>\n",
              "      <td>1976</td>\n",
              "      <td>1976</td>\n",
              "      <td>0.0</td>\n",
              "      <td>978</td>\n",
              "      <td>0</td>\n",
              "      <td>...</td>\n",
              "      <td>298</td>\n",
              "      <td>0</td>\n",
              "      <td>0</td>\n",
              "      <td>0</td>\n",
              "      <td>0</td>\n",
              "      <td>0</td>\n",
              "      <td>0</td>\n",
              "      <td>5</td>\n",
              "      <td>2007</td>\n",
              "      <td>181500</td>\n",
              "    </tr>\n",
              "    <tr>\n",
              "      <th>2</th>\n",
              "      <td>60</td>\n",
              "      <td>68.0</td>\n",
              "      <td>11250</td>\n",
              "      <td>7</td>\n",
              "      <td>5</td>\n",
              "      <td>2001</td>\n",
              "      <td>2002</td>\n",
              "      <td>162.0</td>\n",
              "      <td>486</td>\n",
              "      <td>0</td>\n",
              "      <td>...</td>\n",
              "      <td>0</td>\n",
              "      <td>42</td>\n",
              "      <td>0</td>\n",
              "      <td>0</td>\n",
              "      <td>0</td>\n",
              "      <td>0</td>\n",
              "      <td>0</td>\n",
              "      <td>9</td>\n",
              "      <td>2008</td>\n",
              "      <td>223500</td>\n",
              "    </tr>\n",
              "    <tr>\n",
              "      <th>3</th>\n",
              "      <td>70</td>\n",
              "      <td>60.0</td>\n",
              "      <td>9550</td>\n",
              "      <td>7</td>\n",
              "      <td>5</td>\n",
              "      <td>1915</td>\n",
              "      <td>1970</td>\n",
              "      <td>0.0</td>\n",
              "      <td>216</td>\n",
              "      <td>0</td>\n",
              "      <td>...</td>\n",
              "      <td>0</td>\n",
              "      <td>35</td>\n",
              "      <td>272</td>\n",
              "      <td>0</td>\n",
              "      <td>0</td>\n",
              "      <td>0</td>\n",
              "      <td>0</td>\n",
              "      <td>2</td>\n",
              "      <td>2006</td>\n",
              "      <td>140000</td>\n",
              "    </tr>\n",
              "    <tr>\n",
              "      <th>4</th>\n",
              "      <td>60</td>\n",
              "      <td>84.0</td>\n",
              "      <td>14260</td>\n",
              "      <td>8</td>\n",
              "      <td>5</td>\n",
              "      <td>2000</td>\n",
              "      <td>2000</td>\n",
              "      <td>350.0</td>\n",
              "      <td>655</td>\n",
              "      <td>0</td>\n",
              "      <td>...</td>\n",
              "      <td>192</td>\n",
              "      <td>84</td>\n",
              "      <td>0</td>\n",
              "      <td>0</td>\n",
              "      <td>0</td>\n",
              "      <td>0</td>\n",
              "      <td>0</td>\n",
              "      <td>12</td>\n",
              "      <td>2008</td>\n",
              "      <td>250000</td>\n",
              "    </tr>\n",
              "  </tbody>\n",
              "</table>\n",
              "<p>5 rows × 37 columns</p>\n",
              "</div>\n",
              "      <button class=\"colab-df-convert\" onclick=\"convertToInteractive('df-172f09d1-4792-49c2-8dbc-a3fa246f3719')\"\n",
              "              title=\"Convert this dataframe to an interactive table.\"\n",
              "              style=\"display:none;\">\n",
              "        \n",
              "  <svg xmlns=\"http://www.w3.org/2000/svg\" height=\"24px\"viewBox=\"0 0 24 24\"\n",
              "       width=\"24px\">\n",
              "    <path d=\"M0 0h24v24H0V0z\" fill=\"none\"/>\n",
              "    <path d=\"M18.56 5.44l.94 2.06.94-2.06 2.06-.94-2.06-.94-.94-2.06-.94 2.06-2.06.94zm-11 1L8.5 8.5l.94-2.06 2.06-.94-2.06-.94L8.5 2.5l-.94 2.06-2.06.94zm10 10l.94 2.06.94-2.06 2.06-.94-2.06-.94-.94-2.06-.94 2.06-2.06.94z\"/><path d=\"M17.41 7.96l-1.37-1.37c-.4-.4-.92-.59-1.43-.59-.52 0-1.04.2-1.43.59L10.3 9.45l-7.72 7.72c-.78.78-.78 2.05 0 2.83L4 21.41c.39.39.9.59 1.41.59.51 0 1.02-.2 1.41-.59l7.78-7.78 2.81-2.81c.8-.78.8-2.07 0-2.86zM5.41 20L4 18.59l7.72-7.72 1.47 1.35L5.41 20z\"/>\n",
              "  </svg>\n",
              "      </button>\n",
              "      \n",
              "  <style>\n",
              "    .colab-df-container {\n",
              "      display:flex;\n",
              "      flex-wrap:wrap;\n",
              "      gap: 12px;\n",
              "    }\n",
              "\n",
              "    .colab-df-convert {\n",
              "      background-color: #E8F0FE;\n",
              "      border: none;\n",
              "      border-radius: 50%;\n",
              "      cursor: pointer;\n",
              "      display: none;\n",
              "      fill: #1967D2;\n",
              "      height: 32px;\n",
              "      padding: 0 0 0 0;\n",
              "      width: 32px;\n",
              "    }\n",
              "\n",
              "    .colab-df-convert:hover {\n",
              "      background-color: #E2EBFA;\n",
              "      box-shadow: 0px 1px 2px rgba(60, 64, 67, 0.3), 0px 1px 3px 1px rgba(60, 64, 67, 0.15);\n",
              "      fill: #174EA6;\n",
              "    }\n",
              "\n",
              "    [theme=dark] .colab-df-convert {\n",
              "      background-color: #3B4455;\n",
              "      fill: #D2E3FC;\n",
              "    }\n",
              "\n",
              "    [theme=dark] .colab-df-convert:hover {\n",
              "      background-color: #434B5C;\n",
              "      box-shadow: 0px 1px 3px 1px rgba(0, 0, 0, 0.15);\n",
              "      filter: drop-shadow(0px 1px 2px rgba(0, 0, 0, 0.3));\n",
              "      fill: #FFFFFF;\n",
              "    }\n",
              "  </style>\n",
              "\n",
              "      <script>\n",
              "        const buttonEl =\n",
              "          document.querySelector('#df-172f09d1-4792-49c2-8dbc-a3fa246f3719 button.colab-df-convert');\n",
              "        buttonEl.style.display =\n",
              "          google.colab.kernel.accessAllowed ? 'block' : 'none';\n",
              "\n",
              "        async function convertToInteractive(key) {\n",
              "          const element = document.querySelector('#df-172f09d1-4792-49c2-8dbc-a3fa246f3719');\n",
              "          const dataTable =\n",
              "            await google.colab.kernel.invokeFunction('convertToInteractive',\n",
              "                                                     [key], {});\n",
              "          if (!dataTable) return;\n",
              "\n",
              "          const docLinkHtml = 'Like what you see? Visit the ' +\n",
              "            '<a target=\"_blank\" href=https://colab.research.google.com/notebooks/data_table.ipynb>data table notebook</a>'\n",
              "            + ' to learn more about interactive tables.';\n",
              "          element.innerHTML = '';\n",
              "          dataTable['output_type'] = 'display_data';\n",
              "          await google.colab.output.renderOutput(dataTable, element);\n",
              "          const docLink = document.createElement('div');\n",
              "          docLink.innerHTML = docLinkHtml;\n",
              "          element.appendChild(docLink);\n",
              "        }\n",
              "      </script>\n",
              "    </div>\n",
              "  </div>\n",
              "  "
            ]
          },
          "metadata": {},
          "execution_count": 12
        }
      ],
      "source": [
        "df_num = dataset_df.select_dtypes(include = ['float64', 'int64'])\n",
        "df_num.head()"
      ]
    },
    {
      "cell_type": "markdown",
      "metadata": {
        "id": "MnaH5h8u416o",
        "papermill": {
          "duration": 0.0106,
          "end_time": "2023-03-07T06:21:49.144057",
          "exception": false,
          "start_time": "2023-03-07T06:21:49.133457",
          "status": "completed"
        },
        "tags": []
      },
      "source": [
        "Now let us plot the distribution for all the numerical features."
      ]
    },
    {
      "cell_type": "code",
      "execution_count": null,
      "metadata": {
        "colab": {
          "base_uri": "https://localhost:8080/",
          "height": 1000
        },
        "execution": {
          "iopub.execute_input": "2023-04-03T10:16:48.853368Z",
          "iopub.status.busy": "2023-04-03T10:16:48.852922Z",
          "iopub.status.idle": "2023-04-03T10:16:57.042297Z",
          "shell.execute_reply": "2023-04-03T10:16:57.041263Z",
          "shell.execute_reply.started": "2023-04-03T10:16:48.853307Z"
        },
        "id": "Dj4h_dIw416o",
        "outputId": "4b3a1f07-6454-485e-f30f-032d4fe5f8d5",
        "papermill": {
          "duration": 8.021473,
          "end_time": "2023-03-07T06:21:57.176534",
          "exception": false,
          "start_time": "2023-03-07T06:21:49.155061",
          "status": "completed"
        },
        "tags": []
      },
      "outputs": [
        {
          "output_type": "display_data",
          "data": {
            "text/plain": [
              "<Figure size 1600x2000 with 42 Axes>"
            ],
            "image/png": "[encoded data removed]"
          },
          "metadata": {}
        }
      ],
      "source": [
        "df_num.hist(figsize=(16, 20), bins=50, xlabelsize=8, ylabelsize=8);"
      ]
    },
    {
      "cell_type": "markdown",
      "metadata": {
        "id": "H4O7QCoh5e2e",
        "papermill": {
          "duration": 0.012325,
          "end_time": "2023-03-07T06:21:57.202216",
          "exception": false,
          "start_time": "2023-03-07T06:21:57.189891",
          "status": "completed"
        },
        "tags": []
      },
      "source": [
        "## Prepare the dataset\n",
        "\n",
        "This dataset contains a mix of numeric, categorical and missing features. TF-DF supports all these feature types natively, and no preprocessing is required. "
      ]
    },
    {
      "cell_type": "code",
      "source": [
        "import numpy as np\n",
        "def paul_X_preprocess(df):\n",
        "  df['MSSubClass'] = df['MSSubClass'].map(str)\n",
        "  return df\n",
        "  #df = df.drop([])\n",
        "\n",
        "dataset_df = paul_X_preprocess(dataset_df)\n",
        "dataset_df['LogSalePrice']=np.log(dataset_df['SalePrice'])\n",
        "logy_dataset_df = dataset_df.drop('SalePrice',axis=1)"
      ],
      "metadata": {
        "id": "7TWN44vI9E7I"
      },
      "execution_count": null,
      "outputs": []
    },
    {
      "cell_type": "code",
      "source": [
        "logy_dataset_df.head()"
      ],
      "metadata": {
        "colab": {
          "base_uri": "https://localhost:8080/",
          "height": 299
        },
        "id": "QmkDW4pm-r_D",
        "outputId": "3382cce5-1b8f-4cfd-de2f-f564b84cb585"
      },
      "execution_count": null,
      "outputs": [
        {
          "output_type": "execute_result",
          "data": {
            "text/plain": [
              "  MSSubClass MSZoning  LotFrontage  LotArea Street Alley LotShape LandContour  \\\n",
              "0         60       RL         65.0     8450   Pave   NaN      Reg         Lvl   \n",
              "1         20       RL         80.0     9600   Pave   NaN      Reg         Lvl   \n",
              "2         60       RL         68.0    11250   Pave   NaN      IR1         Lvl   \n",
              "3         70       RL         60.0     9550   Pave   NaN      IR1         Lvl   \n",
              "4         60       RL         84.0    14260   Pave   NaN      IR1         Lvl   \n",
              "\n",
              "  Utilities LotConfig  ... PoolArea PoolQC Fence MiscFeature MiscVal MoSold  \\\n",
              "0    AllPub    Inside  ...        0    NaN   NaN         NaN       0      2   \n",
              "1    AllPub       FR2  ...        0    NaN   NaN         NaN       0      5   \n",
              "2    AllPub    Inside  ...        0    NaN   NaN         NaN       0      9   \n",
              "3    AllPub    Corner  ...        0    NaN   NaN         NaN       0      2   \n",
              "4    AllPub       FR2  ...        0    NaN   NaN         NaN       0     12   \n",
              "\n",
              "   YrSold  SaleType  SaleCondition  LogSalePrice  \n",
              "0    2008        WD         Normal     12.247694  \n",
              "1    2007        WD         Normal     12.109011  \n",
              "2    2008        WD         Normal     12.317167  \n",
              "3    2006        WD        Abnorml     11.849398  \n",
              "4    2008        WD         Normal     12.429216  \n",
              "\n",
              "[5 rows x 80 columns]"
            ],
            "text/html": [
              "\n",
              "  <div id=\"df-1eadae4a-35cd-42f4-b3b8-87da2993a7cb\">\n",
              "    <div class=\"colab-df-container\">\n",
              "      <div>\n",
              "<style scoped>\n",
              "    .dataframe tbody tr th:only-of-type {\n",
              "        vertical-align: middle;\n",
              "    }\n",
              "\n",
              "    .dataframe tbody tr th {\n",
              "        vertical-align: top;\n",
              "    }\n",
              "\n",
              "    .dataframe thead th {\n",
              "        text-align: right;\n",
              "    }\n",
              "</style>\n",
              "<table border=\"1\" class=\"dataframe\">\n",
              "  <thead>\n",
              "    <tr style=\"text-align: right;\">\n",
              "      <th></th>\n",
              "      <th>MSSubClass</th>\n",
              "      <th>MSZoning</th>\n",
              "      <th>LotFrontage</th>\n",
              "      <th>LotArea</th>\n",
              "      <th>Street</th>\n",
              "      <th>Alley</th>\n",
              "      <th>LotShape</th>\n",
              "      <th>LandContour</th>\n",
              "      <th>Utilities</th>\n",
              "      <th>LotConfig</th>\n",
              "      <th>...</th>\n",
              "      <th>PoolArea</th>\n",
              "      <th>PoolQC</th>\n",
              "      <th>Fence</th>\n",
              "      <th>MiscFeature</th>\n",
              "      <th>MiscVal</th>\n",
              "      <th>MoSold</th>\n",
              "      <th>YrSold</th>\n",
              "      <th>SaleType</th>\n",
              "      <th>SaleCondition</th>\n",
              "      <th>LogSalePrice</th>\n",
              "    </tr>\n",
              "  </thead>\n",
              "  <tbody>\n",
              "    <tr>\n",
              "      <th>0</th>\n",
              "      <td>60</td>\n",
              "      <td>RL</td>\n",
              "      <td>65.0</td>\n",
              "      <td>8450</td>\n",
              "      <td>Pave</td>\n",
              "      <td>NaN</td>\n",
              "      <td>Reg</td>\n",
              "      <td>Lvl</td>\n",
              "      <td>AllPub</td>\n",
              "      <td>Inside</td>\n",
              "      <td>...</td>\n",
              "      <td>0</td>\n",
              "      <td>NaN</td>\n",
              "      <td>NaN</td>\n",
              "      <td>NaN</td>\n",
              "      <td>0</td>\n",
              "      <td>2</td>\n",
              "      <td>2008</td>\n",
              "      <td>WD</td>\n",
              "      <td>Normal</td>\n",
              "      <td>12.247694</td>\n",
              "    </tr>\n",
              "    <tr>\n",
              "      <th>1</th>\n",
              "      <td>20</td>\n",
              "      <td>RL</td>\n",
              "      <td>80.0</td>\n",
              "      <td>9600</td>\n",
              "      <td>Pave</td>\n",
              "      <td>NaN</td>\n",
              "      <td>Reg</td>\n",
              "      <td>Lvl</td>\n",
              "      <td>AllPub</td>\n",
              "      <td>FR2</td>\n",
              "      <td>...</td>\n",
              "      <td>0</td>\n",
              "      <td>NaN</td>\n",
              "      <td>NaN</td>\n",
              "      <td>NaN</td>\n",
              "      <td>0</td>\n",
              "      <td>5</td>\n",
              "      <td>2007</td>\n",
              "      <td>WD</td>\n",
              "      <td>Normal</td>\n",
              "      <td>12.109011</td>\n",
              "    </tr>\n",
              "    <tr>\n",
              "      <th>2</th>\n",
              "      <td>60</td>\n",
              "      <td>RL</td>\n",
              "      <td>68.0</td>\n",
              "      <td>11250</td>\n",
              "      <td>Pave</td>\n",
              "      <td>NaN</td>\n",
              "      <td>IR1</td>\n",
              "      <td>Lvl</td>\n",
              "      <td>AllPub</td>\n",
              "      <td>Inside</td>\n",
              "      <td>...</td>\n",
              "      <td>0</td>\n",
              "      <td>NaN</td>\n",
              "      <td>NaN</td>\n",
              "      <td>NaN</td>\n",
              "      <td>0</td>\n",
              "      <td>9</td>\n",
              "      <td>2008</td>\n",
              "      <td>WD</td>\n",
              "      <td>Normal</td>\n",
              "      <td>12.317167</td>\n",
              "    </tr>\n",
              "    <tr>\n",
              "      <th>3</th>\n",
              "      <td>70</td>\n",
              "      <td>RL</td>\n",
              "      <td>60.0</td>\n",
              "      <td>9550</td>\n",
              "      <td>Pave</td>\n",
              "      <td>NaN</td>\n",
              "      <td>IR1</td>\n",
              "      <td>Lvl</td>\n",
              "      <td>AllPub</td>\n",
              "      <td>Corner</td>\n",
              "      <td>...</td>\n",
              "      <td>0</td>\n",
              "      <td>NaN</td>\n",
              "      <td>NaN</td>\n",
              "      <td>NaN</td>\n",
              "      <td>0</td>\n",
              "      <td>2</td>\n",
              "      <td>2006</td>\n",
              "      <td>WD</td>\n",
              "      <td>Abnorml</td>\n",
              "      <td>11.849398</td>\n",
              "    </tr>\n",
              "    <tr>\n",
              "      <th>4</th>\n",
              "      <td>60</td>\n",
              "      <td>RL</td>\n",
              "      <td>84.0</td>\n",
              "      <td>14260</td>\n",
              "      <td>Pave</td>\n",
              "      <td>NaN</td>\n",
              "      <td>IR1</td>\n",
              "      <td>Lvl</td>\n",
              "      <td>AllPub</td>\n",
              "      <td>FR2</td>\n",
              "      <td>...</td>\n",
              "      <td>0</td>\n",
              "      <td>NaN</td>\n",
              "      <td>NaN</td>\n",
              "      <td>NaN</td>\n",
              "      <td>0</td>\n",
              "      <td>12</td>\n",
              "      <td>2008</td>\n",
              "      <td>WD</td>\n",
              "      <td>Normal</td>\n",
              "      <td>12.429216</td>\n",
              "    </tr>\n",
              "  </tbody>\n",
              "</table>\n",
              "<p>5 rows × 80 columns</p>\n",
              "</div>\n",
              "      <button class=\"colab-df-convert\" onclick=\"convertToInteractive('df-1eadae4a-35cd-42f4-b3b8-87da2993a7cb')\"\n",
              "              title=\"Convert this dataframe to an interactive table.\"\n",
              "              style=\"display:none;\">\n",
              "        \n",
              "  <svg xmlns=\"http://www.w3.org/2000/svg\" height=\"24px\"viewBox=\"0 0 24 24\"\n",
              "       width=\"24px\">\n",
              "    <path d=\"M0 0h24v24H0V0z\" fill=\"none\"/>\n",
              "    <path d=\"M18.56 5.44l.94 2.06.94-2.06 2.06-.94-2.06-.94-.94-2.06-.94 2.06-2.06.94zm-11 1L8.5 8.5l.94-2.06 2.06-.94-2.06-.94L8.5 2.5l-.94 2.06-2.06.94zm10 10l.94 2.06.94-2.06 2.06-.94-2.06-.94-.94-2.06-.94 2.06-2.06.94z\"/><path d=\"M17.41 7.96l-1.37-1.37c-.4-.4-.92-.59-1.43-.59-.52 0-1.04.2-1.43.59L10.3 9.45l-7.72 7.72c-.78.78-.78 2.05 0 2.83L4 21.41c.39.39.9.59 1.41.59.51 0 1.02-.2 1.41-.59l7.78-7.78 2.81-2.81c.8-.78.8-2.07 0-2.86zM5.41 20L4 18.59l7.72-7.72 1.47 1.35L5.41 20z\"/>\n",
              "  </svg>\n",
              "      </button>\n",
              "      \n",
              "  <style>\n",
              "    .colab-df-container {\n",
              "      display:flex;\n",
              "      flex-wrap:wrap;\n",
              "      gap: 12px;\n",
              "    }\n",
              "\n",
              "    .colab-df-convert {\n",
              "      background-color: #E8F0FE;\n",
              "      border: none;\n",
              "      border-radius: 50%;\n",
              "      cursor: pointer;\n",
              "      display: none;\n",
              "      fill: #1967D2;\n",
              "      height: 32px;\n",
              "      padding: 0 0 0 0;\n",
              "      width: 32px;\n",
              "    }\n",
              "\n",
              "    .colab-df-convert:hover {\n",
              "      background-color: #E2EBFA;\n",
              "      box-shadow: 0px 1px 2px rgba(60, 64, 67, 0.3), 0px 1px 3px 1px rgba(60, 64, 67, 0.15);\n",
              "      fill: #174EA6;\n",
              "    }\n",
              "\n",
              "    [theme=dark] .colab-df-convert {\n",
              "      background-color: #3B4455;\n",
              "      fill: #D2E3FC;\n",
              "    }\n",
              "\n",
              "    [theme=dark] .colab-df-convert:hover {\n",
              "      background-color: #434B5C;\n",
              "      box-shadow: 0px 1px 3px 1px rgba(0, 0, 0, 0.15);\n",
              "      filter: drop-shadow(0px 1px 2px rgba(0, 0, 0, 0.3));\n",
              "      fill: #FFFFFF;\n",
              "    }\n",
              "  </style>\n",
              "\n",
              "      <script>\n",
              "        const buttonEl =\n",
              "          document.querySelector('#df-1eadae4a-35cd-42f4-b3b8-87da2993a7cb button.colab-df-convert');\n",
              "        buttonEl.style.display =\n",
              "          google.colab.kernel.accessAllowed ? 'block' : 'none';\n",
              "\n",
              "        async function convertToInteractive(key) {\n",
              "          const element = document.querySelector('#df-1eadae4a-35cd-42f4-b3b8-87da2993a7cb');\n",
              "          const dataTable =\n",
              "            await google.colab.kernel.invokeFunction('convertToInteractive',\n",
              "                                                     [key], {});\n",
              "          if (!dataTable) return;\n",
              "\n",
              "          const docLinkHtml = 'Like what you see? Visit the ' +\n",
              "            '<a target=\"_blank\" href=https://colab.research.google.com/notebooks/data_table.ipynb>data table notebook</a>'\n",
              "            + ' to learn more about interactive tables.';\n",
              "          element.innerHTML = '';\n",
              "          dataTable['output_type'] = 'display_data';\n",
              "          await google.colab.output.renderOutput(dataTable, element);\n",
              "          const docLink = document.createElement('div');\n",
              "          docLink.innerHTML = docLinkHtml;\n",
              "          element.appendChild(docLink);\n",
              "        }\n",
              "      </script>\n",
              "    </div>\n",
              "  </div>\n",
              "  "
            ]
          },
          "metadata": {},
          "execution_count": 24
        }
      ]
    },
    {
      "cell_type": "markdown",
      "metadata": {
        "id": "brbRsBQfSC74",
        "papermill": {
          "duration": 0.012106,
          "end_time": "2023-03-07T06:21:57.227439",
          "exception": false,
          "start_time": "2023-03-07T06:21:57.215333",
          "status": "completed"
        },
        "tags": []
      },
      "source": [
        "Now let us split the dataset into training and testing datasets:"
      ]
    },
    {
      "cell_type": "code",
      "execution_count": null,
      "metadata": {
        "colab": {
          "base_uri": "https://localhost:8080/"
        },
        "execution": {
          "iopub.execute_input": "2023-04-03T10:16:57.04455Z",
          "iopub.status.busy": "2023-04-03T10:16:57.043507Z",
          "iopub.status.idle": "2023-04-03T10:16:57.054181Z",
          "shell.execute_reply": "2023-04-03T10:16:57.053021Z",
          "shell.execute_reply.started": "2023-04-03T10:16:57.04451Z"
        },
        "id": "tsQad0t7SBv2",
        "outputId": "0cdd890e-788f-4a34-d030-ef459b31167a",
        "papermill": {
          "duration": 0.025712,
          "end_time": "2023-03-07T06:21:57.266147",
          "exception": false,
          "start_time": "2023-03-07T06:21:57.240435",
          "status": "completed"
        },
        "tags": []
      },
      "outputs": [
        {
          "output_type": "stream",
          "name": "stdout",
          "text": [
            "1036 examples in training, 424 examples in testing.\n"
          ]
        }
      ],
      "source": [
        "import numpy as np\n",
        "\n",
        "def split_dataset(dataset, test_ratio=0.30):\n",
        "  test_indices = np.random.rand(len(dataset)) < test_ratio\n",
        "  return dataset[~test_indices], dataset[test_indices]\n",
        "\n",
        "train_ds_pd, valid_ds_pd = split_dataset(logy_dataset_df)\n",
        "print(\"{} examples in training, {} examples in testing.\".format(\n",
        "    len(train_ds_pd), len(valid_ds_pd)))"
      ]
    },
    {
      "cell_type": "markdown",
      "metadata": {
        "id": "-hNGPbLlSGvp",
        "papermill": {
          "duration": 0.01598,
          "end_time": "2023-03-07T06:21:57.294832",
          "exception": false,
          "start_time": "2023-03-07T06:21:57.278852",
          "status": "completed"
        },
        "tags": []
      },
      "source": [
        "There's one more step required before we can train the model. We need to convert the datatset from Pandas format (`pd.DataFrame`) into TensorFlow Datasets format (`tf.data.Dataset`).\n",
        "\n",
        "[TensorFlow Datasets](https://www.tensorflow.org/datasets/overview) is a high performance data loading library which is helpful when training neural networks with accelerators like GPUs and TPUs."
      ]
    },
    {
      "cell_type": "markdown",
      "metadata": {
        "id": "7goqxGx3416p",
        "papermill": {
          "duration": 0.012107,
          "end_time": "2023-03-07T06:21:57.319528",
          "exception": false,
          "start_time": "2023-03-07T06:21:57.307421",
          "status": "completed"
        },
        "tags": []
      },
      "source": [
        "By default the Random Forest Model is configured to train classification tasks. Since this is a regression problem, we will specify the type of the task (`tfdf.keras.Task.REGRESSION`) as a parameter here."
      ]
    },
    {
      "cell_type": "code",
      "execution_count": null,
      "metadata": {
        "execution": {
          "iopub.execute_input": "2023-04-03T10:16:57.055842Z",
          "iopub.status.busy": "2023-04-03T10:16:57.055484Z",
          "iopub.status.idle": "2023-04-03T10:16:57.406852Z",
          "shell.execute_reply": "2023-04-03T10:16:57.405555Z",
          "shell.execute_reply.started": "2023-04-03T10:16:57.055809Z"
        },
        "id": "xQgimfirSGQ9",
        "papermill": {
          "duration": 0.26438,
          "end_time": "2023-03-07T06:21:57.596711",
          "exception": false,
          "start_time": "2023-03-07T06:21:57.332331",
          "status": "completed"
        },
        "tags": []
      },
      "outputs": [],
      "source": [
        "label = 'LogSalePrice'\n",
        "train_ds = tfdf.keras.pd_dataframe_to_tf_dataset(train_ds_pd, label=label, task = tfdf.keras.Task.REGRESSION)\n",
        "valid_ds = tfdf.keras.pd_dataframe_to_tf_dataset(valid_ds_pd, label=label, task = tfdf.keras.Task.REGRESSION)"
      ]
    },
    {
      "cell_type": "markdown",
      "metadata": {
        "id": "IUG4UKUyTNUu",
        "papermill": {
          "duration": 0.012451,
          "end_time": "2023-03-07T06:21:57.62217",
          "exception": false,
          "start_time": "2023-03-07T06:21:57.609719",
          "status": "completed"
        },
        "tags": []
      },
      "source": [
        "## Select a Model\n",
        "\n",
        "There are several tree-based models for you to choose from.\n",
        "\n",
        "* RandomForestModel\n",
        "* GradientBoostedTreesModel\n",
        "* CartModel\n",
        "* DistributedGradientBoostedTreesModel\n",
        "\n",
        "To start, we'll work with a Random Forest. This is the most well-known of the Decision Forest training algorithms.\n",
        "\n",
        "A Random Forest is a collection of decision trees, each trained independently on a random subset of the training dataset (sampled with replacement). The algorithm is unique in that it is robust to overfitting, and easy to use."
      ]
    },
    {
      "cell_type": "markdown",
      "metadata": {
        "id": "VJSwNUdb416p",
        "papermill": {
          "duration": 0.0125,
          "end_time": "2023-03-07T06:21:57.647596",
          "exception": false,
          "start_time": "2023-03-07T06:21:57.635096",
          "status": "completed"
        },
        "tags": []
      },
      "source": [
        "We can list the all the available models in TensorFlow Decision Forests using the following code:"
      ]
    },
    {
      "cell_type": "code",
      "execution_count": null,
      "metadata": {
        "colab": {
          "base_uri": "https://localhost:8080/"
        },
        "execution": {
          "iopub.execute_input": "2023-04-03T10:16:57.408863Z",
          "iopub.status.busy": "2023-04-03T10:16:57.408504Z",
          "iopub.status.idle": "2023-04-03T10:16:57.417193Z",
          "shell.execute_reply": "2023-04-03T10:16:57.415704Z",
          "shell.execute_reply.started": "2023-04-03T10:16:57.408829Z"
        },
        "id": "MFmnkRR_Ui9w",
        "outputId": "b9dd3ef2-1a27-4e08-93db-faa0e872c878",
        "papermill": {
          "duration": 0.024872,
          "end_time": "2023-03-07T06:21:57.685403",
          "exception": false,
          "start_time": "2023-03-07T06:21:57.660531",
          "status": "completed"
        },
        "tags": []
      },
      "outputs": [
        {
          "output_type": "execute_result",
          "data": {
            "text/plain": [
              "[tensorflow_decision_forests.keras.RandomForestModel,\n",
              " tensorflow_decision_forests.keras.GradientBoostedTreesModel,\n",
              " tensorflow_decision_forests.keras.CartModel,\n",
              " tensorflow_decision_forests.keras.DistributedGradientBoostedTreesModel]"
            ]
          },
          "metadata": {},
          "execution_count": 16
        }
      ],
      "source": [
        "tfdf.keras.get_all_models()"
      ]
    },
    {
      "cell_type": "markdown",
      "metadata": {
        "id": "LiFn716FnMVQ",
        "papermill": {
          "duration": 0.012613,
          "end_time": "2023-03-07T06:21:57.710894",
          "exception": false,
          "start_time": "2023-03-07T06:21:57.698281",
          "status": "completed"
        },
        "tags": []
      },
      "source": [
        "## How can I configure them?\n",
        "\n",
        "TensorFlow Decision Forests provides good defaults for you (e.g. the top ranking hyperparameters on our benchmarks, slightly modified to run in reasonable time). If you would like to configure the learning algorithm, you will find many options you can explore to get the highest possible accuracy.\n",
        "\n",
        "You can select a template and/or set parameters as follows:\n",
        "\n",
        "```rf = tfdf.keras.RandomForestModel(hyperparameter_template=\"benchmark_rank1\", task=tfdf.keras.Task.REGRESSION)```\n",
        "\n",
        "Read more [here](https://www.tensorflow.org/decision_forests/api_docs/python/tfdf/keras/RandomForestModel)."
      ]
    },
    {
      "cell_type": "markdown",
      "metadata": {
        "id": "AUt4j8fLWRlR",
        "papermill": {
          "duration": 0.012522,
          "end_time": "2023-03-07T06:21:57.762516",
          "exception": false,
          "start_time": "2023-03-07T06:21:57.749994",
          "status": "completed"
        },
        "tags": []
      },
      "source": [
        "## Create a Random Forest\n",
        "\n",
        "We will use the defaults to create the Random Forest Model while specifiyng the task type as `tfdf.keras.Task.REGRESSION`.  In the following we use the hyperparameter template \"benchmark_rank1\" and we will compare this template to training the model **with** automated hyper-parameter tuning and **automatic** definition of the hyper-parameters (which is the recommended approach)"
      ]
    },
    {
      "cell_type": "code",
      "execution_count": null,
      "metadata": {
        "colab": {
          "base_uri": "https://localhost:8080/"
        },
        "execution": {
          "iopub.execute_input": "2023-04-03T10:16:57.419182Z",
          "iopub.status.busy": "2023-04-03T10:16:57.418734Z",
          "iopub.status.idle": "2023-04-03T10:16:57.483169Z",
          "shell.execute_reply": "2023-04-03T10:16:57.481541Z",
          "shell.execute_reply.started": "2023-04-03T10:16:57.41914Z"
        },
        "id": "O7bqOQMYTRXZ",
        "outputId": "58c2f3df-3d98-437f-ddd0-eb6d81adb3a0",
        "papermill": {
          "duration": 0.079382,
          "end_time": "2023-03-07T06:21:57.854964",
          "exception": false,
          "start_time": "2023-03-07T06:21:57.775582",
          "status": "completed"
        },
        "tags": []
      },
      "outputs": [
        {
          "output_type": "stream",
          "name": "stdout",
          "text": [
            "Resolve hyper-parameter template \"benchmark_rank1\" to \"benchmark_rank1@v1\" -> {'winner_take_all': True, 'categorical_algorithm': 'RANDOM', 'split_axis': 'SPARSE_OBLIQUE', 'sparse_oblique_normalization': 'MIN_MAX', 'sparse_oblique_num_projections_exponent': 1.0}.\n",
            "Use /tmp/tmpm83yeuql as temporary training directory\n"
          ]
        }
      ],
      "source": [
        "rf = tfdf.keras.RandomForestModel(hyperparameter_template=\"benchmark_rank1\", task = tfdf.keras.Task.REGRESSION)\n",
        "rf.compile(metrics=[\"mse\"]) # Optional, you can use this to include a list of eval metrics"
      ]
    },
    {
      "cell_type": "markdown",
      "metadata": {
        "id": "0CzJ5_sh91Yt",
        "papermill": {
          "duration": 0.013391,
          "end_time": "2023-03-07T06:21:57.881539",
          "exception": false,
          "start_time": "2023-03-07T06:21:57.868148",
          "status": "completed"
        },
        "tags": []
      },
      "source": [
        "## Train the model\n",
        "\n",
        "We will train the model using a one-liner.\n",
        "\n",
        "Note: you may see a warning about Autograph. You can safely ignore this, it will be fixed in the next release."
      ]
    },
    {
      "cell_type": "code",
      "execution_count": null,
      "metadata": {
        "colab": {
          "base_uri": "https://localhost:8080/"
        },
        "execution": {
          "iopub.execute_input": "2023-04-03T10:16:57.485275Z",
          "iopub.status.busy": "2023-04-03T10:16:57.484868Z",
          "iopub.status.idle": "2023-04-03T10:17:15.004227Z",
          "shell.execute_reply": "2023-04-03T10:17:15.002552Z",
          "shell.execute_reply.started": "2023-04-03T10:16:57.485236Z"
        },
        "id": "Ax6RircN92LW",
        "outputId": "301372b5-0cef-4ddf-9785-0d41a6d605a6",
        "papermill": {
          "duration": 14.312048,
          "end_time": "2023-03-07T06:22:12.207321",
          "exception": false,
          "start_time": "2023-03-07T06:21:57.895273",
          "status": "completed"
        },
        "tags": []
      },
      "outputs": [
        {
          "output_type": "stream",
          "name": "stdout",
          "text": [
            "Reading training dataset...\n",
            "Training dataset read in 0:00:04.478701. Found 1036 examples.\n",
            "Training model...\n",
            "Model trained in 0:00:09.090536\n",
            "Compiling model...\n"
          ]
        },
        {
          "output_type": "stream",
          "name": "stderr",
          "text": [
            "WARNING:tensorflow:AutoGraph could not transform <function simple_ml_inference_op_with_handle at 0x7f4763837370> and will run it as-is.\n",
            "Please report this to the TensorFlow team. When filing the bug, set the verbosity to 10 (on Linux, `export AUTOGRAPH_VERBOSITY=10`) and attach the full output.\n",
            "Cause: could not get source code\n",
            "To silence this warning, decorate the function with @tf.autograph.experimental.do_not_convert\n"
          ]
        },
        {
          "output_type": "stream",
          "name": "stdout",
          "text": [
            "WARNING: AutoGraph could not transform <function simple_ml_inference_op_with_handle at 0x7f4763837370> and will run it as-is.\n",
            "Please report this to the TensorFlow team. When filing the bug, set the verbosity to 10 (on Linux, `export AUTOGRAPH_VERBOSITY=10`) and attach the full output.\n",
            "Cause: could not get source code\n",
            "To silence this warning, decorate the function with @tf.autograph.experimental.do_not_convert\n",
            "Model compiled.\n"
          ]
        },
        {
          "output_type": "execute_result",
          "data": {
            "text/plain": [
              "<keras.callbacks.History at 0x7f475fd311b0>"
            ]
          },
          "metadata": {},
          "execution_count": 12
        }
      ],
      "source": [
        "rf.fit(x=train_ds)"
      ]
    },
    {
      "cell_type": "markdown",
      "metadata": {
        "id": "C1HJ6KxRT7IR",
        "papermill": {
          "duration": 0.014187,
          "end_time": "2023-03-07T06:22:12.236308",
          "exception": false,
          "start_time": "2023-03-07T06:22:12.222121",
          "status": "completed"
        },
        "tags": []
      },
      "source": [
        "## Visualize the model\n",
        "One benefit of tree-based models is that you can easily visualize them. The default number of trees used in the Random Forests is 300. We can select a tree to display below."
      ]
    },
    {
      "cell_type": "code",
      "execution_count": null,
      "metadata": {
        "colab": {
          "base_uri": "https://localhost:8080/",
          "height": 404
        },
        "execution": {
          "iopub.execute_input": "2023-04-03T10:17:15.006471Z",
          "iopub.status.busy": "2023-04-03T10:17:15.006085Z",
          "iopub.status.idle": "2023-04-03T10:17:15.035145Z",
          "shell.execute_reply": "2023-04-03T10:17:15.034231Z",
          "shell.execute_reply.started": "2023-04-03T10:17:15.006433Z"
        },
        "id": "mTx73NgET9f8",
        "outputId": "2a9b8d26-9292-45d4-cc5e-c2e92d76d8d8",
        "papermill": {
          "duration": 0.126324,
          "end_time": "2023-03-07T06:22:12.377534",
          "exception": false,
          "start_time": "2023-03-07T06:22:12.25121",
          "status": "completed"
        },
        "tags": []
      },
      "outputs": [
        {
          "output_type": "execute_result",
          "data": {
            "text/plain": [
              "<IPython.core.display.HTML object>"
            ],
            "text/html": [
              "\n",
              "<script src=\"https://d3js.org/d3.v6.min.js\"></script>\n",
              "<div id=\"tree_plot_539c0749837c44469e1c75c25222d59a\"></div>\n",
              "<script>\n",
              "/*\n",
              " * Copyright 2021 Google LLC.\n",
              " * Licensed under the Apache License, Version 2.0 (the \"License\");\n",
              " * you may not use this file except in compliance with the License.\n",
              " * You may obtain a copy of the License at\n",
              " *\n",
              " *     https://www.apache.org/licenses/LICENSE-2.0\n",
              " *\n",
              " * Unless required by applicable law or agreed to in writing, software\n",
              " * distributed under the License is distributed on an \"AS IS\" BASIS,\n",
              " * WITHOUT WARRANTIES OR CONDITIONS OF ANY KIND, either express or implied.\n",
              " * See the License for the specific language governing permissions and\n",
              " * limitations under the License.\n",
              " */\n",
              "\n",
              "/**\n",
              " *  Plotting of decision trees generated by TF-DF.\n",
              " *\n",
              " *  A tree is a recursive structure of node objects.\n",
              " *  A node contains one or more of the following components:\n",
              " *\n",
              " *    - A value: Representing the output of the node. If the node is not a leaf,\n",
              " *      the value is only present for analysis i.e. it is not used for\n",
              " *      predictions.\n",
              " *\n",
              " *    - A condition : For non-leaf nodes, the condition (also known as split)\n",
              " *      defines a binary test to branch to the positive or negative child.\n",
              " *\n",
              " *    - An explanation: Generally a plot showing the relation between the label\n",
              " *      and the condition to give insights about the effect of the condition.\n",
              " *\n",
              " *    - Two children : For non-leaf nodes, the children nodes. The first\n",
              " *      children (i.e. \"node.children[0]\") is the negative children (drawn in\n",
              " *      red). The second children is the positive one (drawn in green).\n",
              " *\n",
              " */\n",
              "\n",
              "/**\n",
              " * Plots a single decision tree into a DOM element.\n",
              " * @param {!options} options Dictionary of configurations.\n",
              " * @param {!tree} raw_tree Recursive tree structure.\n",
              " * @param {string} canvas_id Id of the output dom element.\n",
              " */\n",
              "function display_tree(options, raw_tree, canvas_id) {\n",
              "  console.log(options);\n",
              "\n",
              "  // Determine the node placement.\n",
              "  const tree_struct = d3.tree().nodeSize(\n",
              "      [options.node_y_offset, options.node_x_offset])(d3.hierarchy(raw_tree));\n",
              "\n",
              "  // Boundaries of the node placement.\n",
              "  let x_min = Infinity;\n",
              "  let x_max = -x_min;\n",
              "  let y_min = Infinity;\n",
              "  let y_max = -x_min;\n",
              "\n",
              "  tree_struct.each(d => {\n",
              "    if (d.x > x_max) x_max = d.x;\n",
              "    if (d.x < x_min) x_min = d.x;\n",
              "    if (d.y > y_max) y_max = d.y;\n",
              "    if (d.y < y_min) y_min = d.y;\n",
              "  });\n",
              "\n",
              "  // Size of the plot.\n",
              "  const width = y_max - y_min + options.node_x_size + options.margin * 2;\n",
              "  const height = x_max - x_min + options.node_y_size + options.margin * 2 +\n",
              "      options.node_y_offset - options.node_y_size;\n",
              "\n",
              "  const plot = d3.select(canvas_id);\n",
              "\n",
              "  // Tool tip\n",
              "  options.tooltip = plot.append('div')\n",
              "                        .attr('width', 100)\n",
              "                        .attr('height', 100)\n",
              "                        .style('padding', '4px')\n",
              "                        .style('background', '#fff')\n",
              "                        .style('box-shadow', '4px 4px 0px rgba(0,0,0,0.1)')\n",
              "                        .style('border', '1px solid black')\n",
              "                        .style('font-family', 'sans-serif')\n",
              "                        .style('font-size', options.font_size)\n",
              "                        .style('position', 'absolute')\n",
              "                        .style('z-index', '10')\n",
              "                        .attr('pointer-events', 'none')\n",
              "                        .style('display', 'none');\n",
              "\n",
              "  // Create canvas\n",
              "  const svg = plot.append('svg').attr('width', width).attr('height', height);\n",
              "  const graph =\n",
              "      svg.style('overflow', 'visible')\n",
              "          .append('g')\n",
              "          .attr('font-family', 'sans-serif')\n",
              "          .attr('font-size', options.font_size)\n",
              "          .attr(\n",
              "              'transform',\n",
              "              () => `translate(${options.margin},${\n",
              "                  - x_min + options.node_y_offset / 2 + options.margin})`);\n",
              "\n",
              "  // Plot bounding box.\n",
              "  if (options.show_plot_bounding_box) {\n",
              "    svg.append('rect')\n",
              "        .attr('width', width)\n",
              "        .attr('height', height)\n",
              "        .attr('fill', 'none')\n",
              "        .attr('stroke-width', 1.0)\n",
              "        .attr('stroke', 'black');\n",
              "  }\n",
              "\n",
              "  // Draw the edges.\n",
              "  display_edges(options, graph, tree_struct);\n",
              "\n",
              "  // Draw the nodes.\n",
              "  display_nodes(options, graph, tree_struct);\n",
              "}\n",
              "\n",
              "/**\n",
              " * Draw the nodes of the tree.\n",
              " * @param {!options} options Dictionary of configurations.\n",
              " * @param {!graph} graph D3 search handle containing the graph.\n",
              " * @param {!tree_struct} tree_struct Structure of the tree (node placement,\n",
              " *     data, etc.).\n",
              " */\n",
              "function display_nodes(options, graph, tree_struct) {\n",
              "  const nodes = graph.append('g')\n",
              "                    .selectAll('g')\n",
              "                    .data(tree_struct.descendants())\n",
              "                    .join('g')\n",
              "                    .attr('transform', d => `translate(${d.y},${d.x})`);\n",
              "\n",
              "  nodes.append('rect')\n",
              "      .attr('x', 0.5)\n",
              "      .attr('y', 0.5)\n",
              "      .attr('width', options.node_x_size)\n",
              "      .attr('height', options.node_y_size)\n",
              "      .attr('stroke', 'lightgrey')\n",
              "      .attr('stroke-width', 1)\n",
              "      .attr('fill', 'white')\n",
              "      .attr('y', -options.node_y_size / 2);\n",
              "\n",
              "  // Brackets on the right of condition nodes without children.\n",
              "  non_leaf_node_without_children =\n",
              "      nodes.filter(node => node.data.condition != null && node.children == null)\n",
              "          .append('g')\n",
              "          .attr('transform', `translate(${options.node_x_size},0)`);\n",
              "\n",
              "  non_leaf_node_without_children.append('path')\n",
              "      .attr('d', 'M0,0 C 10,0 0,10 10,10')\n",
              "      .attr('fill', 'none')\n",
              "      .attr('stroke-width', 1.0)\n",
              "      .attr('stroke', '#F00');\n",
              "\n",
              "  non_leaf_node_without_children.append('path')\n",
              "      .attr('d', 'M0,0 C 10,0 0,-10 10,-10')\n",
              "      .attr('fill', 'none')\n",
              "      .attr('stroke-width', 1.0)\n",
              "      .attr('stroke', '#0F0');\n",
              "\n",
              "  const node_content = nodes.append('g').attr(\n",
              "      'transform',\n",
              "      `translate(0,${options.node_padding - options.node_y_size / 2})`);\n",
              "\n",
              "  node_content.append(node => create_node_element(options, node));\n",
              "}\n",
              "\n",
              "/**\n",
              " * Creates the D3 content for a single node.\n",
              " * @param {!options} options Dictionary of configurations.\n",
              " * @param {!node} node Node to draw.\n",
              " * @return {!d3} D3 content.\n",
              " */\n",
              "function create_node_element(options, node) {\n",
              "  // Output accumulator.\n",
              "  let output = {\n",
              "    // Content to draw.\n",
              "    content: d3.create('svg:g'),\n",
              "    // Vertical offset to the next element to draw.\n",
              "    vertical_offset: 0\n",
              "  };\n",
              "\n",
              "  // Conditions.\n",
              "  if (node.data.condition != null) {\n",
              "    display_condition(options, node.data.condition, output);\n",
              "  }\n",
              "\n",
              "  // Values.\n",
              "  if (node.data.value != null) {\n",
              "    display_value(options, node.data.value, output);\n",
              "  }\n",
              "\n",
              "  // Explanations.\n",
              "  if (node.data.explanation != null) {\n",
              "    display_explanation(options, node.data.explanation, output);\n",
              "  }\n",
              "\n",
              "  return output.content.node();\n",
              "}\n",
              "\n",
              "\n",
              "/**\n",
              " * Adds a single line of text inside of a node.\n",
              " * @param {!options} options Dictionary of configurations.\n",
              " * @param {string} text Text to display.\n",
              " * @param {!output} output Output display accumulator.\n",
              " */\n",
              "function display_node_text(options, text, output) {\n",
              "  output.content.append('text')\n",
              "      .attr('x', options.node_padding)\n",
              "      .attr('y', output.vertical_offset)\n",
              "      .attr('alignment-baseline', 'hanging')\n",
              "      .text(text);\n",
              "  output.vertical_offset += 10;\n",
              "}\n",
              "\n",
              "/**\n",
              " * Adds a single line of text inside of a node with a tooltip.\n",
              " * @param {!options} options Dictionary of configurations.\n",
              " * @param {string} text Text to display.\n",
              " * @param {string} tooltip Text in the Tooltip.\n",
              " * @param {!output} output Output display accumulator.\n",
              " */\n",
              "function display_node_text_with_tooltip(options, text, tooltip, output) {\n",
              "  const item = output.content.append('text')\n",
              "                   .attr('x', options.node_padding)\n",
              "                   .attr('alignment-baseline', 'hanging')\n",
              "                   .text(text);\n",
              "\n",
              "  add_tooltip(options, item, () => tooltip);\n",
              "  output.vertical_offset += 10;\n",
              "}\n",
              "\n",
              "/**\n",
              " * Adds a tooltip to a dom element.\n",
              " * @param {!options} options Dictionary of configurations.\n",
              " * @param {!dom} target Dom element to equip with a tooltip.\n",
              " * @param {!func} get_content Generates the html content of the tooltip.\n",
              " */\n",
              "function add_tooltip(options, target, get_content) {\n",
              "  function show(d) {\n",
              "    options.tooltip.style('display', 'block');\n",
              "    options.tooltip.html(get_content());\n",
              "  }\n",
              "\n",
              "  function hide(d) {\n",
              "    options.tooltip.style('display', 'none');\n",
              "  }\n",
              "\n",
              "  function move(d) {\n",
              "    options.tooltip.style('display', 'block');\n",
              "    options.tooltip.style('left', (d.pageX + 5) + 'px');\n",
              "    options.tooltip.style('top', d.pageY + 'px');\n",
              "  }\n",
              "\n",
              "  target.on('mouseover', show);\n",
              "  target.on('mouseout', hide);\n",
              "  target.on('mousemove', move);\n",
              "}\n",
              "\n",
              "/**\n",
              " * Adds a condition inside of a node.\n",
              " * @param {!options} options Dictionary of configurations.\n",
              " * @param {!condition} condition Condition to display.\n",
              " * @param {!output} output Output display accumulator.\n",
              " */\n",
              "function display_condition(options, condition, output) {\n",
              "  threshold_format = d3.format('r');\n",
              "\n",
              "  if (condition.type === 'IS_MISSING') {\n",
              "    display_node_text(options, `${condition.attribute} is missing`, output);\n",
              "    return;\n",
              "  }\n",
              "\n",
              "  if (condition.type === 'IS_TRUE') {\n",
              "    display_node_text(options, `${condition.attribute} is true`, output);\n",
              "    return;\n",
              "  }\n",
              "\n",
              "  if (condition.type === 'NUMERICAL_IS_HIGHER_THAN') {\n",
              "    format = d3.format('r');\n",
              "    display_node_text(\n",
              "        options,\n",
              "        `${condition.attribute} >= ${threshold_format(condition.threshold)}`,\n",
              "        output);\n",
              "    return;\n",
              "  }\n",
              "\n",
              "  if (condition.type === 'CATEGORICAL_IS_IN') {\n",
              "    display_node_text_with_tooltip(\n",
              "        options, `${condition.attribute} in [...]`,\n",
              "        `${condition.attribute} in [${condition.mask}]`, output);\n",
              "    return;\n",
              "  }\n",
              "\n",
              "  if (condition.type === 'CATEGORICAL_SET_CONTAINS') {\n",
              "    display_node_text_with_tooltip(\n",
              "        options, `${condition.attribute} intersect [...]`,\n",
              "        `${condition.attribute} intersect [${condition.mask}]`, output);\n",
              "    return;\n",
              "  }\n",
              "\n",
              "  if (condition.type === 'NUMERICAL_SPARSE_OBLIQUE') {\n",
              "    display_node_text_with_tooltip(\n",
              "        options, `Sparse oblique split...`,\n",
              "        `[${condition.attributes}]*[${condition.weights}]>=${\n",
              "            threshold_format(condition.threshold)}`,\n",
              "        output);\n",
              "    return;\n",
              "  }\n",
              "\n",
              "  display_node_text(\n",
              "      options, `Non supported condition ${condition.type}`, output);\n",
              "}\n",
              "\n",
              "/**\n",
              " * Adds a value inside of a node.\n",
              " * @param {!options} options Dictionary of configurations.\n",
              " * @param {!value} value Value to display.\n",
              " * @param {!output} output Output display accumulator.\n",
              " */\n",
              "function display_value(options, value, output) {\n",
              "  if (value.type === 'PROBABILITY') {\n",
              "    const left_margin = 0;\n",
              "    const right_margin = 50;\n",
              "    const plot_width = options.node_x_size - options.node_padding * 2 -\n",
              "        left_margin - right_margin;\n",
              "\n",
              "    let cusum = Array.from(d3.cumsum(value.distribution));\n",
              "    cusum.unshift(0);\n",
              "    const distribution_plot = output.content.append('g').attr(\n",
              "        'transform', `translate(0,${output.vertical_offset + 0.5})`);\n",
              "\n",
              "    distribution_plot.selectAll('rect')\n",
              "        .data(value.distribution)\n",
              "        .join('rect')\n",
              "        .attr('height', 10)\n",
              "        .attr(\n",
              "            'x',\n",
              "            (d, i) =>\n",
              "                (cusum[i] * plot_width + left_margin + options.node_padding))\n",
              "        .attr('width', (d, i) => d * plot_width)\n",
              "        .style('fill', (d, i) => d3.schemeSet1[i]);\n",
              "\n",
              "    const num_examples =\n",
              "        output.content.append('g')\n",
              "            .attr('transform', `translate(0,${output.vertical_offset})`)\n",
              "            .append('text')\n",
              "            .attr('x', options.node_x_size - options.node_padding)\n",
              "            .attr('alignment-baseline', 'hanging')\n",
              "            .attr('text-anchor', 'end')\n",
              "            .text(`(${value.num_examples})`);\n",
              "\n",
              "    const distribution_details = d3.create('ul');\n",
              "    distribution_details.selectAll('li')\n",
              "        .data(value.distribution)\n",
              "        .join('li')\n",
              "        .append('span')\n",
              "        .text(\n",
              "            (d, i) =>\n",
              "                'class ' + i + ': ' + d3.format('.3%')(value.distribution[i]));\n",
              "\n",
              "    add_tooltip(options, distribution_plot, () => distribution_details.html());\n",
              "    add_tooltip(options, num_examples, () => 'Number of examples');\n",
              "\n",
              "    output.vertical_offset += 10;\n",
              "    return;\n",
              "  }\n",
              "\n",
              "  if (value.type === 'REGRESSION') {\n",
              "    display_node_text(\n",
              "        options,\n",
              "        'value: ' + d3.format('r')(value.value) + ` (` +\n",
              "            d3.format('.6')(value.num_examples) + `)`,\n",
              "        output);\n",
              "    return;\n",
              "  }\n",
              "\n",
              "  display_node_text(options, `Non supported value ${value.type}`, output);\n",
              "}\n",
              "\n",
              "/**\n",
              " * Adds an explanation inside of a node.\n",
              " * @param {!options} options Dictionary of configurations.\n",
              " * @param {!explanation} explanation Explanation to display.\n",
              " * @param {!output} output Output display accumulator.\n",
              " */\n",
              "function display_explanation(options, explanation, output) {\n",
              "  // Margin before the explanation.\n",
              "  output.vertical_offset += 10;\n",
              "\n",
              "  display_node_text(\n",
              "      options, `Non supported explanation ${explanation.type}`, output);\n",
              "}\n",
              "\n",
              "\n",
              "/**\n",
              " * Draw the edges of the tree.\n",
              " * @param {!options} options Dictionary of configurations.\n",
              " * @param {!graph} graph D3 search handle containing the graph.\n",
              " * @param {!tree_struct} tree_struct Structure of the tree (node placement,\n",
              " *     data, etc.).\n",
              " */\n",
              "function display_edges(options, graph, tree_struct) {\n",
              "  // Draw an edge between a parent and a child node with a bezier.\n",
              "  function draw_single_edge(d) {\n",
              "    return 'M' + (d.source.y + options.node_x_size) + ',' + d.source.x + ' C' +\n",
              "        (d.source.y + options.node_x_size + options.edge_rounding) + ',' +\n",
              "        d.source.x + ' ' + (d.target.y - options.edge_rounding) + ',' +\n",
              "        d.target.x + ' ' + d.target.y + ',' + d.target.x;\n",
              "  }\n",
              "\n",
              "  graph.append('g')\n",
              "      .attr('fill', 'none')\n",
              "      .attr('stroke-width', 1.2)\n",
              "      .selectAll('path')\n",
              "      .data(tree_struct.links())\n",
              "      .join('path')\n",
              "      .attr('d', draw_single_edge)\n",
              "      .attr(\n",
              "          'stroke', d => (d.target === d.source.children[0]) ? '#0F0' : '#F00');\n",
              "}\n",
              "\n",
              "display_tree({\"margin\": 10, \"node_x_size\": 160, \"node_y_size\": 28, \"node_x_offset\": 180, \"node_y_offset\": 33, \"font_size\": 10, \"edge_rounding\": 20, \"node_padding\": 2, \"show_plot_bounding_box\": false}, {\"value\": {\"type\": \"REGRESSION\", \"value\": 12.013310432434082, \"num_examples\": 1036.0, \"standard_deviation\": 0.39145404555265567}, \"condition\": {\"type\": \"NUMERICAL_SPARSE_OBLIQUE\", \"attributes\": [\"OverallQual\"], \"weights\": [1.0], \"threshold\": 6.5}, \"children\": [{\"value\": {\"type\": \"REGRESSION\", \"value\": 12.360615730285645, \"num_examples\": 398.0, \"standard_deviation\": 0.28168654717528163}, \"condition\": {\"type\": \"NUMERICAL_SPARSE_OBLIQUE\", \"attributes\": [\"OverallQual\"], \"weights\": [1.0], \"threshold\": 7.5}, \"children\": [{\"value\": {\"type\": \"REGRESSION\", \"value\": 12.5860595703125, \"num_examples\": 154.0, \"standard_deviation\": 0.25660898111223873}, \"condition\": {\"type\": \"NUMERICAL_SPARSE_OBLIQUE\", \"attributes\": [\"BsmtFinSF1\"], \"weights\": [1.0], \"threshold\": 1215.0}, \"children\": [{\"value\": {\"type\": \"REGRESSION\", \"value\": 12.789774894714355, \"num_examples\": 41.0, \"standard_deviation\": 0.27107642832223716}, \"condition\": {\"type\": \"NUMERICAL_SPARSE_OBLIQUE\", \"attributes\": [\"GarageCars\"], \"weights\": [1.0], \"threshold\": 2.5}}, {\"value\": {\"type\": \"REGRESSION\", \"value\": 12.51214599609375, \"num_examples\": 113.0, \"standard_deviation\": 0.2062944579782743}, \"condition\": {\"type\": \"NUMERICAL_SPARSE_OBLIQUE\", \"attributes\": [\"BsmtFullBath\", \"GrLivArea\", \"YearRemodAdd\"], \"weights\": [0.5, 0.00018839487165678293, 0.01666666753590107], \"threshold\": 33.79848861694336}}]}, {\"value\": {\"type\": \"REGRESSION\", \"value\": 12.218327522277832, \"num_examples\": 244.0, \"standard_deviation\": 0.18852869152890764}, \"condition\": {\"type\": \"NUMERICAL_SPARSE_OBLIQUE\", \"attributes\": [\"GrLivArea\"], \"weights\": [1.0], \"threshold\": 1478.0}, \"children\": [{\"value\": {\"type\": \"REGRESSION\", \"value\": 12.27822208404541, \"num_examples\": 169.0, \"standard_deviation\": 0.17689112699216106}, \"condition\": {\"type\": \"CATEGORICAL_IS_IN\", \"attribute\": \"BldgType\", \"mask\": [\"1Fam\", \"TwnhsE\"]}}, {\"value\": {\"type\": \"REGRESSION\", \"value\": 12.083364486694336, \"num_examples\": 75.0, \"standard_deviation\": 0.13721252236965067}, \"condition\": {\"type\": \"NUMERICAL_SPARSE_OBLIQUE\", \"attributes\": [\"GarageYrBlt\", \"MiscVal\"], \"weights\": [-0.009999999776482582, 6.451612716773525e-05], \"threshold\": -19.793468475341797}}]}]}, {\"value\": {\"type\": \"REGRESSION\", \"value\": 11.796651840209961, \"num_examples\": 638.0, \"standard_deviation\": 0.27774614878474435}, \"condition\": {\"type\": \"NUMERICAL_SPARSE_OBLIQUE\", \"attributes\": [\"GarageCars\", \"TotalBsmtSF\"], \"weights\": [-0.25, -0.0001636661181692034], \"threshold\": -0.355482816696167}, \"children\": [{\"value\": {\"type\": \"REGRESSION\", \"value\": 11.4619779586792, \"num_examples\": 103.0, \"standard_deviation\": 0.2732134024658974}, \"condition\": {\"type\": \"NUMERICAL_SPARSE_OBLIQUE\", \"attributes\": [\"LowQualFinSF\", \"OverallQual\"], \"weights\": [0.0017482517287135124, 0.1111111119389534], \"threshold\": 0.3888888955116272}, \"children\": [{\"value\": {\"type\": \"REGRESSION\", \"value\": 11.498567581176758, \"num_examples\": 96.0, \"standard_deviation\": 0.23066548610336957}, \"condition\": {\"type\": \"NUMERICAL_SPARSE_OBLIQUE\", \"attributes\": [\"2ndFlrSF\"], \"weights\": [1.0], \"threshold\": 750.0}}, {\"value\": {\"type\": \"REGRESSION\", \"value\": 10.960177421569824, \"num_examples\": 7.0, \"standard_deviation\": 0.3138498288921124}}]}, {\"value\": {\"type\": \"REGRESSION\", \"value\": 11.861084938049316, \"num_examples\": 535.0, \"standard_deviation\": 0.2278336379837015}, \"condition\": {\"type\": \"NUMERICAL_SPARSE_OBLIQUE\", \"attributes\": [\"FullBath\", \"TotalBsmtSF\"], \"weights\": [-0.3333333432674408, -0.0001636661181692034], \"threshold\": -0.5124658942222595}, \"children\": [{\"value\": {\"type\": \"REGRESSION\", \"value\": 11.744750022888184, \"num_examples\": 270.0, \"standard_deviation\": 0.19285238742212757}, \"condition\": {\"type\": \"NUMERICAL_SPARSE_OBLIQUE\", \"attributes\": [\"TotRmsAbvGrd\", \"YearBuilt\"], \"weights\": [-0.0833333358168602, -0.007462686393409967], \"threshold\": -14.912935256958008}}, {\"value\": {\"type\": \"REGRESSION\", \"value\": 11.979615211486816, \"num_examples\": 265.0, \"standard_deviation\": 0.1976443590639376}, \"condition\": {\"type\": \"NUMERICAL_SPARSE_OBLIQUE\", \"attributes\": [\"BsmtFinSF2\", \"KitchenAbvGr\"], \"weights\": [0.0008873114711605012, -0.5], \"threshold\": -0.9063886404037476}}]}]}]}, \"#tree_plot_539c0749837c44469e1c75c25222d59a\")\n",
              "</script>\n"
            ]
          },
          "metadata": {},
          "execution_count": 13
        }
      ],
      "source": [
        "tfdf.model_plotter.plot_model_in_colab(rf, tree_idx=0, max_depth=3)"
      ]
    },
    {
      "cell_type": "markdown",
      "metadata": {
        "id": "fazbJOgUT1n4",
        "papermill": {
          "duration": 0.015024,
          "end_time": "2023-03-07T06:22:12.407834",
          "exception": false,
          "start_time": "2023-03-07T06:22:12.39281",
          "status": "completed"
        },
        "tags": []
      },
      "source": [
        "## Evaluate the model on the Out of bag (OOB) data and the validation dataset\n",
        "\n",
        "Before training the dataset we have manually seperated 40% of the dataset for validation named as `valid_ds`.\n",
        "\n",
        "We can also use Out of bag (OOB) score to validate our RandomForestModel.\n",
        "To train a Random Forest Model, a set of random samples from training set are choosen by the algorithm and the rest of the samples are used to finetune the model.The subset of data that is not chosen is known as Out of bag data (OOB).\n",
        "OOB score is computed on the OOB data.\n",
        "\n",
        "Read more about OOB data [here](https://developers.google.com/machine-learning/decision-forests/out-of-bag).\n",
        "\n",
        "The training logs show the Root Mean Squared Error (RMSE) evaluated on the out-of-bag dataset according to the number of trees in the model. Let us plot this.\n",
        "\n",
        "Note: Smaller values are better for this hyperparameter."
      ]
    },
    {
      "cell_type": "code",
      "execution_count": null,
      "metadata": {
        "colab": {
          "base_uri": "https://localhost:8080/",
          "height": 449
        },
        "execution": {
          "iopub.execute_input": "2023-04-03T10:17:15.037815Z",
          "iopub.status.busy": "2023-04-03T10:17:15.036676Z",
          "iopub.status.idle": "2023-04-03T10:17:15.271061Z",
          "shell.execute_reply": "2023-04-03T10:17:15.269753Z",
          "shell.execute_reply.started": "2023-04-03T10:17:15.037775Z"
        },
        "id": "ryddKoqLWrTp",
        "outputId": "e6120f1e-de19-4689-83b1-09f8625efead",
        "papermill": {
          "duration": 0.229991,
          "end_time": "2023-03-07T06:22:12.653052",
          "exception": false,
          "start_time": "2023-03-07T06:22:12.423061",
          "status": "completed"
        },
        "tags": []
      },
      "outputs": [
        {
          "output_type": "display_data",
          "data": {
            "text/plain": [
              "<Figure size 640x480 with 1 Axes>"
            ],
            "image/png": "[encoded data removed]"
          },
          "metadata": {}
        }
      ],
      "source": [
        "import matplotlib.pyplot as plt\n",
        "logs = rf.make_inspector().training_logs()\n",
        "plt.plot([log.num_trees for log in logs], [log.evaluation.rmse for log in logs])\n",
        "plt.xlabel(\"Number of trees\")\n",
        "plt.ylabel(\"RMSE (out-of-bag)\")\n",
        "plt.show()"
      ]
    },
    {
      "cell_type": "markdown",
      "metadata": {
        "id": "Y-yMMsK5-3Mr",
        "papermill": {
          "duration": 0.015203,
          "end_time": "2023-03-07T06:22:12.684147",
          "exception": false,
          "start_time": "2023-03-07T06:22:12.668944",
          "status": "completed"
        },
        "tags": []
      },
      "source": [
        "We can also see some general stats on the OOB dataset:"
      ]
    },
    {
      "cell_type": "code",
      "execution_count": null,
      "metadata": {
        "colab": {
          "base_uri": "https://localhost:8080/"
        },
        "execution": {
          "iopub.execute_input": "2023-04-03T10:17:15.273922Z",
          "iopub.status.busy": "2023-04-03T10:17:15.273239Z",
          "iopub.status.idle": "2023-04-03T10:17:15.284508Z",
          "shell.execute_reply": "2023-04-03T10:17:15.283066Z",
          "shell.execute_reply.started": "2023-04-03T10:17:15.273883Z"
        },
        "id": "gdY8DvriTxky",
        "outputId": "8d0e762e-6432-4b13-bdb9-f11d2b80d42e",
        "papermill": {
          "duration": 0.032483,
          "end_time": "2023-03-07T06:22:12.732339",
          "exception": false,
          "start_time": "2023-03-07T06:22:12.699856",
          "status": "completed"
        },
        "tags": []
      },
      "outputs": [
        {
          "output_type": "execute_result",
          "data": {
            "text/plain": [
              "Evaluation(num_examples=1036, accuracy=None, loss=None, rmse=0.13913583554750591, ndcg=None, aucs=None, auuc=None, qini=None)"
            ]
          },
          "metadata": {},
          "execution_count": 15
        }
      ],
      "source": [
        "inspector = rf.make_inspector()\n",
        "inspector.evaluation()"
      ]
    },
    {
      "cell_type": "markdown",
      "metadata": {
        "id": "GAoGJNjg-9sb",
        "papermill": {
          "duration": 0.015817,
          "end_time": "2023-03-07T06:22:12.764326",
          "exception": false,
          "start_time": "2023-03-07T06:22:12.748509",
          "status": "completed"
        },
        "tags": []
      },
      "source": [
        "Now, let us run an evaluation using the validation dataset."
      ]
    },
    {
      "cell_type": "code",
      "execution_count": null,
      "metadata": {
        "colab": {
          "base_uri": "https://localhost:8080/"
        },
        "execution": {
          "iopub.execute_input": "2023-04-03T10:17:15.28785Z",
          "iopub.status.busy": "2023-04-03T10:17:15.286247Z",
          "iopub.status.idle": "2023-04-03T10:17:16.144774Z",
          "shell.execute_reply": "2023-04-03T10:17:16.143575Z",
          "shell.execute_reply.started": "2023-04-03T10:17:15.287595Z"
        },
        "id": "39x97YqWZlgm",
        "outputId": "ecb08e99-0158-4d0c-df22-7822927d29eb",
        "papermill": {
          "duration": 1.513826,
          "end_time": "2023-03-07T06:22:14.294393",
          "exception": false,
          "start_time": "2023-03-07T06:22:12.780567",
          "status": "completed"
        },
        "tags": []
      },
      "outputs": [
        {
          "output_type": "stream",
          "name": "stdout",
          "text": [
            "1/1 [==============================] - 1s 774ms/step - loss: 0.0000e+00 - mse: 0.0181\n",
            "loss: 0.0000\n",
            "mse: 0.0181\n"
          ]
        }
      ],
      "source": [
        "evaluation = rf.evaluate(x=valid_ds,return_dict=True)\n",
        "\n",
        "for name, value in evaluation.items():\n",
        "  print(f\"{name}: {value:.4f}\")"
      ]
    },
    {
      "cell_type": "markdown",
      "metadata": {
        "id": "LWWqqDLM7WdZ",
        "papermill": {
          "duration": 0.015916,
          "end_time": "2023-03-07T06:22:14.32683",
          "exception": false,
          "start_time": "2023-03-07T06:22:14.310914",
          "status": "completed"
        },
        "tags": []
      },
      "source": [
        "## Variable importances\n",
        "\n",
        "Variable importances generally indicate how much a feature contributes to the model predictions or quality. There are several ways to identify important features using TensorFlow Decision Forests.\n",
        "Let us list the available `Variable Importances` for Decision Trees:"
      ]
    },
    {
      "cell_type": "code",
      "execution_count": null,
      "metadata": {
        "colab": {
          "base_uri": "https://localhost:8080/"
        },
        "execution": {
          "iopub.execute_input": "2023-04-03T10:17:16.14734Z",
          "iopub.status.busy": "2023-04-03T10:17:16.146583Z",
          "iopub.status.idle": "2023-04-03T10:17:16.156308Z",
          "shell.execute_reply": "2023-04-03T10:17:16.155129Z",
          "shell.execute_reply.started": "2023-04-03T10:17:16.147292Z"
        },
        "id": "xok16_jMgGZH",
        "outputId": "95d2059d-4a8b-4654-d66a-89f96c56fdf7",
        "papermill": {
          "duration": 0.028662,
          "end_time": "2023-03-07T06:22:14.371495",
          "exception": false,
          "start_time": "2023-03-07T06:22:14.342833",
          "status": "completed"
        },
        "tags": []
      },
      "outputs": [
        {
          "output_type": "stream",
          "name": "stdout",
          "text": [
            "Available variable importances:\n",
            "\t NUM_AS_ROOT\n",
            "\t SUM_SCORE\n",
            "\t NUM_NODES\n",
            "\t INV_MEAN_MIN_DEPTH\n"
          ]
        }
      ],
      "source": [
        "print(f\"Available variable importances:\")\n",
        "for importance in inspector.variable_importances().keys():\n",
        "  print(\"\\t\", importance)"
      ]
    },
    {
      "cell_type": "markdown",
      "metadata": {
        "id": "USvNgqBR_JR2",
        "papermill": {
          "duration": 0.016135,
          "end_time": "2023-03-07T06:22:14.404154",
          "exception": false,
          "start_time": "2023-03-07T06:22:14.388019",
          "status": "completed"
        },
        "tags": []
      },
      "source": [
        "As an example, let us display the important features for the Variable Importance `NUM_AS_ROOT`.\n",
        "\n",
        "The larger the importance score for `NUM_AS_ROOT`, the more impact it has on the outcome of the model.\n",
        "\n",
        "By default, the list is sorted from the most important to the least. From the output you can infer that the feature at the top of the list is used as the root node in most number of trees in the random forest than any other feature."
      ]
    },
    {
      "cell_type": "code",
      "execution_count": null,
      "metadata": {
        "colab": {
          "base_uri": "https://localhost:8080/"
        },
        "execution": {
          "iopub.execute_input": "2023-04-03T10:17:16.15903Z",
          "iopub.status.busy": "2023-04-03T10:17:16.158006Z",
          "iopub.status.idle": "2023-04-03T10:17:16.170975Z",
          "shell.execute_reply": "2023-04-03T10:17:16.169645Z",
          "shell.execute_reply.started": "2023-04-03T10:17:16.158979Z"
        },
        "id": "eI073gJHgHxr",
        "outputId": "2348d342-8f3f-46a7-a6ff-82cf85bc026f",
        "papermill": {
          "duration": 0.02844,
          "end_time": "2023-03-07T06:22:14.449021",
          "exception": false,
          "start_time": "2023-03-07T06:22:14.420581",
          "status": "completed"
        },
        "tags": []
      },
      "outputs": [
        {
          "output_type": "execute_result",
          "data": {
            "text/plain": [
              "[(\"OverallQual\" (1; #62), 94.0),\n",
              " (\"ExterQual\" (4; #22), 35.0),\n",
              " (\"GarageCars\" (1; #32), 23.0),\n",
              " (\"GrLivArea\" (1; #38), 23.0),\n",
              " (\"1stFlrSF\" (1; #0), 21.0),\n",
              " (\"3SsnPorch\" (1; #2), 10.0),\n",
              " (\"GarageArea\" (1; #31), 10.0),\n",
              " (\"FullBath\" (1; #29), 8.0),\n",
              " (\"2ndFlrSF\" (1; #1), 7.0),\n",
              " (\"BsmtHalfBath\" (1; #13), 7.0),\n",
              " (\"BsmtFinSF2\" (1; #9), 6.0),\n",
              " (\"Fireplaces\" (1; #27), 6.0),\n",
              " (\"LotArea\" (1; #47), 6.0),\n",
              " (\"BsmtQual\" (4; #14), 5.0),\n",
              " (\"MiscVal\" (1; #57), 5.0),\n",
              " (\"BsmtFinSF1\" (1; #8), 4.0),\n",
              " (\"EnclosedPorch\" (1; #20), 4.0),\n",
              " (\"GarageYrBlt\" (1; #37), 4.0),\n",
              " (\"KitchenAbvGr\" (1; #43), 4.0),\n",
              " (\"KitchenQual\" (4; #44), 4.0),\n",
              " (\"BedroomAbvGr\" (1; #4), 2.0),\n",
              " (\"LowQualFinSF\" (1; #51), 2.0),\n",
              " (\"MasVnrArea\" (1; #54), 2.0),\n",
              " (\"TotRmsAbvGrd\" (1; #72), 2.0),\n",
              " (\"TotalBsmtSF\" (1; #73), 2.0),\n",
              " (\"YearBuilt\" (1; #76), 2.0),\n",
              " (\"BsmtFullBath\" (1; #12), 1.0),\n",
              " (\"HalfBath\" (1; #39), 1.0)]"
            ]
          },
          "metadata": {},
          "execution_count": 29
        }
      ],
      "source": [
        "inspector.variable_importances()[\"NUM_AS_ROOT\"]"
      ]
    },
    {
      "cell_type": "markdown",
      "metadata": {
        "id": "qiASD3ei52H6"
      },
      "source": [
        "Plot the variable importances from the inspector using Matplotlib"
      ]
    },
    {
      "cell_type": "code",
      "execution_count": null,
      "metadata": {
        "colab": {
          "base_uri": "https://localhost:8080/",
          "height": 407
        },
        "execution": {
          "iopub.execute_input": "2023-04-03T10:17:16.174204Z",
          "iopub.status.busy": "2023-04-03T10:17:16.173324Z",
          "iopub.status.idle": "2023-04-03T10:17:16.535772Z",
          "shell.execute_reply": "2023-04-03T10:17:16.53442Z",
          "shell.execute_reply.started": "2023-04-03T10:17:16.174156Z"
        },
        "id": "cyyzelTl53AH",
        "outputId": "bf745c43-fc0e-4c35-9c5b-5ff3ad7eda3f"
      },
      "outputs": [
        {
          "output_type": "display_data",
          "data": {
            "text/plain": [
              "<Figure size 1200x400 with 1 Axes>"
            ],
            "image/png": "[encoded data removed]"
          },
          "metadata": {}
        }
      ],
      "source": [
        "plt.figure(figsize=(12, 4))\n",
        "\n",
        "# Mean decrease in AUC of the class 1 vs the others.\n",
        "variable_importance_metric = \"NUM_AS_ROOT\"\n",
        "variable_importances = inspector.variable_importances()[variable_importance_metric]\n",
        "\n",
        "# Extract the feature name and importance values.\n",
        "#\n",
        "# `variable_importances` is a list of <feature, importance> tuples.\n",
        "feature_names = [vi[0].name for vi in variable_importances]\n",
        "feature_importances = [vi[1] for vi in variable_importances]\n",
        "# The feature are ordered in decreasing importance value.\n",
        "feature_ranks = range(len(feature_names))\n",
        "\n",
        "bar = plt.barh(feature_ranks, feature_importances, label=[str(x) for x in feature_ranks])\n",
        "plt.yticks(feature_ranks, feature_names)\n",
        "plt.gca().invert_yaxis()\n",
        "\n",
        "# TODO: Replace with \"plt.bar_label()\" when available.\n",
        "# Label each bar with values\n",
        "for importance, patch in zip(feature_importances, bar.patches):\n",
        "  plt.text(patch.get_x() + patch.get_width(), patch.get_y(), f\"{importance:.4f}\", va=\"top\")\n",
        "\n",
        "plt.xlabel(variable_importance_metric)\n",
        "plt.title(\"NUM AS ROOT of the class 1 vs the others\")\n",
        "plt.tight_layout()\n",
        "plt.show()"
      ]
    },
    {
      "cell_type": "markdown",
      "metadata": {
        "id": "jM9uB_7T416r",
        "papermill": {
          "duration": 0.016075,
          "end_time": "2023-03-07T06:22:14.482026",
          "exception": false,
          "start_time": "2023-03-07T06:22:14.465951",
          "status": "completed"
        },
        "tags": []
      },
      "source": [
        "# Submission\n",
        "Finally predict on the competition test data using the model."
      ]
    },
    {
      "cell_type": "code",
      "execution_count": null,
      "metadata": {
        "colab": {
          "base_uri": "https://localhost:8080/",
          "height": 223
        },
        "execution": {
          "iopub.execute_input": "2023-04-03T10:17:16.537275Z",
          "iopub.status.busy": "2023-04-03T10:17:16.536967Z",
          "iopub.status.idle": "2023-04-03T10:17:17.728149Z",
          "shell.execute_reply": "2023-04-03T10:17:17.727075Z",
          "shell.execute_reply.started": "2023-04-03T10:17:16.537245Z"
        },
        "id": "gLySv9yJ416s",
        "outputId": "98c56527-f20a-4ec0-bd87-15ae120b79fd",
        "papermill": {
          "duration": 1.717453,
          "end_time": "2023-03-07T06:22:16.215717",
          "exception": false,
          "start_time": "2023-03-07T06:22:14.498264",
          "status": "completed"
        },
        "tags": []
      },
      "outputs": [
        {
          "output_type": "stream",
          "name": "stdout",
          "text": [
            "2/2 [==============================] - 1s 43ms/step\n"
          ]
        },
        {
          "output_type": "execute_result",
          "data": {
            "text/plain": [
              "     Id      SalePrice\n",
              "0  1461  126260.570312\n",
              "1  1462  148965.859375\n",
              "2  1463  183513.343750\n",
              "3  1464  186910.843750\n",
              "4  1465  196543.515625"
            ],
            "text/html": [
              "\n",
              "  <div id=\"df-514573d0-f9a1-40eb-a1e2-83556c3a953f\">\n",
              "    <div class=\"colab-df-container\">\n",
              "      <div>\n",
              "<style scoped>\n",
              "    .dataframe tbody tr th:only-of-type {\n",
              "        vertical-align: middle;\n",
              "    }\n",
              "\n",
              "    .dataframe tbody tr th {\n",
              "        vertical-align: top;\n",
              "    }\n",
              "\n",
              "    .dataframe thead th {\n",
              "        text-align: right;\n",
              "    }\n",
              "</style>\n",
              "<table border=\"1\" class=\"dataframe\">\n",
              "  <thead>\n",
              "    <tr style=\"text-align: right;\">\n",
              "      <th></th>\n",
              "      <th>Id</th>\n",
              "      <th>SalePrice</th>\n",
              "    </tr>\n",
              "  </thead>\n",
              "  <tbody>\n",
              "    <tr>\n",
              "      <th>0</th>\n",
              "      <td>1461</td>\n",
              "      <td>126260.570312</td>\n",
              "    </tr>\n",
              "    <tr>\n",
              "      <th>1</th>\n",
              "      <td>1462</td>\n",
              "      <td>148965.859375</td>\n",
              "    </tr>\n",
              "    <tr>\n",
              "      <th>2</th>\n",
              "      <td>1463</td>\n",
              "      <td>183513.343750</td>\n",
              "    </tr>\n",
              "    <tr>\n",
              "      <th>3</th>\n",
              "      <td>1464</td>\n",
              "      <td>186910.843750</td>\n",
              "    </tr>\n",
              "    <tr>\n",
              "      <th>4</th>\n",
              "      <td>1465</td>\n",
              "      <td>196543.515625</td>\n",
              "    </tr>\n",
              "  </tbody>\n",
              "</table>\n",
              "</div>\n",
              "      <button class=\"colab-df-convert\" onclick=\"convertToInteractive('df-514573d0-f9a1-40eb-a1e2-83556c3a953f')\"\n",
              "              title=\"Convert this dataframe to an interactive table.\"\n",
              "              style=\"display:none;\">\n",
              "        \n",
              "  <svg xmlns=\"http://www.w3.org/2000/svg\" height=\"24px\"viewBox=\"0 0 24 24\"\n",
              "       width=\"24px\">\n",
              "    <path d=\"M0 0h24v24H0V0z\" fill=\"none\"/>\n",
              "    <path d=\"M18.56 5.44l.94 2.06.94-2.06 2.06-.94-2.06-.94-.94-2.06-.94 2.06-2.06.94zm-11 1L8.5 8.5l.94-2.06 2.06-.94-2.06-.94L8.5 2.5l-.94 2.06-2.06.94zm10 10l.94 2.06.94-2.06 2.06-.94-2.06-.94-.94-2.06-.94 2.06-2.06.94z\"/><path d=\"M17.41 7.96l-1.37-1.37c-.4-.4-.92-.59-1.43-.59-.52 0-1.04.2-1.43.59L10.3 9.45l-7.72 7.72c-.78.78-.78 2.05 0 2.83L4 21.41c.39.39.9.59 1.41.59.51 0 1.02-.2 1.41-.59l7.78-7.78 2.81-2.81c.8-.78.8-2.07 0-2.86zM5.41 20L4 18.59l7.72-7.72 1.47 1.35L5.41 20z\"/>\n",
              "  </svg>\n",
              "      </button>\n",
              "      \n",
              "  <style>\n",
              "    .colab-df-container {\n",
              "      display:flex;\n",
              "      flex-wrap:wrap;\n",
              "      gap: 12px;\n",
              "    }\n",
              "\n",
              "    .colab-df-convert {\n",
              "      background-color: #E8F0FE;\n",
              "      border: none;\n",
              "      border-radius: 50%;\n",
              "      cursor: pointer;\n",
              "      display: none;\n",
              "      fill: #1967D2;\n",
              "      height: 32px;\n",
              "      padding: 0 0 0 0;\n",
              "      width: 32px;\n",
              "    }\n",
              "\n",
              "    .colab-df-convert:hover {\n",
              "      background-color: #E2EBFA;\n",
              "      box-shadow: 0px 1px 2px rgba(60, 64, 67, 0.3), 0px 1px 3px 1px rgba(60, 64, 67, 0.15);\n",
              "      fill: #174EA6;\n",
              "    }\n",
              "\n",
              "    [theme=dark] .colab-df-convert {\n",
              "      background-color: #3B4455;\n",
              "      fill: #D2E3FC;\n",
              "    }\n",
              "\n",
              "    [theme=dark] .colab-df-convert:hover {\n",
              "      background-color: #434B5C;\n",
              "      box-shadow: 0px 1px 3px 1px rgba(0, 0, 0, 0.15);\n",
              "      filter: drop-shadow(0px 1px 2px rgba(0, 0, 0, 0.3));\n",
              "      fill: #FFFFFF;\n",
              "    }\n",
              "  </style>\n",
              "\n",
              "      <script>\n",
              "        const buttonEl =\n",
              "          document.querySelector('#df-514573d0-f9a1-40eb-a1e2-83556c3a953f button.colab-df-convert');\n",
              "        buttonEl.style.display =\n",
              "          google.colab.kernel.accessAllowed ? 'block' : 'none';\n",
              "\n",
              "        async function convertToInteractive(key) {\n",
              "          const element = document.querySelector('#df-514573d0-f9a1-40eb-a1e2-83556c3a953f');\n",
              "          const dataTable =\n",
              "            await google.colab.kernel.invokeFunction('convertToInteractive',\n",
              "                                                     [key], {});\n",
              "          if (!dataTable) return;\n",
              "\n",
              "          const docLinkHtml = 'Like what you see? Visit the ' +\n",
              "            '<a target=\"_blank\" href=https://colab.research.google.com/notebooks/data_table.ipynb>data table notebook</a>'\n",
              "            + ' to learn more about interactive tables.';\n",
              "          element.innerHTML = '';\n",
              "          dataTable['output_type'] = 'display_data';\n",
              "          await google.colab.output.renderOutput(dataTable, element);\n",
              "          const docLink = document.createElement('div');\n",
              "          docLink.innerHTML = docLinkHtml;\n",
              "          element.appendChild(docLink);\n",
              "        }\n",
              "      </script>\n",
              "    </div>\n",
              "  </div>\n",
              "  "
            ]
          },
          "metadata": {},
          "execution_count": 31
        }
      ],
      "source": [
        "test_file_url = \"https://raw.githubusercontent.com/lkkcpaul/BostonHousePrice/main/test.csv\"\n",
        "test_data = pd.read_csv(test_file_url)\n",
        "ids = test_data.pop('Id')\n",
        "test_data = paul_X_preprocess(test_data)\n",
        "\n",
        "test_ds = tfdf.keras.pd_dataframe_to_tf_dataset(\n",
        "    test_data,\n",
        "    task = tfdf.keras.Task.REGRESSION)\n",
        "\n",
        "preds = rf.predict(test_ds)\n",
        "output = pd.DataFrame({'Id': ids,\n",
        "                       'SalePrice': preds.squeeze()})\n",
        "\n",
        "output.head()\n"
      ]
    },
    {
      "cell_type": "code",
      "execution_count": null,
      "metadata": {
        "colab": {
          "base_uri": "https://localhost:8080/",
          "height": 223
        },
        "execution": {
          "iopub.execute_input": "2023-04-03T10:17:17.73061Z",
          "iopub.status.busy": "2023-04-03T10:17:17.729491Z",
          "iopub.status.idle": "2023-04-03T10:17:18.088251Z",
          "shell.execute_reply": "2023-04-03T10:17:18.08682Z",
          "shell.execute_reply.started": "2023-04-03T10:17:17.730573Z"
        },
        "id": "0wALPJtE416s",
        "outputId": "bd1f036c-22f1-4cbd-89f5-8f751bf94317",
        "papermill": {
          "duration": 0.839277,
          "end_time": "2023-03-07T06:22:17.072045",
          "exception": false,
          "start_time": "2023-03-07T06:22:16.232768",
          "status": "completed"
        },
        "tags": []
      },
      "outputs": [
        {
          "output_type": "stream",
          "name": "stdout",
          "text": [
            "2/2 [==============================] - 0s 43ms/step\n"
          ]
        },
        {
          "output_type": "execute_result",
          "data": {
            "text/plain": [
              "     Id      SalePrice\n",
              "0  1461  126260.570312\n",
              "1  1462  148965.859375\n",
              "2  1463  183513.343750\n",
              "3  1464  186910.843750\n",
              "4  1465  196543.515625"
            ],
            "text/html": [
              "\n",
              "  <div id=\"df-dbefc357-bf21-455a-b89a-5e5b3831d6ef\">\n",
              "    <div class=\"colab-df-container\">\n",
              "      <div>\n",
              "<style scoped>\n",
              "    .dataframe tbody tr th:only-of-type {\n",
              "        vertical-align: middle;\n",
              "    }\n",
              "\n",
              "    .dataframe tbody tr th {\n",
              "        vertical-align: top;\n",
              "    }\n",
              "\n",
              "    .dataframe thead th {\n",
              "        text-align: right;\n",
              "    }\n",
              "</style>\n",
              "<table border=\"1\" class=\"dataframe\">\n",
              "  <thead>\n",
              "    <tr style=\"text-align: right;\">\n",
              "      <th></th>\n",
              "      <th>Id</th>\n",
              "      <th>SalePrice</th>\n",
              "    </tr>\n",
              "  </thead>\n",
              "  <tbody>\n",
              "    <tr>\n",
              "      <th>0</th>\n",
              "      <td>1461</td>\n",
              "      <td>126260.570312</td>\n",
              "    </tr>\n",
              "    <tr>\n",
              "      <th>1</th>\n",
              "      <td>1462</td>\n",
              "      <td>148965.859375</td>\n",
              "    </tr>\n",
              "    <tr>\n",
              "      <th>2</th>\n",
              "      <td>1463</td>\n",
              "      <td>183513.343750</td>\n",
              "    </tr>\n",
              "    <tr>\n",
              "      <th>3</th>\n",
              "      <td>1464</td>\n",
              "      <td>186910.843750</td>\n",
              "    </tr>\n",
              "    <tr>\n",
              "      <th>4</th>\n",
              "      <td>1465</td>\n",
              "      <td>196543.515625</td>\n",
              "    </tr>\n",
              "  </tbody>\n",
              "</table>\n",
              "</div>\n",
              "      <button class=\"colab-df-convert\" onclick=\"convertToInteractive('df-dbefc357-bf21-455a-b89a-5e5b3831d6ef')\"\n",
              "              title=\"Convert this dataframe to an interactive table.\"\n",
              "              style=\"display:none;\">\n",
              "        \n",
              "  <svg xmlns=\"http://www.w3.org/2000/svg\" height=\"24px\"viewBox=\"0 0 24 24\"\n",
              "       width=\"24px\">\n",
              "    <path d=\"M0 0h24v24H0V0z\" fill=\"none\"/>\n",
              "    <path d=\"M18.56 5.44l.94 2.06.94-2.06 2.06-.94-2.06-.94-.94-2.06-.94 2.06-2.06.94zm-11 1L8.5 8.5l.94-2.06 2.06-.94-2.06-.94L8.5 2.5l-.94 2.06-2.06.94zm10 10l.94 2.06.94-2.06 2.06-.94-2.06-.94-.94-2.06-.94 2.06-2.06.94z\"/><path d=\"M17.41 7.96l-1.37-1.37c-.4-.4-.92-.59-1.43-.59-.52 0-1.04.2-1.43.59L10.3 9.45l-7.72 7.72c-.78.78-.78 2.05 0 2.83L4 21.41c.39.39.9.59 1.41.59.51 0 1.02-.2 1.41-.59l7.78-7.78 2.81-2.81c.8-.78.8-2.07 0-2.86zM5.41 20L4 18.59l7.72-7.72 1.47 1.35L5.41 20z\"/>\n",
              "  </svg>\n",
              "      </button>\n",
              "      \n",
              "  <style>\n",
              "    .colab-df-container {\n",
              "      display:flex;\n",
              "      flex-wrap:wrap;\n",
              "      gap: 12px;\n",
              "    }\n",
              "\n",
              "    .colab-df-convert {\n",
              "      background-color: #E8F0FE;\n",
              "      border: none;\n",
              "      border-radius: 50%;\n",
              "      cursor: pointer;\n",
              "      display: none;\n",
              "      fill: #1967D2;\n",
              "      height: 32px;\n",
              "      padding: 0 0 0 0;\n",
              "      width: 32px;\n",
              "    }\n",
              "\n",
              "    .colab-df-convert:hover {\n",
              "      background-color: #E2EBFA;\n",
              "      box-shadow: 0px 1px 2px rgba(60, 64, 67, 0.3), 0px 1px 3px 1px rgba(60, 64, 67, 0.15);\n",
              "      fill: #174EA6;\n",
              "    }\n",
              "\n",
              "    [theme=dark] .colab-df-convert {\n",
              "      background-color: #3B4455;\n",
              "      fill: #D2E3FC;\n",
              "    }\n",
              "\n",
              "    [theme=dark] .colab-df-convert:hover {\n",
              "      background-color: #434B5C;\n",
              "      box-shadow: 0px 1px 3px 1px rgba(0, 0, 0, 0.15);\n",
              "      filter: drop-shadow(0px 1px 2px rgba(0, 0, 0, 0.3));\n",
              "      fill: #FFFFFF;\n",
              "    }\n",
              "  </style>\n",
              "\n",
              "      <script>\n",
              "        const buttonEl =\n",
              "          document.querySelector('#df-dbefc357-bf21-455a-b89a-5e5b3831d6ef button.colab-df-convert');\n",
              "        buttonEl.style.display =\n",
              "          google.colab.kernel.accessAllowed ? 'block' : 'none';\n",
              "\n",
              "        async function convertToInteractive(key) {\n",
              "          const element = document.querySelector('#df-dbefc357-bf21-455a-b89a-5e5b3831d6ef');\n",
              "          const dataTable =\n",
              "            await google.colab.kernel.invokeFunction('convertToInteractive',\n",
              "                                                     [key], {});\n",
              "          if (!dataTable) return;\n",
              "\n",
              "          const docLinkHtml = 'Like what you see? Visit the ' +\n",
              "            '<a target=\"_blank\" href=https://colab.research.google.com/notebooks/data_table.ipynb>data table notebook</a>'\n",
              "            + ' to learn more about interactive tables.';\n",
              "          element.innerHTML = '';\n",
              "          dataTable['output_type'] = 'display_data';\n",
              "          await google.colab.output.renderOutput(dataTable, element);\n",
              "          const docLink = document.createElement('div');\n",
              "          docLink.innerHTML = docLinkHtml;\n",
              "          element.appendChild(docLink);\n",
              "        }\n",
              "      </script>\n",
              "    </div>\n",
              "  </div>\n",
              "  "
            ]
          },
          "metadata": {},
          "execution_count": 32
        }
      ],
      "source": [
        "sample_submission_df = pd.read_csv('https://raw.githubusercontent.com/lkkcpaul/BostonHousePrice/main/sample_submission.csv')\n",
        "sample_submission_df['SalePrice'] = rf.predict(test_ds)\n",
        "sample_submission_df.to_csv('submission.csv', index=False)\n",
        "sample_submission_df.head()"
      ]
    },
    {
      "cell_type": "markdown",
      "source": [
        "# Now let's tune the hyperparameters used in our training using the Keras tuning function"
      ],
      "metadata": {
        "id": "qFEQV04vG5pf"
      }
    },
    {
      "cell_type": "code",
      "source": [
        "%%time\n",
        "%set_cell_height 300\n",
        "\n",
        "# Create a Random Search tuner with 10-50 trials and automatic hp configuration.\n",
        "tuner = tfdf.tuner.RandomSearch(num_trials=50, use_predefined_hps=True)\n",
        "\n",
        "# Define and train the model.\n",
        "tuned_model = tfdf.keras.GradientBoostedTreesModel(tuner=tuner, task = tfdf.keras.Task.REGRESSION)\n",
        "tuned_model.fit(train_ds, verbose=1)"
      ],
      "metadata": {
        "colab": {
          "base_uri": "https://localhost:8080/",
          "height": 191
        },
        "id": "K76lRWRGAV4H",
        "outputId": "80f04701-c99d-47cb-b990-3b83ab34789e"
      },
      "execution_count": null,
      "outputs": [
        {
          "output_type": "display_data",
          "data": {
            "text/plain": [
              "<IPython.core.display.Javascript object>"
            ],
            "application/javascript": [
              "google.colab.output.setIframeHeight(0, true, {maxHeight: 300})"
            ]
          },
          "metadata": {}
        },
        {
          "output_type": "stream",
          "name": "stdout",
          "text": [
            "Use /tmp/tmpr0gtmvw4 as temporary training directory\n",
            "Reading training dataset...\n",
            "Training dataset read in 0:00:00.854965. Found 1036 examples.\n",
            "Training model...\n",
            "Model trained in 0:38:37.096059\n",
            "Compiling model...\n",
            "Model compiled.\n",
            "CPU times: user 1h 6min 7s, sys: 5.08 s, total: 1h 6min 12s\n",
            "Wall time: 38min 38s\n"
          ]
        },
        {
          "output_type": "execute_result",
          "data": {
            "text/plain": [
              "<keras.callbacks.History at 0x7f46b0d2a800>"
            ]
          },
          "metadata": {},
          "execution_count": 37
        }
      ]
    },
    {
      "cell_type": "code",
      "source": [
        "# Evaluate the model\n",
        "tuned_model.compile([\"mse\"])\n",
        "tuned_test_accuracy = tuned_model.evaluate(valid_ds, return_dict=True, verbose=0)[\"mse\"]\n",
        "print(f\"Test accuracy with the TF-DF hyper-parameter tuner: {tuned_test_accuracy:.4f}\")"
      ],
      "metadata": {
        "colab": {
          "base_uri": "https://localhost:8080/"
        },
        "id": "9c3BYXhwF0vq",
        "outputId": "bb432a90-b08f-4ffb-a496-e0116be792c5"
      },
      "execution_count": null,
      "outputs": [
        {
          "output_type": "stream",
          "name": "stderr",
          "text": [
            "WARNING:tensorflow:6 out of the last 6 calls to <function InferenceCoreModel.make_test_function.<locals>.test_function at 0x7f46a26267a0> triggered tf.function retracing. Tracing is expensive and the excessive number of tracings could be due to (1) creating @tf.function repeatedly in a loop, (2) passing tensors with different shapes, (3) passing Python objects instead of tensors. For (1), please define your @tf.function outside of the loop. For (2), @tf.function has reduce_retracing=True option that can avoid unnecessary retracing. For (3), please refer to https://www.tensorflow.org/guide/function#controlling_retracing and https://www.tensorflow.org/api_docs/python/tf/function for  more details.\n"
          ]
        },
        {
          "output_type": "stream",
          "name": "stdout",
          "text": [
            "Test accuracy with the TF-DF hyper-parameter tuner: 0.0148\n"
          ]
        }
      ]
    },
    {
      "cell_type": "code",
      "source": [
        "rf_test_accuracy = rf.evaluate(valid_ds,return_dict=True,verbose=0)[\"mse\"]"
      ],
      "metadata": {
        "id": "N9fF96X7p9xH",
        "colab": {
          "base_uri": "https://localhost:8080/"
        },
        "outputId": "d322f0f2-f52f-4e90-d43c-c983a5341859"
      },
      "execution_count": null,
      "outputs": [
        {
          "output_type": "stream",
          "name": "stderr",
          "text": [
            "WARNING:tensorflow:5 out of the last 5 calls to <function InferenceCoreModel.make_test_function.<locals>.test_function at 0x7f46a26270a0> triggered tf.function retracing. Tracing is expensive and the excessive number of tracings could be due to (1) creating @tf.function repeatedly in a loop, (2) passing tensors with different shapes, (3) passing Python objects instead of tensors. For (1), please define your @tf.function outside of the loop. For (2), @tf.function has reduce_retracing=True option that can avoid unnecessary retracing. For (3), please refer to https://www.tensorflow.org/guide/function#controlling_retracing and https://www.tensorflow.org/api_docs/python/tf/function for  more details.\n"
          ]
        }
      ]
    },
    {
      "cell_type": "code",
      "source": [
        "print(f\"Test accuracy with the TF-DF hyper-parameter tuner: {tuned_test_accuracy:.4f}\")\n",
        "print(f\"Test accuracy without the TF-DF hyper-parameter tuner: {rf_test_accuracy:.4f}\")"
      ],
      "metadata": {
        "id": "DkEmtmztpb_s",
        "outputId": "ee434073-d791-48cb-b783-91dc5d3dd6ef",
        "colab": {
          "base_uri": "https://localhost:8080/"
        }
      },
      "execution_count": null,
      "outputs": [
        {
          "output_type": "stream",
          "name": "stdout",
          "text": [
            "Test accuracy with the TF-DF hyper-parameter tuner: 0.0148\n",
            "Test accuracy without the TF-DF hyper-parameter tuner: 0.0181\n"
          ]
        }
      ]
    },
    {
      "cell_type": "code",
      "source": [
        "# Display the tuning logs.\n",
        "tuning_logs = tuned_model.make_inspector().tuning_logs()\n",
        "tuning_logs.sort_values('score',ascending=False).head()"
      ],
      "metadata": {
        "id": "w1bdKZxUHgfO",
        "outputId": "a68fdbd0-e283-4e65-ea37-5e579ddcf28c",
        "colab": {
          "base_uri": "https://localhost:8080/",
          "height": 270
        }
      },
      "execution_count": null,
      "outputs": [
        {
          "output_type": "execute_result",
          "data": {
            "text/plain": [
              "       score  evaluation_time   best      split_axis  \\\n",
              "39 -0.145021      1831.622807   True  SPARSE_OBLIQUE   \n",
              "24 -0.149746      1070.010266  False  SPARSE_OBLIQUE   \n",
              "2  -0.150876       207.105662  False  SPARSE_OBLIQUE   \n",
              "49 -0.151032      2316.990803  False  SPARSE_OBLIQUE   \n",
              "36 -0.152247      1655.588400  False  SPARSE_OBLIQUE   \n",
              "\n",
              "    sparse_oblique_projection_density_factor sparse_oblique_normalization  \\\n",
              "39                                       1.0                      MIN_MAX   \n",
              "24                                       3.0                         NONE   \n",
              "2                                        4.0           STANDARD_DEVIATION   \n",
              "49                                       3.0                      MIN_MAX   \n",
              "36                                       4.0           STANDARD_DEVIATION   \n",
              "\n",
              "   sparse_oblique_weights categorical_algorithm   growing_strategy  \\\n",
              "39                 BINARY                RANDOM  BEST_FIRST_GLOBAL   \n",
              "24                 BINARY                RANDOM  BEST_FIRST_GLOBAL   \n",
              "2              CONTINUOUS                  CART              LOCAL   \n",
              "49             CONTINUOUS                  CART              LOCAL   \n",
              "36                 BINARY                  CART  BEST_FIRST_GLOBAL   \n",
              "\n",
              "    max_num_nodes sampling_method  subsample  shrinkage  min_examples  \\\n",
              "39           32.0          RANDOM        0.6       0.10            10   \n",
              "24           32.0          RANDOM        0.6       0.10             7   \n",
              "2             NaN          RANDOM        0.8       0.05             7   \n",
              "49            NaN          RANDOM        0.9       0.02             5   \n",
              "36           64.0          RANDOM        1.0       0.10             7   \n",
              "\n",
              "    num_candidate_attributes_ratio  max_depth  \n",
              "39                             0.9        NaN  \n",
              "24                             0.5        NaN  \n",
              "2                              1.0        3.0  \n",
              "49                             0.2        4.0  \n",
              "36                             1.0        NaN  "
            ],
            "text/html": [
              "\n",
              "  <div id=\"df-e796b702-2690-403d-bfc4-da3562629e55\">\n",
              "    <div class=\"colab-df-container\">\n",
              "      <div>\n",
              "<style scoped>\n",
              "    .dataframe tbody tr th:only-of-type {\n",
              "        vertical-align: middle;\n",
              "    }\n",
              "\n",
              "    .dataframe tbody tr th {\n",
              "        vertical-align: top;\n",
              "    }\n",
              "\n",
              "    .dataframe thead th {\n",
              "        text-align: right;\n",
              "    }\n",
              "</style>\n",
              "<table border=\"1\" class=\"dataframe\">\n",
              "  <thead>\n",
              "    <tr style=\"text-align: right;\">\n",
              "      <th></th>\n",
              "      <th>score</th>\n",
              "      <th>evaluation_time</th>\n",
              "      <th>best</th>\n",
              "      <th>split_axis</th>\n",
              "      <th>sparse_oblique_projection_density_factor</th>\n",
              "      <th>sparse_oblique_normalization</th>\n",
              "      <th>sparse_oblique_weights</th>\n",
              "      <th>categorical_algorithm</th>\n",
              "      <th>growing_strategy</th>\n",
              "      <th>max_num_nodes</th>\n",
              "      <th>sampling_method</th>\n",
              "      <th>subsample</th>\n",
              "      <th>shrinkage</th>\n",
              "      <th>min_examples</th>\n",
              "      <th>num_candidate_attributes_ratio</th>\n",
              "      <th>max_depth</th>\n",
              "    </tr>\n",
              "  </thead>\n",
              "  <tbody>\n",
              "    <tr>\n",
              "      <th>39</th>\n",
              "      <td>-0.145021</td>\n",
              "      <td>1831.622807</td>\n",
              "      <td>True</td>\n",
              "      <td>SPARSE_OBLIQUE</td>\n",
              "      <td>1.0</td>\n",
              "      <td>MIN_MAX</td>\n",
              "      <td>BINARY</td>\n",
              "      <td>RANDOM</td>\n",
              "      <td>BEST_FIRST_GLOBAL</td>\n",
              "      <td>32.0</td>\n",
              "      <td>RANDOM</td>\n",
              "      <td>0.6</td>\n",
              "      <td>0.10</td>\n",
              "      <td>10</td>\n",
              "      <td>0.9</td>\n",
              "      <td>NaN</td>\n",
              "    </tr>\n",
              "    <tr>\n",
              "      <th>24</th>\n",
              "      <td>-0.149746</td>\n",
              "      <td>1070.010266</td>\n",
              "      <td>False</td>\n",
              "      <td>SPARSE_OBLIQUE</td>\n",
              "      <td>3.0</td>\n",
              "      <td>NONE</td>\n",
              "      <td>BINARY</td>\n",
              "      <td>RANDOM</td>\n",
              "      <td>BEST_FIRST_GLOBAL</td>\n",
              "      <td>32.0</td>\n",
              "      <td>RANDOM</td>\n",
              "      <td>0.6</td>\n",
              "      <td>0.10</td>\n",
              "      <td>7</td>\n",
              "      <td>0.5</td>\n",
              "      <td>NaN</td>\n",
              "    </tr>\n",
              "    <tr>\n",
              "      <th>2</th>\n",
              "      <td>-0.150876</td>\n",
              "      <td>207.105662</td>\n",
              "      <td>False</td>\n",
              "      <td>SPARSE_OBLIQUE</td>\n",
              "      <td>4.0</td>\n",
              "      <td>STANDARD_DEVIATION</td>\n",
              "      <td>CONTINUOUS</td>\n",
              "      <td>CART</td>\n",
              "      <td>LOCAL</td>\n",
              "      <td>NaN</td>\n",
              "      <td>RANDOM</td>\n",
              "      <td>0.8</td>\n",
              "      <td>0.05</td>\n",
              "      <td>7</td>\n",
              "      <td>1.0</td>\n",
              "      <td>3.0</td>\n",
              "    </tr>\n",
              "    <tr>\n",
              "      <th>49</th>\n",
              "      <td>-0.151032</td>\n",
              "      <td>2316.990803</td>\n",
              "      <td>False</td>\n",
              "      <td>SPARSE_OBLIQUE</td>\n",
              "      <td>3.0</td>\n",
              "      <td>MIN_MAX</td>\n",
              "      <td>CONTINUOUS</td>\n",
              "      <td>CART</td>\n",
              "      <td>LOCAL</td>\n",
              "      <td>NaN</td>\n",
              "      <td>RANDOM</td>\n",
              "      <td>0.9</td>\n",
              "      <td>0.02</td>\n",
              "      <td>5</td>\n",
              "      <td>0.2</td>\n",
              "      <td>4.0</td>\n",
              "    </tr>\n",
              "    <tr>\n",
              "      <th>36</th>\n",
              "      <td>-0.152247</td>\n",
              "      <td>1655.588400</td>\n",
              "      <td>False</td>\n",
              "      <td>SPARSE_OBLIQUE</td>\n",
              "      <td>4.0</td>\n",
              "      <td>STANDARD_DEVIATION</td>\n",
              "      <td>BINARY</td>\n",
              "      <td>CART</td>\n",
              "      <td>BEST_FIRST_GLOBAL</td>\n",
              "      <td>64.0</td>\n",
              "      <td>RANDOM</td>\n",
              "      <td>1.0</td>\n",
              "      <td>0.10</td>\n",
              "      <td>7</td>\n",
              "      <td>1.0</td>\n",
              "      <td>NaN</td>\n",
              "    </tr>\n",
              "  </tbody>\n",
              "</table>\n",
              "</div>\n",
              "      <button class=\"colab-df-convert\" onclick=\"convertToInteractive('df-e796b702-2690-403d-bfc4-da3562629e55')\"\n",
              "              title=\"Convert this dataframe to an interactive table.\"\n",
              "              style=\"display:none;\">\n",
              "        \n",
              "  <svg xmlns=\"http://www.w3.org/2000/svg\" height=\"24px\"viewBox=\"0 0 24 24\"\n",
              "       width=\"24px\">\n",
              "    <path d=\"M0 0h24v24H0V0z\" fill=\"none\"/>\n",
              "    <path d=\"M18.56 5.44l.94 2.06.94-2.06 2.06-.94-2.06-.94-.94-2.06-.94 2.06-2.06.94zm-11 1L8.5 8.5l.94-2.06 2.06-.94-2.06-.94L8.5 2.5l-.94 2.06-2.06.94zm10 10l.94 2.06.94-2.06 2.06-.94-2.06-.94-.94-2.06-.94 2.06-2.06.94z\"/><path d=\"M17.41 7.96l-1.37-1.37c-.4-.4-.92-.59-1.43-.59-.52 0-1.04.2-1.43.59L10.3 9.45l-7.72 7.72c-.78.78-.78 2.05 0 2.83L4 21.41c.39.39.9.59 1.41.59.51 0 1.02-.2 1.41-.59l7.78-7.78 2.81-2.81c.8-.78.8-2.07 0-2.86zM5.41 20L4 18.59l7.72-7.72 1.47 1.35L5.41 20z\"/>\n",
              "  </svg>\n",
              "      </button>\n",
              "      \n",
              "  <style>\n",
              "    .colab-df-container {\n",
              "      display:flex;\n",
              "      flex-wrap:wrap;\n",
              "      gap: 12px;\n",
              "    }\n",
              "\n",
              "    .colab-df-convert {\n",
              "      background-color: #E8F0FE;\n",
              "      border: none;\n",
              "      border-radius: 50%;\n",
              "      cursor: pointer;\n",
              "      display: none;\n",
              "      fill: #1967D2;\n",
              "      height: 32px;\n",
              "      padding: 0 0 0 0;\n",
              "      width: 32px;\n",
              "    }\n",
              "\n",
              "    .colab-df-convert:hover {\n",
              "      background-color: #E2EBFA;\n",
              "      box-shadow: 0px 1px 2px rgba(60, 64, 67, 0.3), 0px 1px 3px 1px rgba(60, 64, 67, 0.15);\n",
              "      fill: #174EA6;\n",
              "    }\n",
              "\n",
              "    [theme=dark] .colab-df-convert {\n",
              "      background-color: #3B4455;\n",
              "      fill: #D2E3FC;\n",
              "    }\n",
              "\n",
              "    [theme=dark] .colab-df-convert:hover {\n",
              "      background-color: #434B5C;\n",
              "      box-shadow: 0px 1px 3px 1px rgba(0, 0, 0, 0.15);\n",
              "      filter: drop-shadow(0px 1px 2px rgba(0, 0, 0, 0.3));\n",
              "      fill: #FFFFFF;\n",
              "    }\n",
              "  </style>\n",
              "\n",
              "      <script>\n",
              "        const buttonEl =\n",
              "          document.querySelector('#df-e796b702-2690-403d-bfc4-da3562629e55 button.colab-df-convert');\n",
              "        buttonEl.style.display =\n",
              "          google.colab.kernel.accessAllowed ? 'block' : 'none';\n",
              "\n",
              "        async function convertToInteractive(key) {\n",
              "          const element = document.querySelector('#df-e796b702-2690-403d-bfc4-da3562629e55');\n",
              "          const dataTable =\n",
              "            await google.colab.kernel.invokeFunction('convertToInteractive',\n",
              "                                                     [key], {});\n",
              "          if (!dataTable) return;\n",
              "\n",
              "          const docLinkHtml = 'Like what you see? Visit the ' +\n",
              "            '<a target=\"_blank\" href=https://colab.research.google.com/notebooks/data_table.ipynb>data table notebook</a>'\n",
              "            + ' to learn more about interactive tables.';\n",
              "          element.innerHTML = '';\n",
              "          dataTable['output_type'] = 'display_data';\n",
              "          await google.colab.output.renderOutput(dataTable, element);\n",
              "          const docLink = document.createElement('div');\n",
              "          docLink.innerHTML = docLinkHtml;\n",
              "          element.appendChild(docLink);\n",
              "        }\n",
              "      </script>\n",
              "    </div>\n",
              "  </div>\n",
              "  "
            ]
          },
          "metadata": {},
          "execution_count": 46
        }
      ]
    },
    {
      "cell_type": "code",
      "source": [
        "# Best hyper-parameters.\n",
        "tuning_logs[tuning_logs.best].iloc[0]"
      ],
      "metadata": {
        "id": "Kf-rq5fEHjh1",
        "outputId": "1f002ddf-062c-44db-9f98-b57fd08dffb6",
        "colab": {
          "base_uri": "https://localhost:8080/"
        }
      },
      "execution_count": null,
      "outputs": [
        {
          "output_type": "execute_result",
          "data": {
            "text/plain": [
              "score                                               -0.145021\n",
              "evaluation_time                                   1831.622807\n",
              "best                                                     True\n",
              "split_axis                                     SPARSE_OBLIQUE\n",
              "sparse_oblique_projection_density_factor                  1.0\n",
              "sparse_oblique_normalization                          MIN_MAX\n",
              "sparse_oblique_weights                                 BINARY\n",
              "categorical_algorithm                                  RANDOM\n",
              "growing_strategy                            BEST_FIRST_GLOBAL\n",
              "max_num_nodes                                            32.0\n",
              "sampling_method                                        RANDOM\n",
              "subsample                                                 0.6\n",
              "shrinkage                                                 0.1\n",
              "min_examples                                               10\n",
              "num_candidate_attributes_ratio                            0.9\n",
              "max_depth                                                 NaN\n",
              "Name: 39, dtype: object"
            ]
          },
          "metadata": {},
          "execution_count": 47
        }
      ]
    },
    {
      "cell_type": "code",
      "source": [
        "plt.figure(figsize=(10, 5))\n",
        "plt.plot(tuning_logs[\"score\"], label=\"current trial\")\n",
        "plt.plot(tuning_logs[\"score\"].cummax(), label=\"best trial\")\n",
        "plt.xlabel(\"Tuning step\")\n",
        "plt.ylabel(\"Tuning score\")\n",
        "plt.legend()\n",
        "plt.show()"
      ],
      "metadata": {
        "id": "gQMsnEa8HlWG",
        "outputId": "23fc38e3-e0ae-40b3-ffef-fad1e0d8101b",
        "colab": {
          "base_uri": "https://localhost:8080/",
          "height": 465
        }
      },
      "execution_count": null,
      "outputs": [
        {
          "output_type": "display_data",
          "data": {
            "text/plain": [
              "<Figure size 1000x500 with 1 Axes>"
            ],
            "image/png": "[encoded data removed]"
          },
          "metadata": {}
        }
      ]
    },
    {
      "cell_type": "code",
      "source": [
        "logs = tuned_model.make_inspector().training_logs()\n",
        "plt.plot([log.num_trees for log in logs], [log.evaluation.rmse for log in logs])\n",
        "plt.xlabel(\"Number of trees\")\n",
        "plt.ylabel(\"RMSE (out-of-bag)\")\n",
        "plt.show()"
      ],
      "metadata": {
        "colab": {
          "base_uri": "https://localhost:8080/",
          "height": 449
        },
        "id": "_iuZSPMmlRmj",
        "outputId": "200b6559-8b55-42cd-993e-4f63794b3f6d"
      },
      "execution_count": null,
      "outputs": [
        {
          "output_type": "display_data",
          "data": {
            "text/plain": [
              "<Figure size 640x480 with 1 Axes>"
            ],
            "image/png": "[encoded data removed]"
          },
          "metadata": {}
        }
      ]
    },
    {
      "cell_type": "markdown",
      "source": [
        "#### Now retrain the model with the best hyperparameters using all the data"
      ],
      "metadata": {
        "id": "A-aH3We5PKXC"
      }
    },
    {
      "cell_type": "code",
      "source": [
        "## Write the hyperparameters to a dictionary\n",
        "best_hyper_parameters = tuning_logs[tuning_logs.best].iloc[0,3:].to_dict()\n",
        "print(best_hyper_parameters)\n",
        "\n",
        "del best_hyper_parameters['max_depth']\n",
        "best_hyper_parameters['max_num_nodes'] = int(best_hyper_parameters['max_num_nodes'])"
      ],
      "metadata": {
        "colab": {
          "base_uri": "https://localhost:8080/"
        },
        "id": "8IkHk2v7OEOA",
        "outputId": "8b81b803-deb9-4122-fc5d-f97e7b594a79"
      },
      "execution_count": null,
      "outputs": [
        {
          "output_type": "stream",
          "name": "stdout",
          "text": [
            "{'split_axis': 'SPARSE_OBLIQUE', 'sparse_oblique_projection_density_factor': 1.0, 'sparse_oblique_normalization': 'MIN_MAX', 'sparse_oblique_weights': 'BINARY', 'categorical_algorithm': 'RANDOM', 'growing_strategy': 'BEST_FIRST_GLOBAL', 'max_num_nodes': 32.0, 'sampling_method': 'RANDOM', 'subsample': 0.6, 'shrinkage': 0.1, 'min_examples': 10, 'num_candidate_attributes_ratio': 0.9, 'max_depth': nan}\n"
          ]
        }
      ]
    },
    {
      "cell_type": "code",
      "source": [
        "best_model = tfdf.keras.GradientBoostedTreesModel(**best_hyper_parameters, task = tfdf.keras.Task.REGRESSION)\n",
        "all_ds = tfdf.keras.pd_dataframe_to_tf_dataset(logy_dataset_df, label='LogSalePrice', task = tfdf.keras.Task.REGRESSION)\n",
        "best_model.fit(all_ds, verbose=2)"
      ],
      "metadata": {
        "colab": {
          "base_uri": "https://localhost:8080/"
        },
        "id": "hZmUtBkGPJj-",
        "outputId": "41d16214-0592-4599-e1fa-1ecc8b394adc"
      },
      "execution_count": null,
      "outputs": [
        {
          "output_type": "stream",
          "name": "stdout",
          "text": [
            "Use /tmp/tmpp1wfc703 as temporary training directory\n",
            "Reading training dataset...\n",
            "Training tensor examples:\n",
            "Features: {'MSSubClass': <tf.Tensor 'data:0' shape=(None,) dtype=string>, 'MSZoning': <tf.Tensor 'data_1:0' shape=(None,) dtype=string>, 'LotFrontage': <tf.Tensor 'data_2:0' shape=(None,) dtype=float64>, 'LotArea': <tf.Tensor 'data_3:0' shape=(None,) dtype=int64>, 'Street': <tf.Tensor 'data_4:0' shape=(None,) dtype=string>, 'Alley': <tf.Tensor 'data_5:0' shape=(None,) dtype=string>, 'LotShape': <tf.Tensor 'data_6:0' shape=(None,) dtype=string>, 'LandContour': <tf.Tensor 'data_7:0' shape=(None,) dtype=string>, 'Utilities': <tf.Tensor 'data_8:0' shape=(None,) dtype=string>, 'LotConfig': <tf.Tensor 'data_9:0' shape=(None,) dtype=string>, 'LandSlope': <tf.Tensor 'data_10:0' shape=(None,) dtype=string>, 'Neighborhood': <tf.Tensor 'data_11:0' shape=(None,) dtype=string>, 'Condition1': <tf.Tensor 'data_12:0' shape=(None,) dtype=string>, 'Condition2': <tf.Tensor 'data_13:0' shape=(None,) dtype=string>, 'BldgType': <tf.Tensor 'data_14:0' shape=(None,) dtype=string>, 'HouseStyle': <tf.Tensor 'data_15:0' shape=(None,) dtype=string>, 'OverallQual': <tf.Tensor 'data_16:0' shape=(None,) dtype=int64>, 'OverallCond': <tf.Tensor 'data_17:0' shape=(None,) dtype=int64>, 'YearBuilt': <tf.Tensor 'data_18:0' shape=(None,) dtype=int64>, 'YearRemodAdd': <tf.Tensor 'data_19:0' shape=(None,) dtype=int64>, 'RoofStyle': <tf.Tensor 'data_20:0' shape=(None,) dtype=string>, 'RoofMatl': <tf.Tensor 'data_21:0' shape=(None,) dtype=string>, 'Exterior1st': <tf.Tensor 'data_22:0' shape=(None,) dtype=string>, 'Exterior2nd': <tf.Tensor 'data_23:0' shape=(None,) dtype=string>, 'MasVnrType': <tf.Tensor 'data_24:0' shape=(None,) dtype=string>, 'MasVnrArea': <tf.Tensor 'data_25:0' shape=(None,) dtype=float64>, 'ExterQual': <tf.Tensor 'data_26:0' shape=(None,) dtype=string>, 'ExterCond': <tf.Tensor 'data_27:0' shape=(None,) dtype=string>, 'Foundation': <tf.Tensor 'data_28:0' shape=(None,) dtype=string>, 'BsmtQual': <tf.Tensor 'data_29:0' shape=(None,) dtype=string>, 'BsmtCond': <tf.Tensor 'data_30:0' shape=(None,) dtype=string>, 'BsmtExposure': <tf.Tensor 'data_31:0' shape=(None,) dtype=string>, 'BsmtFinType1': <tf.Tensor 'data_32:0' shape=(None,) dtype=string>, 'BsmtFinSF1': <tf.Tensor 'data_33:0' shape=(None,) dtype=int64>, 'BsmtFinType2': <tf.Tensor 'data_34:0' shape=(None,) dtype=string>, 'BsmtFinSF2': <tf.Tensor 'data_35:0' shape=(None,) dtype=int64>, 'BsmtUnfSF': <tf.Tensor 'data_36:0' shape=(None,) dtype=int64>, 'TotalBsmtSF': <tf.Tensor 'data_37:0' shape=(None,) dtype=int64>, 'Heating': <tf.Tensor 'data_38:0' shape=(None,) dtype=string>, 'HeatingQC': <tf.Tensor 'data_39:0' shape=(None,) dtype=string>, 'CentralAir': <tf.Tensor 'data_40:0' shape=(None,) dtype=string>, 'Electrical': <tf.Tensor 'data_41:0' shape=(None,) dtype=string>, '1stFlrSF': <tf.Tensor 'data_42:0' shape=(None,) dtype=int64>, '2ndFlrSF': <tf.Tensor 'data_43:0' shape=(None,) dtype=int64>, 'LowQualFinSF': <tf.Tensor 'data_44:0' shape=(None,) dtype=int64>, 'GrLivArea': <tf.Tensor 'data_45:0' shape=(None,) dtype=int64>, 'BsmtFullBath': <tf.Tensor 'data_46:0' shape=(None,) dtype=int64>, 'BsmtHalfBath': <tf.Tensor 'data_47:0' shape=(None,) dtype=int64>, 'FullBath': <tf.Tensor 'data_48:0' shape=(None,) dtype=int64>, 'HalfBath': <tf.Tensor 'data_49:0' shape=(None,) dtype=int64>, 'BedroomAbvGr': <tf.Tensor 'data_50:0' shape=(None,) dtype=int64>, 'KitchenAbvGr': <tf.Tensor 'data_51:0' shape=(None,) dtype=int64>, 'KitchenQual': <tf.Tensor 'data_52:0' shape=(None,) dtype=string>, 'TotRmsAbvGrd': <tf.Tensor 'data_53:0' shape=(None,) dtype=int64>, 'Functional': <tf.Tensor 'data_54:0' shape=(None,) dtype=string>, 'Fireplaces': <tf.Tensor 'data_55:0' shape=(None,) dtype=int64>, 'FireplaceQu': <tf.Tensor 'data_56:0' shape=(None,) dtype=string>, 'GarageType': <tf.Tensor 'data_57:0' shape=(None,) dtype=string>, 'GarageYrBlt': <tf.Tensor 'data_58:0' shape=(None,) dtype=float64>, 'GarageFinish': <tf.Tensor 'data_59:0' shape=(None,) dtype=string>, 'GarageCars': <tf.Tensor 'data_60:0' shape=(None,) dtype=int64>, 'GarageArea': <tf.Tensor 'data_61:0' shape=(None,) dtype=int64>, 'GarageQual': <tf.Tensor 'data_62:0' shape=(None,) dtype=string>, 'GarageCond': <tf.Tensor 'data_63:0' shape=(None,) dtype=string>, 'PavedDrive': <tf.Tensor 'data_64:0' shape=(None,) dtype=string>, 'WoodDeckSF': <tf.Tensor 'data_65:0' shape=(None,) dtype=int64>, 'OpenPorchSF': <tf.Tensor 'data_66:0' shape=(None,) dtype=int64>, 'EnclosedPorch': <tf.Tensor 'data_67:0' shape=(None,) dtype=int64>, '3SsnPorch': <tf.Tensor 'data_68:0' shape=(None,) dtype=int64>, 'ScreenPorch': <tf.Tensor 'data_69:0' shape=(None,) dtype=int64>, 'PoolArea': <tf.Tensor 'data_70:0' shape=(None,) dtype=int64>, 'PoolQC': <tf.Tensor 'data_71:0' shape=(None,) dtype=string>, 'Fence': <tf.Tensor 'data_72:0' shape=(None,) dtype=string>, 'MiscFeature': <tf.Tensor 'data_73:0' shape=(None,) dtype=string>, 'MiscVal': <tf.Tensor 'data_74:0' shape=(None,) dtype=int64>, 'MoSold': <tf.Tensor 'data_75:0' shape=(None,) dtype=int64>, 'YrSold': <tf.Tensor 'data_76:0' shape=(None,) dtype=int64>, 'SaleType': <tf.Tensor 'data_77:0' shape=(None,) dtype=string>, 'SaleCondition': <tf.Tensor 'data_78:0' shape=(None,) dtype=string>}\n",
            "Label: Tensor(\"data_79:0\", shape=(None,), dtype=float64)\n",
            "Weights: None\n",
            "Normalized tensor features:\n",
            " {'MSSubClass': SemanticTensor(semantic=<Semantic.CATEGORICAL: 2>, tensor=<tf.Tensor 'data:0' shape=(None,) dtype=string>), 'MSZoning': SemanticTensor(semantic=<Semantic.CATEGORICAL: 2>, tensor=<tf.Tensor 'data_1:0' shape=(None,) dtype=string>), 'LotFrontage': SemanticTensor(semantic=<Semantic.NUMERICAL: 1>, tensor=<tf.Tensor 'Cast:0' shape=(None,) dtype=float32>), 'LotArea': SemanticTensor(semantic=<Semantic.NUMERICAL: 1>, tensor=<tf.Tensor 'Cast_1:0' shape=(None,) dtype=float32>), 'Street': SemanticTensor(semantic=<Semantic.CATEGORICAL: 2>, tensor=<tf.Tensor 'data_4:0' shape=(None,) dtype=string>), 'Alley': SemanticTensor(semantic=<Semantic.CATEGORICAL: 2>, tensor=<tf.Tensor 'data_5:0' shape=(None,) dtype=string>), 'LotShape': SemanticTensor(semantic=<Semantic.CATEGORICAL: 2>, tensor=<tf.Tensor 'data_6:0' shape=(None,) dtype=string>), 'LandContour': SemanticTensor(semantic=<Semantic.CATEGORICAL: 2>, tensor=<tf.Tensor 'data_7:0' shape=(None,) dtype=string>), 'Utilities': SemanticTensor(semantic=<Semantic.CATEGORICAL: 2>, tensor=<tf.Tensor 'data_8:0' shape=(None,) dtype=string>), 'LotConfig': SemanticTensor(semantic=<Semantic.CATEGORICAL: 2>, tensor=<tf.Tensor 'data_9:0' shape=(None,) dtype=string>), 'LandSlope': SemanticTensor(semantic=<Semantic.CATEGORICAL: 2>, tensor=<tf.Tensor 'data_10:0' shape=(None,) dtype=string>), 'Neighborhood': SemanticTensor(semantic=<Semantic.CATEGORICAL: 2>, tensor=<tf.Tensor 'data_11:0' shape=(None,) dtype=string>), 'Condition1': SemanticTensor(semantic=<Semantic.CATEGORICAL: 2>, tensor=<tf.Tensor 'data_12:0' shape=(None,) dtype=string>), 'Condition2': SemanticTensor(semantic=<Semantic.CATEGORICAL: 2>, tensor=<tf.Tensor 'data_13:0' shape=(None,) dtype=string>), 'BldgType': SemanticTensor(semantic=<Semantic.CATEGORICAL: 2>, tensor=<tf.Tensor 'data_14:0' shape=(None,) dtype=string>), 'HouseStyle': SemanticTensor(semantic=<Semantic.CATEGORICAL: 2>, tensor=<tf.Tensor 'data_15:0' shape=(None,) dtype=string>), 'OverallQual': SemanticTensor(semantic=<Semantic.NUMERICAL: 1>, tensor=<tf.Tensor 'Cast_2:0' shape=(None,) dtype=float32>), 'OverallCond': SemanticTensor(semantic=<Semantic.NUMERICAL: 1>, tensor=<tf.Tensor 'Cast_3:0' shape=(None,) dtype=float32>), 'YearBuilt': SemanticTensor(semantic=<Semantic.NUMERICAL: 1>, tensor=<tf.Tensor 'Cast_4:0' shape=(None,) dtype=float32>), 'YearRemodAdd': SemanticTensor(semantic=<Semantic.NUMERICAL: 1>, tensor=<tf.Tensor 'Cast_5:0' shape=(None,) dtype=float32>), 'RoofStyle': SemanticTensor(semantic=<Semantic.CATEGORICAL: 2>, tensor=<tf.Tensor 'data_20:0' shape=(None,) dtype=string>), 'RoofMatl': SemanticTensor(semantic=<Semantic.CATEGORICAL: 2>, tensor=<tf.Tensor 'data_21:0' shape=(None,) dtype=string>), 'Exterior1st': SemanticTensor(semantic=<Semantic.CATEGORICAL: 2>, tensor=<tf.Tensor 'data_22:0' shape=(None,) dtype=string>), 'Exterior2nd': SemanticTensor(semantic=<Semantic.CATEGORICAL: 2>, tensor=<tf.Tensor 'data_23:0' shape=(None,) dtype=string>), 'MasVnrType': SemanticTensor(semantic=<Semantic.CATEGORICAL: 2>, tensor=<tf.Tensor 'data_24:0' shape=(None,) dtype=string>), 'MasVnrArea': SemanticTensor(semantic=<Semantic.NUMERICAL: 1>, tensor=<tf.Tensor 'Cast_6:0' shape=(None,) dtype=float32>), 'ExterQual': SemanticTensor(semantic=<Semantic.CATEGORICAL: 2>, tensor=<tf.Tensor 'data_26:0' shape=(None,) dtype=string>), 'ExterCond': SemanticTensor(semantic=<Semantic.CATEGORICAL: 2>, tensor=<tf.Tensor 'data_27:0' shape=(None,) dtype=string>), 'Foundation': SemanticTensor(semantic=<Semantic.CATEGORICAL: 2>, tensor=<tf.Tensor 'data_28:0' shape=(None,) dtype=string>), 'BsmtQual': SemanticTensor(semantic=<Semantic.CATEGORICAL: 2>, tensor=<tf.Tensor 'data_29:0' shape=(None,) dtype=string>), 'BsmtCond': SemanticTensor(semantic=<Semantic.CATEGORICAL: 2>, tensor=<tf.Tensor 'data_30:0' shape=(None,) dtype=string>), 'BsmtExposure': SemanticTensor(semantic=<Semantic.CATEGORICAL: 2>, tensor=<tf.Tensor 'data_31:0' shape=(None,) dtype=string>), 'BsmtFinType1': SemanticTensor(semantic=<Semantic.CATEGORICAL: 2>, tensor=<tf.Tensor 'data_32:0' shape=(None,) dtype=string>), 'BsmtFinSF1': SemanticTensor(semantic=<Semantic.NUMERICAL: 1>, tensor=<tf.Tensor 'Cast_7:0' shape=(None,) dtype=float32>), 'BsmtFinType2': SemanticTensor(semantic=<Semantic.CATEGORICAL: 2>, tensor=<tf.Tensor 'data_34:0' shape=(None,) dtype=string>), 'BsmtFinSF2': SemanticTensor(semantic=<Semantic.NUMERICAL: 1>, tensor=<tf.Tensor 'Cast_8:0' shape=(None,) dtype=float32>), 'BsmtUnfSF': SemanticTensor(semantic=<Semantic.NUMERICAL: 1>, tensor=<tf.Tensor 'Cast_9:0' shape=(None,) dtype=float32>), 'TotalBsmtSF': SemanticTensor(semantic=<Semantic.NUMERICAL: 1>, tensor=<tf.Tensor 'Cast_10:0' shape=(None,) dtype=float32>), 'Heating': SemanticTensor(semantic=<Semantic.CATEGORICAL: 2>, tensor=<tf.Tensor 'data_38:0' shape=(None,) dtype=string>), 'HeatingQC': SemanticTensor(semantic=<Semantic.CATEGORICAL: 2>, tensor=<tf.Tensor 'data_39:0' shape=(None,) dtype=string>), 'CentralAir': SemanticTensor(semantic=<Semantic.CATEGORICAL: 2>, tensor=<tf.Tensor 'data_40:0' shape=(None,) dtype=string>), 'Electrical': SemanticTensor(semantic=<Semantic.CATEGORICAL: 2>, tensor=<tf.Tensor 'data_41:0' shape=(None,) dtype=string>), '1stFlrSF': SemanticTensor(semantic=<Semantic.NUMERICAL: 1>, tensor=<tf.Tensor 'Cast_11:0' shape=(None,) dtype=float32>), '2ndFlrSF': SemanticTensor(semantic=<Semantic.NUMERICAL: 1>, tensor=<tf.Tensor 'Cast_12:0' shape=(None,) dtype=float32>), 'LowQualFinSF': SemanticTensor(semantic=<Semantic.NUMERICAL: 1>, tensor=<tf.Tensor 'Cast_13:0' shape=(None,) dtype=float32>), 'GrLivArea': SemanticTensor(semantic=<Semantic.NUMERICAL: 1>, tensor=<tf.Tensor 'Cast_14:0' shape=(None,) dtype=float32>), 'BsmtFullBath': SemanticTensor(semantic=<Semantic.NUMERICAL: 1>, tensor=<tf.Tensor 'Cast_15:0' shape=(None,) dtype=float32>), 'BsmtHalfBath': SemanticTensor(semantic=<Semantic.NUMERICAL: 1>, tensor=<tf.Tensor 'Cast_16:0' shape=(None,) dtype=float32>), 'FullBath': SemanticTensor(semantic=<Semantic.NUMERICAL: 1>, tensor=<tf.Tensor 'Cast_17:0' shape=(None,) dtype=float32>), 'HalfBath': SemanticTensor(semantic=<Semantic.NUMERICAL: 1>, tensor=<tf.Tensor 'Cast_18:0' shape=(None,) dtype=float32>), 'BedroomAbvGr': SemanticTensor(semantic=<Semantic.NUMERICAL: 1>, tensor=<tf.Tensor 'Cast_19:0' shape=(None,) dtype=float32>), 'KitchenAbvGr': SemanticTensor(semantic=<Semantic.NUMERICAL: 1>, tensor=<tf.Tensor 'Cast_20:0' shape=(None,) dtype=float32>), 'KitchenQual': SemanticTensor(semantic=<Semantic.CATEGORICAL: 2>, tensor=<tf.Tensor 'data_52:0' shape=(None,) dtype=string>), 'TotRmsAbvGrd': SemanticTensor(semantic=<Semantic.NUMERICAL: 1>, tensor=<tf.Tensor 'Cast_21:0' shape=(None,) dtype=float32>), 'Functional': SemanticTensor(semantic=<Semantic.CATEGORICAL: 2>, tensor=<tf.Tensor 'data_54:0' shape=(None,) dtype=string>), 'Fireplaces': SemanticTensor(semantic=<Semantic.NUMERICAL: 1>, tensor=<tf.Tensor 'Cast_22:0' shape=(None,) dtype=float32>), 'FireplaceQu': SemanticTensor(semantic=<Semantic.CATEGORICAL: 2>, tensor=<tf.Tensor 'data_56:0' shape=(None,) dtype=string>), 'GarageType': SemanticTensor(semantic=<Semantic.CATEGORICAL: 2>, tensor=<tf.Tensor 'data_57:0' shape=(None,) dtype=string>), 'GarageYrBlt': SemanticTensor(semantic=<Semantic.NUMERICAL: 1>, tensor=<tf.Tensor 'Cast_23:0' shape=(None,) dtype=float32>), 'GarageFinish': SemanticTensor(semantic=<Semantic.CATEGORICAL: 2>, tensor=<tf.Tensor 'data_59:0' shape=(None,) dtype=string>), 'GarageCars': SemanticTensor(semantic=<Semantic.NUMERICAL: 1>, tensor=<tf.Tensor 'Cast_24:0' shape=(None,) dtype=float32>), 'GarageArea': SemanticTensor(semantic=<Semantic.NUMERICAL: 1>, tensor=<tf.Tensor 'Cast_25:0' shape=(None,) dtype=float32>), 'GarageQual': SemanticTensor(semantic=<Semantic.CATEGORICAL: 2>, tensor=<tf.Tensor 'data_62:0' shape=(None,) dtype=string>), 'GarageCond': SemanticTensor(semantic=<Semantic.CATEGORICAL: 2>, tensor=<tf.Tensor 'data_63:0' shape=(None,) dtype=string>), 'PavedDrive': SemanticTensor(semantic=<Semantic.CATEGORICAL: 2>, tensor=<tf.Tensor 'data_64:0' shape=(None,) dtype=string>), 'WoodDeckSF': SemanticTensor(semantic=<Semantic.NUMERICAL: 1>, tensor=<tf.Tensor 'Cast_26:0' shape=(None,) dtype=float32>), 'OpenPorchSF': SemanticTensor(semantic=<Semantic.NUMERICAL: 1>, tensor=<tf.Tensor 'Cast_27:0' shape=(None,) dtype=float32>), 'EnclosedPorch': SemanticTensor(semantic=<Semantic.NUMERICAL: 1>, tensor=<tf.Tensor 'Cast_28:0' shape=(None,) dtype=float32>), '3SsnPorch': SemanticTensor(semantic=<Semantic.NUMERICAL: 1>, tensor=<tf.Tensor 'Cast_29:0' shape=(None,) dtype=float32>), 'ScreenPorch': SemanticTensor(semantic=<Semantic.NUMERICAL: 1>, tensor=<tf.Tensor 'Cast_30:0' shape=(None,) dtype=float32>), 'PoolArea': SemanticTensor(semantic=<Semantic.NUMERICAL: 1>, tensor=<tf.Tensor 'Cast_31:0' shape=(None,) dtype=float32>), 'PoolQC': SemanticTensor(semantic=<Semantic.CATEGORICAL: 2>, tensor=<tf.Tensor 'data_71:0' shape=(None,) dtype=string>), 'Fence': SemanticTensor(semantic=<Semantic.CATEGORICAL: 2>, tensor=<tf.Tensor 'data_72:0' shape=(None,) dtype=string>), 'MiscFeature': SemanticTensor(semantic=<Semantic.CATEGORICAL: 2>, tensor=<tf.Tensor 'data_73:0' shape=(None,) dtype=string>), 'MiscVal': SemanticTensor(semantic=<Semantic.NUMERICAL: 1>, tensor=<tf.Tensor 'Cast_32:0' shape=(None,) dtype=float32>), 'MoSold': SemanticTensor(semantic=<Semantic.NUMERICAL: 1>, tensor=<tf.Tensor 'Cast_33:0' shape=(None,) dtype=float32>), 'YrSold': SemanticTensor(semantic=<Semantic.NUMERICAL: 1>, tensor=<tf.Tensor 'Cast_34:0' shape=(None,) dtype=float32>), 'SaleType': SemanticTensor(semantic=<Semantic.CATEGORICAL: 2>, tensor=<tf.Tensor 'data_77:0' shape=(None,) dtype=string>), 'SaleCondition': SemanticTensor(semantic=<Semantic.CATEGORICAL: 2>, tensor=<tf.Tensor 'data_78:0' shape=(None,) dtype=string>)}\n"
          ]
        },
        {
          "output_type": "stream",
          "name": "stderr",
          "text": [
            "WARNING:tensorflow:5 out of the last 5 calls to <function CoreModel._consumes_training_examples_until_eof at 0x7f476389cee0> triggered tf.function retracing. Tracing is expensive and the excessive number of tracings could be due to (1) creating @tf.function repeatedly in a loop, (2) passing tensors with different shapes, (3) passing Python objects instead of tensors. For (1), please define your @tf.function outside of the loop. For (2), @tf.function has reduce_retracing=True option that can avoid unnecessary retracing. For (3), please refer to https://www.tensorflow.org/guide/function#controlling_retracing and https://www.tensorflow.org/api_docs/python/tf/function for  more details.\n"
          ]
        },
        {
          "output_type": "stream",
          "name": "stdout",
          "text": [
            "Training dataset read in 0:00:00.830726. Found 1460 examples.\n",
            "Training model...\n"
          ]
        },
        {
          "output_type": "stream",
          "name": "stderr",
          "text": [
            "[INFO 23-05-25 00:38:56.1969 UTC kernel.cc:773] Start Yggdrasil model training\n",
            "[INFO 23-05-25 00:38:56.1969 UTC kernel.cc:774] Collect training examples\n",
            "[INFO 23-05-25 00:38:56.1969 UTC kernel.cc:787] Dataspec guide:\n",
            "column_guides {\n",
            "  column_name_pattern: \"^__LABEL$\"\n",
            "  type: NUMERICAL\n",
            "}\n",
            "default_column_guide {\n",
            "  categorial {\n",
            "    max_vocab_count: 2000\n",
            "  }\n",
            "  discretized_numerical {\n",
            "    maximum_num_bins: 255\n",
            "  }\n",
            "}\n",
            "ignore_columns_without_guides: false\n",
            "detect_numerical_as_discretized_numerical: false\n",
            "\n",
            "[INFO 23-05-25 00:38:56.1974 UTC kernel.cc:393] Number of batches: 2\n",
            "[INFO 23-05-25 00:38:56.1974 UTC kernel.cc:394] Number of examples: 1460\n",
            "[INFO 23-05-25 00:38:56.2012 UTC data_spec_inference.cc:305] 1 item(s) have been pruned (i.e. they are considered out of dictionary) for the column BsmtCond (3 item(s) left) because min_value_count=5 and max_number_of_unique_values=2000\n",
            "[INFO 23-05-25 00:38:56.2012 UTC data_spec_inference.cc:305] 1 item(s) have been pruned (i.e. they are considered out of dictionary) for the column Condition1 (8 item(s) left) because min_value_count=5 and max_number_of_unique_values=2000\n",
            "[INFO 23-05-25 00:38:56.2013 UTC data_spec_inference.cc:305] 6 item(s) have been pruned (i.e. they are considered out of dictionary) for the column Condition2 (2 item(s) left) because min_value_count=5 and max_number_of_unique_values=2000\n",
            "[INFO 23-05-25 00:38:56.2013 UTC data_spec_inference.cc:305] 2 item(s) have been pruned (i.e. they are considered out of dictionary) for the column Electrical (3 item(s) left) because min_value_count=5 and max_number_of_unique_values=2000\n",
            "[INFO 23-05-25 00:38:56.2013 UTC data_spec_inference.cc:305] 2 item(s) have been pruned (i.e. they are considered out of dictionary) for the column ExterCond (3 item(s) left) because min_value_count=5 and max_number_of_unique_values=2000\n",
            "[INFO 23-05-25 00:38:56.2013 UTC data_spec_inference.cc:305] 5 item(s) have been pruned (i.e. they are considered out of dictionary) for the column Exterior1st (10 item(s) left) because min_value_count=5 and max_number_of_unique_values=2000\n",
            "[INFO 23-05-25 00:38:56.2014 UTC data_spec_inference.cc:305] 3 item(s) have been pruned (i.e. they are considered out of dictionary) for the column Exterior2nd (13 item(s) left) because min_value_count=5 and max_number_of_unique_values=2000\n",
            "[INFO 23-05-25 00:38:56.2014 UTC data_spec_inference.cc:305] 1 item(s) have been pruned (i.e. they are considered out of dictionary) for the column Foundation (5 item(s) left) because min_value_count=5 and max_number_of_unique_values=2000\n",
            "[INFO 23-05-25 00:38:56.2014 UTC data_spec_inference.cc:305] 1 item(s) have been pruned (i.e. they are considered out of dictionary) for the column Functional (6 item(s) left) because min_value_count=5 and max_number_of_unique_values=2000\n",
            "[INFO 23-05-25 00:38:56.2014 UTC data_spec_inference.cc:305] 1 item(s) have been pruned (i.e. they are considered out of dictionary) for the column GarageCond (4 item(s) left) because min_value_count=5 and max_number_of_unique_values=2000\n",
            "[INFO 23-05-25 00:38:56.2014 UTC data_spec_inference.cc:305] 2 item(s) have been pruned (i.e. they are considered out of dictionary) for the column GarageQual (3 item(s) left) because min_value_count=5 and max_number_of_unique_values=2000\n",
            "[INFO 23-05-25 00:38:56.2015 UTC data_spec_inference.cc:305] 3 item(s) have been pruned (i.e. they are considered out of dictionary) for the column Heating (3 item(s) left) because min_value_count=5 and max_number_of_unique_values=2000\n",
            "[INFO 23-05-25 00:38:56.2015 UTC data_spec_inference.cc:305] 1 item(s) have been pruned (i.e. they are considered out of dictionary) for the column HeatingQC (4 item(s) left) because min_value_count=5 and max_number_of_unique_values=2000\n",
            "[INFO 23-05-25 00:38:56.2015 UTC data_spec_inference.cc:305] 1 item(s) have been pruned (i.e. they are considered out of dictionary) for the column LotConfig (4 item(s) left) because min_value_count=5 and max_number_of_unique_values=2000\n",
            "[INFO 23-05-25 00:38:56.2016 UTC data_spec_inference.cc:305] 1 item(s) have been pruned (i.e. they are considered out of dictionary) for the column MSSubClass (14 item(s) left) because min_value_count=5 and max_number_of_unique_values=2000\n",
            "[INFO 23-05-25 00:38:56.2016 UTC data_spec_inference.cc:305] 3 item(s) have been pruned (i.e. they are considered out of dictionary) for the column MiscFeature (1 item(s) left) because min_value_count=5 and max_number_of_unique_values=2000\n",
            "[INFO 23-05-25 00:38:56.2017 UTC data_spec_inference.cc:305] 1 item(s) have been pruned (i.e. they are considered out of dictionary) for the column Neighborhood (24 item(s) left) because min_value_count=5 and max_number_of_unique_values=2000\n",
            "[INFO 23-05-25 00:38:56.2017 UTC data_spec_inference.cc:305] 3 item(s) have been pruned (i.e. they are considered out of dictionary) for the column PoolQC (0 item(s) left) because min_value_count=5 and max_number_of_unique_values=2000\n",
            "[INFO 23-05-25 00:38:56.2017 UTC data_spec_inference.cc:305] 4 item(s) have been pruned (i.e. they are considered out of dictionary) for the column RoofMatl (4 item(s) left) because min_value_count=5 and max_number_of_unique_values=2000\n",
            "[INFO 23-05-25 00:38:56.2017 UTC data_spec_inference.cc:305] 1 item(s) have been pruned (i.e. they are considered out of dictionary) for the column RoofStyle (5 item(s) left) because min_value_count=5 and max_number_of_unique_values=2000\n",
            "[INFO 23-05-25 00:38:56.2017 UTC data_spec_inference.cc:305] 1 item(s) have been pruned (i.e. they are considered out of dictionary) for the column SaleCondition (5 item(s) left) because min_value_count=5 and max_number_of_unique_values=2000\n",
            "[INFO 23-05-25 00:38:56.2018 UTC data_spec_inference.cc:305] 3 item(s) have been pruned (i.e. they are considered out of dictionary) for the column SaleType (6 item(s) left) because min_value_count=5 and max_number_of_unique_values=2000\n",
            "[INFO 23-05-25 00:38:56.2018 UTC data_spec_inference.cc:305] 1 item(s) have been pruned (i.e. they are considered out of dictionary) for the column Utilities (1 item(s) left) because min_value_count=5 and max_number_of_unique_values=2000\n",
            "[INFO 23-05-25 00:38:56.2032 UTC kernel.cc:794] Training dataset:\n",
            "Number of records: 1460\n",
            "Number of columns: 80\n",
            "\n",
            "Number of columns by type:\n",
            "\tCATEGORICAL: 44 (55%)\n",
            "\tNUMERICAL: 36 (45%)\n",
            "\n",
            "Columns:\n",
            "\n",
            "CATEGORICAL: 44 (55%)\n",
            "\t3: \"Alley\" CATEGORICAL num-nas:1369 (93.7671%) has-dict vocab-size:3 zero-ood-items most-frequent:\"Grvl\" 50 (54.9451%)\n",
            "\t5: \"BldgType\" CATEGORICAL has-dict vocab-size:6 zero-ood-items most-frequent:\"1Fam\" 1220 (83.5616%)\n",
            "\t6: \"BsmtCond\" CATEGORICAL num-nas:37 (2.53425%) has-dict vocab-size:4 num-oods:1 (0.0702741%) most-frequent:\"TA\" 1311 (92.1293%)\n",
            "\t7: \"BsmtExposure\" CATEGORICAL num-nas:38 (2.60274%) has-dict vocab-size:5 zero-ood-items most-frequent:\"No\" 953 (67.0183%)\n",
            "\t10: \"BsmtFinType1\" CATEGORICAL num-nas:37 (2.53425%) has-dict vocab-size:7 zero-ood-items most-frequent:\"Unf\" 430 (30.2178%)\n",
            "\t11: \"BsmtFinType2\" CATEGORICAL num-nas:38 (2.60274%) has-dict vocab-size:7 zero-ood-items most-frequent:\"Unf\" 1256 (88.3263%)\n",
            "\t14: \"BsmtQual\" CATEGORICAL num-nas:37 (2.53425%) has-dict vocab-size:5 zero-ood-items most-frequent:\"TA\" 649 (45.6079%)\n",
            "\t16: \"CentralAir\" CATEGORICAL has-dict vocab-size:3 zero-ood-items most-frequent:\"Y\" 1365 (93.4932%)\n",
            "\t17: \"Condition1\" CATEGORICAL has-dict vocab-size:9 num-oods:1 (0.0684932%) most-frequent:\"Norm\" 1260 (86.3014%)\n",
            "\t18: \"Condition2\" CATEGORICAL has-dict vocab-size:3 num-oods:6 (0.410959%) most-frequent:\"Norm\" 1445 (98.9726%)\n",
            "\t19: \"Electrical\" CATEGORICAL num-nas:1 (0.0684932%) has-dict vocab-size:4 num-oods:2 (0.13708%) most-frequent:\"SBrkr\" 1334 (91.4325%)\n",
            "\t21: \"ExterCond\" CATEGORICAL has-dict vocab-size:4 num-oods:2 (0.136986%) most-frequent:\"TA\" 1282 (87.8082%)\n",
            "\t22: \"ExterQual\" CATEGORICAL has-dict vocab-size:5 zero-ood-items most-frequent:\"TA\" 906 (62.0548%)\n",
            "\t23: \"Exterior1st\" CATEGORICAL has-dict vocab-size:11 num-oods:5 (0.342466%) most-frequent:\"VinylSd\" 515 (35.274%)\n",
            "\t24: \"Exterior2nd\" CATEGORICAL has-dict vocab-size:14 num-oods:3 (0.205479%) most-frequent:\"VinylSd\" 504 (34.5205%)\n",
            "\t25: \"Fence\" CATEGORICAL num-nas:1179 (80.7534%) has-dict vocab-size:5 zero-ood-items most-frequent:\"MnPrv\" 157 (55.8719%)\n",
            "\t26: \"FireplaceQu\" CATEGORICAL num-nas:690 (47.2603%) has-dict vocab-size:6 zero-ood-items most-frequent:\"Gd\" 380 (49.3506%)\n",
            "\t28: \"Foundation\" CATEGORICAL has-dict vocab-size:6 num-oods:1 (0.0684932%) most-frequent:\"PConc\" 647 (44.3151%)\n",
            "\t30: \"Functional\" CATEGORICAL has-dict vocab-size:7 num-oods:1 (0.0684932%) most-frequent:\"Typ\" 1360 (93.1507%)\n",
            "\t33: \"GarageCond\" CATEGORICAL num-nas:81 (5.54795%) has-dict vocab-size:5 num-oods:1 (0.0725163%) most-frequent:\"TA\" 1326 (96.1566%)\n",
            "\t34: \"GarageFinish\" CATEGORICAL num-nas:81 (5.54795%) has-dict vocab-size:4 zero-ood-items most-frequent:\"Unf\" 605 (43.8724%)\n",
            "\t35: \"GarageQual\" CATEGORICAL num-nas:81 (5.54795%) has-dict vocab-size:4 num-oods:2 (0.145033%) most-frequent:\"TA\" 1311 (95.0689%)\n",
            "\t36: \"GarageType\" CATEGORICAL num-nas:81 (5.54795%) has-dict vocab-size:7 zero-ood-items most-frequent:\"Attchd\" 870 (63.0892%)\n",
            "\t40: \"Heating\" CATEGORICAL has-dict vocab-size:4 num-oods:3 (0.205479%) most-frequent:\"GasA\" 1428 (97.8082%)\n",
            "\t41: \"HeatingQC\" CATEGORICAL has-dict vocab-size:5 num-oods:1 (0.0684932%) most-frequent:\"Ex\" 741 (50.7534%)\n",
            "\t42: \"HouseStyle\" CATEGORICAL has-dict vocab-size:9 zero-ood-items most-frequent:\"1Story\" 726 (49.726%)\n",
            "\t44: \"KitchenQual\" CATEGORICAL has-dict vocab-size:5 zero-ood-items most-frequent:\"TA\" 735 (50.3425%)\n",
            "\t45: \"LandContour\" CATEGORICAL has-dict vocab-size:5 zero-ood-items most-frequent:\"Lvl\" 1311 (89.7945%)\n",
            "\t46: \"LandSlope\" CATEGORICAL has-dict vocab-size:4 zero-ood-items most-frequent:\"Gtl\" 1382 (94.6575%)\n",
            "\t48: \"LotConfig\" CATEGORICAL has-dict vocab-size:5 num-oods:1 (0.0684932%) most-frequent:\"Inside\" 1052 (72.0548%)\n",
            "\t50: \"LotShape\" CATEGORICAL has-dict vocab-size:5 zero-ood-items most-frequent:\"Reg\" 925 (63.3562%)\n",
            "\t52: \"MSSubClass\" CATEGORICAL has-dict vocab-size:15 num-oods:1 (0.0684932%) most-frequent:\"20\" 536 (36.7123%)\n",
            "\t53: \"MSZoning\" CATEGORICAL has-dict vocab-size:6 zero-ood-items most-frequent:\"RL\" 1151 (78.8356%)\n",
            "\t55: \"MasVnrType\" CATEGORICAL num-nas:8 (0.547945%) has-dict vocab-size:5 zero-ood-items most-frequent:\"None\" 864 (59.5041%)\n",
            "\t56: \"MiscFeature\" CATEGORICAL num-nas:1406 (96.3014%) has-dict vocab-size:2 num-oods:3 (5.55556%) most-frequent:\"Shed\" 49 (90.7407%)\n",
            "\t59: \"Neighborhood\" CATEGORICAL has-dict vocab-size:25 num-oods:1 (0.0684932%) most-frequent:\"NAmes\" 225 (15.411%)\n",
            "\t63: \"PavedDrive\" CATEGORICAL has-dict vocab-size:4 zero-ood-items most-frequent:\"Y\" 1340 (91.7808%)\n",
            "\t65: \"PoolQC\" CATEGORICAL num-nas:1453 (99.5205%) has-dict vocab-size:1 num-oods:3 (42.8571%)\n",
            "\t66: \"RoofMatl\" CATEGORICAL has-dict vocab-size:5 num-oods:4 (0.273973%) most-frequent:\"CompShg\" 1434 (98.2192%)\n",
            "\t67: \"RoofStyle\" CATEGORICAL has-dict vocab-size:6 num-oods:1 (0.0684932%) most-frequent:\"Gable\" 1141 (78.1507%)\n",
            "\t68: \"SaleCondition\" CATEGORICAL has-dict vocab-size:6 num-oods:1 (0.0684932%) most-frequent:\"Normal\" 1198 (82.0548%)\n",
            "\t69: \"SaleType\" CATEGORICAL has-dict vocab-size:7 num-oods:3 (0.205479%) most-frequent:\"WD\" 1267 (86.7808%)\n",
            "\t71: \"Street\" CATEGORICAL has-dict vocab-size:3 zero-ood-items most-frequent:\"Pave\" 1454 (99.589%)\n",
            "\t74: \"Utilities\" CATEGORICAL has-dict vocab-size:2 num-oods:1 (0.0684932%) most-frequent:\"AllPub\" 1459 (99.9315%)\n",
            "\n",
            "NUMERICAL: 36 (45%)\n",
            "\t0: \"1stFlrSF\" NUMERICAL mean:1162.63 min:334 max:4692 sd:386.455\n",
            "\t1: \"2ndFlrSF\" NUMERICAL mean:346.992 min:0 max:2065 sd:436.379\n",
            "\t2: \"3SsnPorch\" NUMERICAL mean:3.40959 min:0 max:508 sd:29.3073\n",
            "\t4: \"BedroomAbvGr\" NUMERICAL mean:2.86644 min:0 max:8 sd:0.815499\n",
            "\t8: \"BsmtFinSF1\" NUMERICAL mean:443.64 min:0 max:5644 sd:455.942\n",
            "\t9: \"BsmtFinSF2\" NUMERICAL mean:46.5493 min:0 max:1474 sd:161.264\n",
            "\t12: \"BsmtFullBath\" NUMERICAL mean:0.425342 min:0 max:3 sd:0.518733\n",
            "\t13: \"BsmtHalfBath\" NUMERICAL mean:0.0575342 min:0 max:2 sd:0.238671\n",
            "\t15: \"BsmtUnfSF\" NUMERICAL mean:567.24 min:0 max:2336 sd:441.716\n",
            "\t20: \"EnclosedPorch\" NUMERICAL mean:21.9541 min:0 max:552 sd:61.0982\n",
            "\t27: \"Fireplaces\" NUMERICAL mean:0.613014 min:0 max:3 sd:0.644446\n",
            "\t29: \"FullBath\" NUMERICAL mean:1.56507 min:0 max:3 sd:0.550727\n",
            "\t31: \"GarageArea\" NUMERICAL mean:472.98 min:0 max:1418 sd:213.732\n",
            "\t32: \"GarageCars\" NUMERICAL mean:1.76712 min:0 max:4 sd:0.747059\n",
            "\t37: \"GarageYrBlt\" NUMERICAL num-nas:81 (5.54795%) mean:1978.51 min:1900 max:2010 sd:24.6808\n",
            "\t38: \"GrLivArea\" NUMERICAL mean:1515.46 min:334 max:5642 sd:525.3\n",
            "\t39: \"HalfBath\" NUMERICAL mean:0.382877 min:0 max:2 sd:0.502713\n",
            "\t43: \"KitchenAbvGr\" NUMERICAL mean:1.04658 min:0 max:3 sd:0.220263\n",
            "\t47: \"LotArea\" NUMERICAL mean:10516.8 min:1300 max:215245 sd:9977.85\n",
            "\t49: \"LotFrontage\" NUMERICAL num-nas:259 (17.7397%) mean:70.05 min:21 max:313 sd:24.2746\n",
            "\t51: \"LowQualFinSF\" NUMERICAL mean:5.84452 min:0 max:572 sd:48.6064\n",
            "\t54: \"MasVnrArea\" NUMERICAL num-nas:8 (0.547945%) mean:103.685 min:0 max:1600 sd:181.004\n",
            "\t57: \"MiscVal\" NUMERICAL mean:43.489 min:0 max:15500 sd:495.953\n",
            "\t58: \"MoSold\" NUMERICAL mean:6.32192 min:1 max:12 sd:2.7027\n",
            "\t60: \"OpenPorchSF\" NUMERICAL mean:46.6603 min:0 max:547 sd:66.2333\n",
            "\t61: \"OverallCond\" NUMERICAL mean:5.57534 min:1 max:9 sd:1.11242\n",
            "\t62: \"OverallQual\" NUMERICAL mean:6.09932 min:1 max:10 sd:1.38252\n",
            "\t64: \"PoolArea\" NUMERICAL mean:2.7589 min:0 max:738 sd:40.1635\n",
            "\t70: \"ScreenPorch\" NUMERICAL mean:15.061 min:0 max:480 sd:55.7383\n",
            "\t72: \"TotRmsAbvGrd\" NUMERICAL mean:6.51781 min:2 max:14 sd:1.62484\n",
            "\t73: \"TotalBsmtSF\" NUMERICAL mean:1057.43 min:0 max:6110 sd:438.555\n",
            "\t75: \"WoodDeckSF\" NUMERICAL mean:94.2445 min:0 max:857 sd:125.296\n",
            "\t76: \"YearBuilt\" NUMERICAL mean:1971.27 min:1872 max:2010 sd:30.1926\n",
            "\t77: \"YearRemodAdd\" NUMERICAL mean:1984.87 min:1950 max:2010 sd:20.6383\n",
            "\t78: \"YrSold\" NUMERICAL mean:2007.82 min:2006 max:2010 sd:1.32764\n",
            "\t79: \"__LABEL\" NUMERICAL mean:12.0241 min:10.4602 max:13.5345 sd:0.399315\n",
            "\n",
            "Terminology:\n",
            "\tnas: Number of non-available (i.e. missing) values.\n",
            "\tood: Out of dictionary.\n",
            "\tmanually-defined: Attribute which type is manually defined by the user i.e. the type was not automatically inferred.\n",
            "\ttokenized: The attribute value is obtained through tokenization.\n",
            "\thas-dict: The attribute is attached to a string dictionary e.g. a categorical attribute stored as a string.\n",
            "\tvocab-size: Number of unique values.\n",
            "\n",
            "[INFO 23-05-25 00:38:56.2034 UTC kernel.cc:810] Configure learner\n",
            "[WARNING 23-05-25 00:38:56.2038 UTC gradient_boosted_trees.cc:1797] \"goss_alpha\" set but \"sampling_method\" not equal to \"GOSS\".\n",
            "[WARNING 23-05-25 00:38:56.2038 UTC gradient_boosted_trees.cc:1808] \"goss_beta\" set but \"sampling_method\" not equal to \"GOSS\".\n",
            "[WARNING 23-05-25 00:38:56.2038 UTC gradient_boosted_trees.cc:1822] \"selective_gradient_boosting_ratio\" set but \"sampling_method\" not equal to \"SELGB\".\n",
            "[INFO 23-05-25 00:38:56.2040 UTC kernel.cc:824] Training config:\n",
            "learner: \"GRADIENT_BOOSTED_TREES\"\n",
            "features: \"^1stFlrSF$\"\n",
            "features: \"^2ndFlrSF$\"\n",
            "features: \"^3SsnPorch$\"\n",
            "features: \"^Alley$\"\n",
            "features: \"^BedroomAbvGr$\"\n",
            "features: \"^BldgType$\"\n",
            "features: \"^BsmtCond$\"\n",
            "features: \"^BsmtExposure$\"\n",
            "features: \"^BsmtFinSF1$\"\n",
            "features: \"^BsmtFinSF2$\"\n",
            "features: \"^BsmtFinType1$\"\n",
            "features: \"^BsmtFinType2$\"\n",
            "features: \"^BsmtFullBath$\"\n",
            "features: \"^BsmtHalfBath$\"\n",
            "features: \"^BsmtQual$\"\n",
            "features: \"^BsmtUnfSF$\"\n",
            "features: \"^CentralAir$\"\n",
            "features: \"^Condition1$\"\n",
            "features: \"^Condition2$\"\n",
            "features: \"^Electrical$\"\n",
            "features: \"^EnclosedPorch$\"\n",
            "features: \"^ExterCond$\"\n",
            "features: \"^ExterQual$\"\n",
            "features: \"^Exterior1st$\"\n",
            "features: \"^Exterior2nd$\"\n",
            "features: \"^Fence$\"\n",
            "features: \"^FireplaceQu$\"\n",
            "features: \"^Fireplaces$\"\n",
            "features: \"^Foundation$\"\n",
            "features: \"^FullBath$\"\n",
            "features: \"^Functional$\"\n",
            "features: \"^GarageArea$\"\n",
            "features: \"^GarageCars$\"\n",
            "features: \"^GarageCond$\"\n",
            "features: \"^GarageFinish$\"\n",
            "features: \"^GarageQual$\"\n",
            "features: \"^GarageType$\"\n",
            "features: \"^GarageYrBlt$\"\n",
            "features: \"^GrLivArea$\"\n",
            "features: \"^HalfBath$\"\n",
            "features: \"^Heating$\"\n",
            "features: \"^HeatingQC$\"\n",
            "features: \"^HouseStyle$\"\n",
            "features: \"^KitchenAbvGr$\"\n",
            "features: \"^KitchenQual$\"\n",
            "features: \"^LandContour$\"\n",
            "features: \"^LandSlope$\"\n",
            "features: \"^LotArea$\"\n",
            "features: \"^LotConfig$\"\n",
            "features: \"^LotFrontage$\"\n",
            "features: \"^LotShape$\"\n",
            "features: \"^LowQualFinSF$\"\n",
            "features: \"^MSSubClass$\"\n",
            "features: \"^MSZoning$\"\n",
            "features: \"^MasVnrArea$\"\n",
            "features: \"^MasVnrType$\"\n",
            "features: \"^MiscFeature$\"\n",
            "features: \"^MiscVal$\"\n",
            "features: \"^MoSold$\"\n",
            "features: \"^Neighborhood$\"\n",
            "features: \"^OpenPorchSF$\"\n",
            "features: \"^OverallCond$\"\n",
            "features: \"^OverallQual$\"\n",
            "features: \"^PavedDrive$\"\n",
            "features: \"^PoolArea$\"\n",
            "features: \"^PoolQC$\"\n",
            "features: \"^RoofMatl$\"\n",
            "features: \"^RoofStyle$\"\n",
            "features: \"^SaleCondition$\"\n",
            "features: \"^SaleType$\"\n",
            "features: \"^ScreenPorch$\"\n",
            "features: \"^Street$\"\n",
            "features: \"^TotRmsAbvGrd$\"\n",
            "features: \"^TotalBsmtSF$\"\n",
            "features: \"^Utilities$\"\n",
            "features: \"^WoodDeckSF$\"\n",
            "features: \"^YearBuilt$\"\n",
            "features: \"^YearRemodAdd$\"\n",
            "features: \"^YrSold$\"\n",
            "label: \"^__LABEL$\"\n",
            "task: REGRESSION\n",
            "random_seed: 123456\n",
            "metadata {\n",
            "  framework: \"TF Keras\"\n",
            "}\n",
            "pure_serving_model: false\n",
            "[yggdrasil_decision_forests.model.gradient_boosted_trees.proto.gradient_boosted_trees_config] {\n",
            "  num_trees: 300\n",
            "  decision_tree {\n",
            "    max_depth: 6\n",
            "    min_examples: 10\n",
            "    in_split_min_examples_check: true\n",
            "    keep_non_leaf_label_distribution: true\n",
            "    missing_value_policy: GLOBAL_IMPUTATION\n",
            "    allow_na_conditions: false\n",
            "    categorical_set_greedy_forward {\n",
            "      sampling: 0.1\n",
            "      max_num_items: -1\n",
            "      min_item_frequency: 1\n",
            "    }\n",
            "    growing_strategy_best_first_global {\n",
            "      max_num_nodes: 32\n",
            "    }\n",
            "    categorical {\n",
            "      random {\n",
            "      }\n",
            "    }\n",
            "    num_candidate_attributes_ratio: 0.9\n",
            "    sparse_oblique_split {\n",
            "      projection_density_factor: 1\n",
            "      binary_weight: true\n",
            "      normalization: MIN_MAX\n",
            "    }\n",
            "    internal {\n",
            "      sorting_strategy: PRESORTED\n",
            "    }\n",
            "    uplift {\n",
            "      min_examples_in_treatment: 5\n",
            "      split_score: KULLBACK_LEIBLER\n",
            "    }\n",
            "  }\n",
            "  shrinkage: 0.1\n",
            "  loss: DEFAULT\n",
            "  validation_set_ratio: 0.1\n",
            "  validation_interval_in_trees: 1\n",
            "  early_stopping: VALIDATION_LOSS_INCREASE\n",
            "  early_stopping_num_trees_look_ahead: 30\n",
            "  l2_regularization: 0\n",
            "  lambda_loss: 1\n",
            "  mart {\n",
            "  }\n",
            "  adapt_subsample_for_maximum_training_duration: false\n",
            "  l1_regularization: 0\n",
            "  use_hessian_gain: false\n",
            "  l2_regularization_categorical: 1\n",
            "  stochastic_gradient_boosting {\n",
            "    ratio: 0.6\n",
            "  }\n",
            "  apply_link_function: true\n",
            "  compute_permutation_variable_importance: false\n",
            "  binary_focal_loss_options {\n",
            "    misprediction_exponent: 2\n",
            "    positive_sample_coefficient: 0.5\n",
            "  }\n",
            "  early_stopping_initial_iteration: 10\n",
            "}\n",
            "\n",
            "[INFO 23-05-25 00:38:56.2042 UTC kernel.cc:827] Deployment config:\n",
            "cache_path: \"/tmp/tmpp1wfc703/working_cache\"\n",
            "num_threads: 2\n",
            "try_resume_training: true\n",
            "\n",
            "[INFO 23-05-25 00:38:56.2068 UTC kernel.cc:889] Train model\n",
            "[INFO 23-05-25 00:38:56.2157 UTC gradient_boosted_trees.cc:453] Default loss set to SQUARED_ERROR\n",
            "[INFO 23-05-25 00:38:56.2158 UTC gradient_boosted_trees.cc:1079] Training gradient boosted tree on 1460 example(s) and 79 feature(s).\n",
            "[INFO 23-05-25 00:38:56.2228 UTC gradient_boosted_trees.cc:1122] 1339 examples used for training and 121 examples used for validation\n",
            "[INFO 23-05-25 00:38:56.5645 UTC gradient_boosted_trees.cc:1521] \tnum-trees:1 train-loss:0.361695 train-rmse:0.361695 valid-loss:0.415246 valid-rmse:0.415246\n",
            "[INFO 23-05-25 00:38:56.9143 UTC gradient_boosted_trees.cc:1523] \tnum-trees:2 train-loss:0.331183 train-rmse:0.331183 valid-loss:0.382306 valid-rmse:0.382306\n",
            "[INFO 23-05-25 00:39:17.2206 UTC early_stopping.cc:53] Early stop of the training because the validation loss does not decrease anymore. Best valid-loss: 0.130295\n",
            "[INFO 23-05-25 00:39:17.2208 UTC gradient_boosted_trees.cc:1573] Create final snapshot of the model at iteration 107\n",
            "[INFO 23-05-25 00:39:17.2260 UTC gradient_boosted_trees.cc:247] Truncates the model to 78 tree(s) i.e. 78  iteration(s).\n",
            "[INFO 23-05-25 00:39:17.2262 UTC gradient_boosted_trees.cc:310] Final model num-trees:78 valid-loss:0.130295 valid-rmse:0.130295\n",
            "[INFO 23-05-25 00:39:17.2294 UTC kernel.cc:926] Export model in log directory: /tmp/tmpp1wfc703 with prefix d46cc6ac492f42dc\n",
            "[INFO 23-05-25 00:39:17.2339 UTC kernel.cc:944] Save model in resources\n",
            "[INFO 23-05-25 00:39:17.2381 UTC abstract_model.cc:849] Model self evaluation:\n",
            "Number of predictions (with weights): 1\n",
            "Task: REGRESSION\n",
            "Loss (SQUARED_ERROR): 0.130295\n",
            "\n",
            "RMSE: 0.360965\n",
            "Default RMSE: : 0\n",
            "\n",
            "[INFO 23-05-25 00:39:17.3094 UTC kernel.cc:1242] Loading model from path /tmp/tmpp1wfc703/model/ with prefix d46cc6ac492f42dc\n",
            "[INFO 23-05-25 00:39:17.3201 UTC decision_forest.cc:660] Model loaded with 78 root(s), 3102 node(s), and 64 input feature(s).\n",
            "[INFO 23-05-25 00:39:17.3201 UTC abstract_model.cc:1311] Engine \"GradientBoostedTreesGeneric\" built\n",
            "[INFO 23-05-25 00:39:17.3201 UTC kernel.cc:1074] Use fast generic engine\n"
          ]
        },
        {
          "output_type": "stream",
          "name": "stdout",
          "text": [
            "Model trained in 0:00:21.138258\n",
            "Compiling model...\n"
          ]
        },
        {
          "output_type": "stream",
          "name": "stderr",
          "text": [
            "WARNING:tensorflow:5 out of the last 5 calls to <function InferenceCoreModel.make_predict_function.<locals>.predict_function_trained at 0x7f469e8e5360> triggered tf.function retracing. Tracing is expensive and the excessive number of tracings could be due to (1) creating @tf.function repeatedly in a loop, (2) passing tensors with different shapes, (3) passing Python objects instead of tensors. For (1), please define your @tf.function outside of the loop. For (2), @tf.function has reduce_retracing=True option that can avoid unnecessary retracing. For (3), please refer to https://www.tensorflow.org/guide/function#controlling_retracing and https://www.tensorflow.org/api_docs/python/tf/function for  more details.\n"
          ]
        },
        {
          "output_type": "stream",
          "name": "stdout",
          "text": [
            "Model compiled.\n"
          ]
        },
        {
          "output_type": "execute_result",
          "data": {
            "text/plain": [
              "<keras.callbacks.History at 0x7f469e885d50>"
            ]
          },
          "metadata": {},
          "execution_count": 62
        }
      ]
    },
    {
      "cell_type": "markdown",
      "source": [
        "#### Now use this best model to make prediction on test data for submission"
      ],
      "metadata": {
        "id": "XqCykPU_Wdzr"
      }
    },
    {
      "cell_type": "code",
      "source": [
        "test_file_url = \"https://raw.githubusercontent.com/lkkcpaul/BostonHousePrice/main/test.csv\"\n",
        "test_data = pd.read_csv(test_file_url)\n",
        "ids = test_data.pop('Id')\n",
        "test_data = paul_X_preprocess(test_data)\n",
        "\n",
        "test_ds = tfdf.keras.pd_dataframe_to_tf_dataset(\n",
        "    test_data,\n",
        "    task = tfdf.keras.Task.REGRESSION)\n",
        "\n",
        "preds = best_model.predict(test_ds)\n"
      ],
      "metadata": {
        "id": "3uqjI6loWk16",
        "outputId": "56793e72-f47f-448e-c6fc-a7d5ec89ea17",
        "colab": {
          "base_uri": "https://localhost:8080/"
        }
      },
      "execution_count": null,
      "outputs": [
        {
          "output_type": "stream",
          "name": "stderr",
          "text": [
            "WARNING:tensorflow:6 out of the last 6 calls to <function InferenceCoreModel.make_predict_function.<locals>.predict_function_trained at 0x7f469e8e6c20> triggered tf.function retracing. Tracing is expensive and the excessive number of tracings could be due to (1) creating @tf.function repeatedly in a loop, (2) passing tensors with different shapes, (3) passing Python objects instead of tensors. For (1), please define your @tf.function outside of the loop. For (2), @tf.function has reduce_retracing=True option that can avoid unnecessary retracing. For (3), please refer to https://www.tensorflow.org/guide/function#controlling_retracing and https://www.tensorflow.org/api_docs/python/tf/function for  more details.\n"
          ]
        },
        {
          "output_type": "stream",
          "name": "stdout",
          "text": [
            "2/2 [==============================] - 1s 41ms/step\n"
          ]
        }
      ]
    },
    {
      "cell_type": "code",
      "source": [
        "pred_SalePrice = np.exp(preds)\n",
        "output = pd.DataFrame({'Id': ids,\n",
        "                       'SalePrice': pred_SalePrice.squeeze()})\n",
        "output.head()"
      ],
      "metadata": {
        "id": "BQygdW1vW3H_",
        "outputId": "4a730872-3b49-418e-b7da-85a048f429b9",
        "colab": {
          "base_uri": "https://localhost:8080/",
          "height": 206
        }
      },
      "execution_count": null,
      "outputs": [
        {
          "output_type": "execute_result",
          "data": {
            "text/plain": [
              "     Id      SalePrice\n",
              "0  1461  120383.492188\n",
              "1  1462  148291.578125\n",
              "2  1463  201008.890625\n",
              "3  1464  192389.515625\n",
              "4  1465  187190.140625"
            ],
            "text/html": [
              "\n",
              "  <div id=\"df-a432560b-7c7e-4af3-b3d9-c0449c673505\">\n",
              "    <div class=\"colab-df-container\">\n",
              "      <div>\n",
              "<style scoped>\n",
              "    .dataframe tbody tr th:only-of-type {\n",
              "        vertical-align: middle;\n",
              "    }\n",
              "\n",
              "    .dataframe tbody tr th {\n",
              "        vertical-align: top;\n",
              "    }\n",
              "\n",
              "    .dataframe thead th {\n",
              "        text-align: right;\n",
              "    }\n",
              "</style>\n",
              "<table border=\"1\" class=\"dataframe\">\n",
              "  <thead>\n",
              "    <tr style=\"text-align: right;\">\n",
              "      <th></th>\n",
              "      <th>Id</th>\n",
              "      <th>SalePrice</th>\n",
              "    </tr>\n",
              "  </thead>\n",
              "  <tbody>\n",
              "    <tr>\n",
              "      <th>0</th>\n",
              "      <td>1461</td>\n",
              "      <td>120383.492188</td>\n",
              "    </tr>\n",
              "    <tr>\n",
              "      <th>1</th>\n",
              "      <td>1462</td>\n",
              "      <td>148291.578125</td>\n",
              "    </tr>\n",
              "    <tr>\n",
              "      <th>2</th>\n",
              "      <td>1463</td>\n",
              "      <td>201008.890625</td>\n",
              "    </tr>\n",
              "    <tr>\n",
              "      <th>3</th>\n",
              "      <td>1464</td>\n",
              "      <td>192389.515625</td>\n",
              "    </tr>\n",
              "    <tr>\n",
              "      <th>4</th>\n",
              "      <td>1465</td>\n",
              "      <td>187190.140625</td>\n",
              "    </tr>\n",
              "  </tbody>\n",
              "</table>\n",
              "</div>\n",
              "      <button class=\"colab-df-convert\" onclick=\"convertToInteractive('df-a432560b-7c7e-4af3-b3d9-c0449c673505')\"\n",
              "              title=\"Convert this dataframe to an interactive table.\"\n",
              "              style=\"display:none;\">\n",
              "        \n",
              "  <svg xmlns=\"http://www.w3.org/2000/svg\" height=\"24px\"viewBox=\"0 0 24 24\"\n",
              "       width=\"24px\">\n",
              "    <path d=\"M0 0h24v24H0V0z\" fill=\"none\"/>\n",
              "    <path d=\"M18.56 5.44l.94 2.06.94-2.06 2.06-.94-2.06-.94-.94-2.06-.94 2.06-2.06.94zm-11 1L8.5 8.5l.94-2.06 2.06-.94-2.06-.94L8.5 2.5l-.94 2.06-2.06.94zm10 10l.94 2.06.94-2.06 2.06-.94-2.06-.94-.94-2.06-.94 2.06-2.06.94z\"/><path d=\"M17.41 7.96l-1.37-1.37c-.4-.4-.92-.59-1.43-.59-.52 0-1.04.2-1.43.59L10.3 9.45l-7.72 7.72c-.78.78-.78 2.05 0 2.83L4 21.41c.39.39.9.59 1.41.59.51 0 1.02-.2 1.41-.59l7.78-7.78 2.81-2.81c.8-.78.8-2.07 0-2.86zM5.41 20L4 18.59l7.72-7.72 1.47 1.35L5.41 20z\"/>\n",
              "  </svg>\n",
              "      </button>\n",
              "      \n",
              "  <style>\n",
              "    .colab-df-container {\n",
              "      display:flex;\n",
              "      flex-wrap:wrap;\n",
              "      gap: 12px;\n",
              "    }\n",
              "\n",
              "    .colab-df-convert {\n",
              "      background-color: #E8F0FE;\n",
              "      border: none;\n",
              "      border-radius: 50%;\n",
              "      cursor: pointer;\n",
              "      display: none;\n",
              "      fill: #1967D2;\n",
              "      height: 32px;\n",
              "      padding: 0 0 0 0;\n",
              "      width: 32px;\n",
              "    }\n",
              "\n",
              "    .colab-df-convert:hover {\n",
              "      background-color: #E2EBFA;\n",
              "      box-shadow: 0px 1px 2px rgba(60, 64, 67, 0.3), 0px 1px 3px 1px rgba(60, 64, 67, 0.15);\n",
              "      fill: #174EA6;\n",
              "    }\n",
              "\n",
              "    [theme=dark] .colab-df-convert {\n",
              "      background-color: #3B4455;\n",
              "      fill: #D2E3FC;\n",
              "    }\n",
              "\n",
              "    [theme=dark] .colab-df-convert:hover {\n",
              "      background-color: #434B5C;\n",
              "      box-shadow: 0px 1px 3px 1px rgba(0, 0, 0, 0.15);\n",
              "      filter: drop-shadow(0px 1px 2px rgba(0, 0, 0, 0.3));\n",
              "      fill: #FFFFFF;\n",
              "    }\n",
              "  </style>\n",
              "\n",
              "      <script>\n",
              "        const buttonEl =\n",
              "          document.querySelector('#df-a432560b-7c7e-4af3-b3d9-c0449c673505 button.colab-df-convert');\n",
              "        buttonEl.style.display =\n",
              "          google.colab.kernel.accessAllowed ? 'block' : 'none';\n",
              "\n",
              "        async function convertToInteractive(key) {\n",
              "          const element = document.querySelector('#df-a432560b-7c7e-4af3-b3d9-c0449c673505');\n",
              "          const dataTable =\n",
              "            await google.colab.kernel.invokeFunction('convertToInteractive',\n",
              "                                                     [key], {});\n",
              "          if (!dataTable) return;\n",
              "\n",
              "          const docLinkHtml = 'Like what you see? Visit the ' +\n",
              "            '<a target=\"_blank\" href=https://colab.research.google.com/notebooks/data_table.ipynb>data table notebook</a>'\n",
              "            + ' to learn more about interactive tables.';\n",
              "          element.innerHTML = '';\n",
              "          dataTable['output_type'] = 'display_data';\n",
              "          await google.colab.output.renderOutput(dataTable, element);\n",
              "          const docLink = document.createElement('div');\n",
              "          docLink.innerHTML = docLinkHtml;\n",
              "          element.appendChild(docLink);\n",
              "        }\n",
              "      </script>\n",
              "    </div>\n",
              "  </div>\n",
              "  "
            ]
          },
          "metadata": {},
          "execution_count": 66
        }
      ]
    },
    {
      "cell_type": "code",
      "source": [
        "output.to_csv('submission.csv', index=False)"
      ],
      "metadata": {
        "id": "iHyxipXEWy09"
      },
      "execution_count": null,
      "outputs": []
    },
    {
      "cell_type": "code",
      "source": [],
      "metadata": {
        "id": "-VP0WTTPWkQU"
      },
      "execution_count": null,
      "outputs": []
    }
  ],
  "metadata": {
    "colab": {
      "provenance": [],
      "gpuType": "T4",
      "include_colab_link": true
    },
    "kernelspec": {
      "display_name": "Python 3 (ipykernel)",
      "language": "python",
      "name": "python3"
    },
    "language_info": {
      "codemirror_mode": {
        "name": "ipython",
        "version": 3
      },
      "file_extension": ".py",
      "mimetype": "text/x-python",
      "name": "python",
      "nbconvert_exporter": "python",
      "pygments_lexer": "ipython3",
      "version": "3.9.13"
    },
    "accelerator": "GPU",
    "gpuClass": "standard"
  },
  "nbformat": 4,
  "nbformat_minor": 0
}